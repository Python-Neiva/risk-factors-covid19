{
  "nbformat": 4,
  "nbformat_minor": 0,
  "metadata": {
    "colab": {
      "name": "ResearchInPython.ipynb",
      "provenance": [],
      "collapsed_sections": [],
      "toc_visible": true,
      "authorship_tag": "ABX9TyPGBbwyf/2oUKZoCD7Vr3ym",
      "include_colab_link": true
    },
    "kernelspec": {
      "name": "python3",
      "display_name": "Python 3"
    },
    "language_info": {
      "name": "python"
    }
  },
  "cells": [
    {
      "cell_type": "markdown",
      "metadata": {
        "id": "view-in-github",
        "colab_type": "text"
      },
      "source": [
        "<a href=\"https://colab.research.google.com/github/Python-Neiva/risk-factors-covid19/blob/main/ResearchInPython.ipynb\" target=\"_parent\"><img src=\"https://colab.research.google.com/assets/colab-badge.svg\" alt=\"Open In Colab\"/></a>"
      ]
    },
    {
      "cell_type": "markdown",
      "metadata": {
        "id": "iEHaKmL6r1Me"
      },
      "source": [
        "#Model"
      ]
    },
    {
      "cell_type": "code",
      "metadata": {
        "id": "U9oAju1KydJH"
      },
      "source": [
        "import pandas as pd\n",
        "import numpy as np\n",
        "from matplotlib import pyplot as plt\n",
        "from datetime import datetime\n",
        "from math import*"
      ],
      "execution_count": 4,
      "outputs": []
    },
    {
      "cell_type": "code",
      "metadata": {
        "id": "3HwOXj_GM4Pq",
        "colab": {
          "base_uri": "https://localhost:8080/"
        },
        "outputId": "1626743c-05b1-4c75-9f46-24225ba8e324"
      },
      "source": [
        "import os\n",
        "!pip install sodapy -q\n",
        "!pip install socrata-py -q\n",
        "\n",
        "from sodapy import Socrata\n",
        "from socrata.authorization import Authorization"
      ],
      "execution_count": 5,
      "outputs": [
        {
          "output_type": "stream",
          "text": [
            "  Building wheel for socrata-py (setup.py) ... \u001b[?25l\u001b[?25hdone\n"
          ],
          "name": "stdout"
        }
      ]
    },
    {
      "cell_type": "code",
      "metadata": {
        "id": "IGV_v1H8NAmR"
      },
      "source": [
        "client = Socrata(\n",
        "                \"www.datos.gov.co\",\n",
        "                \"idLwSviPi5dGMTd7GfIfW3CLU\",\n",
        "                #username=\"sebastian_romerola@fet.edu.co\",\n",
        "                #password=\"Sebastian#2018\",\n",
        "                timeout=120\n",
        "                )\n",
        "\n",
        "results = client.get(\"gt2j-8ykr\",\n",
        "                    #  ciudad_municipio_nom=\"Neiva\",\n",
        "                    #  departamento_nom=\"HUILA\",\n",
        "                    limit=100000\n",
        "                    )"
      ],
      "execution_count": 6,
      "outputs": []
    },
    {
      "cell_type": "code",
      "metadata": {
        "id": "cbtZ8Bu1PjSF"
      },
      "source": [
        "df = pd.DataFrame.from_records(results)"
      ],
      "execution_count": 7,
      "outputs": []
    },
    {
      "cell_type": "code",
      "metadata": {
        "id": "x3whmBVKGbyC"
      },
      "source": [
        "#  Get recors by reading the cvs file\n",
        "#  Issue:\n",
        "#  It just let you get 1k records, thus Socrata API its a better way \n",
        "#\n",
        "#  path= 'https://www.datos.gov.co/resource/gt2j-8ykr.csv'\n",
        "#\n",
        "#  df = pd.read_csv (r''+path)\n",
        "#  df.head(10)"
      ],
      "execution_count": 8,
      "outputs": []
    },
    {
      "cell_type": "code",
      "metadata": {
        "colab": {
          "base_uri": "https://localhost:8080/",
          "height": 557
        },
        "id": "9kyRuYGrUw8H",
        "outputId": "040420fa-712f-456a-bfe0-194443c951c4"
      },
      "source": [
        "df.head(10)"
      ],
      "execution_count": 9,
      "outputs": [
        {
          "output_type": "execute_result",
          "data": {
            "text/html": [
              "<div>\n",
              "<style scoped>\n",
              "    .dataframe tbody tr th:only-of-type {\n",
              "        vertical-align: middle;\n",
              "    }\n",
              "\n",
              "    .dataframe tbody tr th {\n",
              "        vertical-align: top;\n",
              "    }\n",
              "\n",
              "    .dataframe thead th {\n",
              "        text-align: right;\n",
              "    }\n",
              "</style>\n",
              "<table border=\"1\" class=\"dataframe\">\n",
              "  <thead>\n",
              "    <tr style=\"text-align: right;\">\n",
              "      <th></th>\n",
              "      <th>fecha_reporte_web</th>\n",
              "      <th>id_de_caso</th>\n",
              "      <th>fecha_de_notificaci_n</th>\n",
              "      <th>departamento</th>\n",
              "      <th>departamento_nom</th>\n",
              "      <th>ciudad_municipio</th>\n",
              "      <th>ciudad_municipio_nom</th>\n",
              "      <th>edad</th>\n",
              "      <th>unidad_medida</th>\n",
              "      <th>sexo</th>\n",
              "      <th>fuente_tipo_contagio</th>\n",
              "      <th>ubicacion</th>\n",
              "      <th>estado</th>\n",
              "      <th>pais_viajo_1_cod</th>\n",
              "      <th>pais_viajo_1_nom</th>\n",
              "      <th>recuperado</th>\n",
              "      <th>fecha_inicio_sintomas</th>\n",
              "      <th>fecha_diagnostico</th>\n",
              "      <th>fecha_recuperado</th>\n",
              "      <th>tipo_recuperacion</th>\n",
              "      <th>per_etn_</th>\n",
              "      <th>nom_grupo_</th>\n",
              "      <th>fecha_muerte</th>\n",
              "    </tr>\n",
              "  </thead>\n",
              "  <tbody>\n",
              "    <tr>\n",
              "      <th>0</th>\n",
              "      <td>6/3/2020 0:00:00</td>\n",
              "      <td>1</td>\n",
              "      <td>2/3/2020 0:00:00</td>\n",
              "      <td>11</td>\n",
              "      <td>BOGOTA</td>\n",
              "      <td>11001</td>\n",
              "      <td>BOGOTA</td>\n",
              "      <td>19</td>\n",
              "      <td>1</td>\n",
              "      <td>F</td>\n",
              "      <td>Importado</td>\n",
              "      <td>Casa</td>\n",
              "      <td>Leve</td>\n",
              "      <td>380</td>\n",
              "      <td>ITALIA</td>\n",
              "      <td>Recuperado</td>\n",
              "      <td>27/2/2020 0:00:00</td>\n",
              "      <td>6/3/2020 0:00:00</td>\n",
              "      <td>13/3/2020 0:00:00</td>\n",
              "      <td>PCR</td>\n",
              "      <td>6</td>\n",
              "      <td>NaN</td>\n",
              "      <td>NaN</td>\n",
              "    </tr>\n",
              "    <tr>\n",
              "      <th>1</th>\n",
              "      <td>9/3/2020 0:00:00</td>\n",
              "      <td>2</td>\n",
              "      <td>6/3/2020 0:00:00</td>\n",
              "      <td>76</td>\n",
              "      <td>VALLE</td>\n",
              "      <td>76111</td>\n",
              "      <td>BUGA</td>\n",
              "      <td>34</td>\n",
              "      <td>1</td>\n",
              "      <td>M</td>\n",
              "      <td>Importado</td>\n",
              "      <td>Casa</td>\n",
              "      <td>Leve</td>\n",
              "      <td>724</td>\n",
              "      <td>ESPAÑA</td>\n",
              "      <td>Recuperado</td>\n",
              "      <td>4/3/2020 0:00:00</td>\n",
              "      <td>9/3/2020 0:00:00</td>\n",
              "      <td>19/3/2020 0:00:00</td>\n",
              "      <td>PCR</td>\n",
              "      <td>5</td>\n",
              "      <td>NaN</td>\n",
              "      <td>NaN</td>\n",
              "    </tr>\n",
              "    <tr>\n",
              "      <th>2</th>\n",
              "      <td>9/3/2020 0:00:00</td>\n",
              "      <td>3</td>\n",
              "      <td>7/3/2020 0:00:00</td>\n",
              "      <td>5</td>\n",
              "      <td>ANTIOQUIA</td>\n",
              "      <td>5001</td>\n",
              "      <td>MEDELLIN</td>\n",
              "      <td>50</td>\n",
              "      <td>1</td>\n",
              "      <td>F</td>\n",
              "      <td>Importado</td>\n",
              "      <td>Casa</td>\n",
              "      <td>Leve</td>\n",
              "      <td>724</td>\n",
              "      <td>ESPAÑA</td>\n",
              "      <td>Recuperado</td>\n",
              "      <td>29/2/2020 0:00:00</td>\n",
              "      <td>9/3/2020 0:00:00</td>\n",
              "      <td>15/3/2020 0:00:00</td>\n",
              "      <td>PCR</td>\n",
              "      <td>6</td>\n",
              "      <td>NaN</td>\n",
              "      <td>NaN</td>\n",
              "    </tr>\n",
              "    <tr>\n",
              "      <th>3</th>\n",
              "      <td>11/3/2020 0:00:00</td>\n",
              "      <td>4</td>\n",
              "      <td>9/3/2020 0:00:00</td>\n",
              "      <td>5</td>\n",
              "      <td>ANTIOQUIA</td>\n",
              "      <td>5001</td>\n",
              "      <td>MEDELLIN</td>\n",
              "      <td>55</td>\n",
              "      <td>1</td>\n",
              "      <td>M</td>\n",
              "      <td>Relacionado</td>\n",
              "      <td>Casa</td>\n",
              "      <td>Leve</td>\n",
              "      <td>NaN</td>\n",
              "      <td>NaN</td>\n",
              "      <td>Recuperado</td>\n",
              "      <td>6/3/2020 0:00:00</td>\n",
              "      <td>11/3/2020 0:00:00</td>\n",
              "      <td>26/3/2020 0:00:00</td>\n",
              "      <td>PCR</td>\n",
              "      <td>6</td>\n",
              "      <td>NaN</td>\n",
              "      <td>NaN</td>\n",
              "    </tr>\n",
              "    <tr>\n",
              "      <th>4</th>\n",
              "      <td>11/3/2020 0:00:00</td>\n",
              "      <td>5</td>\n",
              "      <td>9/3/2020 0:00:00</td>\n",
              "      <td>5</td>\n",
              "      <td>ANTIOQUIA</td>\n",
              "      <td>5001</td>\n",
              "      <td>MEDELLIN</td>\n",
              "      <td>25</td>\n",
              "      <td>1</td>\n",
              "      <td>M</td>\n",
              "      <td>Relacionado</td>\n",
              "      <td>Casa</td>\n",
              "      <td>Leve</td>\n",
              "      <td>NaN</td>\n",
              "      <td>NaN</td>\n",
              "      <td>Recuperado</td>\n",
              "      <td>8/3/2020 0:00:00</td>\n",
              "      <td>11/3/2020 0:00:00</td>\n",
              "      <td>23/3/2020 0:00:00</td>\n",
              "      <td>PCR</td>\n",
              "      <td>6</td>\n",
              "      <td>NaN</td>\n",
              "      <td>NaN</td>\n",
              "    </tr>\n",
              "    <tr>\n",
              "      <th>5</th>\n",
              "      <td>11/3/2020 0:00:00</td>\n",
              "      <td>6</td>\n",
              "      <td>10/3/2020 0:00:00</td>\n",
              "      <td>5</td>\n",
              "      <td>ANTIOQUIA</td>\n",
              "      <td>5360</td>\n",
              "      <td>ITAGUI</td>\n",
              "      <td>27</td>\n",
              "      <td>1</td>\n",
              "      <td>F</td>\n",
              "      <td>Relacionado</td>\n",
              "      <td>Casa</td>\n",
              "      <td>Leve</td>\n",
              "      <td>NaN</td>\n",
              "      <td>NaN</td>\n",
              "      <td>Recuperado</td>\n",
              "      <td>6/3/2020 0:00:00</td>\n",
              "      <td>11/3/2020 0:00:00</td>\n",
              "      <td>26/3/2020 0:00:00</td>\n",
              "      <td>PCR</td>\n",
              "      <td>6</td>\n",
              "      <td>NaN</td>\n",
              "      <td>NaN</td>\n",
              "    </tr>\n",
              "    <tr>\n",
              "      <th>6</th>\n",
              "      <td>11/3/2020 0:00:00</td>\n",
              "      <td>7</td>\n",
              "      <td>8/3/2020 0:00:00</td>\n",
              "      <td>13001</td>\n",
              "      <td>CARTAGENA</td>\n",
              "      <td>13001</td>\n",
              "      <td>CARTAGENA</td>\n",
              "      <td>85</td>\n",
              "      <td>1</td>\n",
              "      <td>F</td>\n",
              "      <td>Importado</td>\n",
              "      <td>Casa</td>\n",
              "      <td>Leve</td>\n",
              "      <td>840</td>\n",
              "      <td>ESTADOS UNIDOS DE AMÉRICA</td>\n",
              "      <td>Recuperado</td>\n",
              "      <td>2/3/2020 0:00:00</td>\n",
              "      <td>11/3/2020 0:00:00</td>\n",
              "      <td>17/3/2020 0:00:00</td>\n",
              "      <td>PCR</td>\n",
              "      <td>6</td>\n",
              "      <td>NaN</td>\n",
              "      <td>NaN</td>\n",
              "    </tr>\n",
              "    <tr>\n",
              "      <th>7</th>\n",
              "      <td>11/3/2020 0:00:00</td>\n",
              "      <td>8</td>\n",
              "      <td>9/3/2020 0:00:00</td>\n",
              "      <td>11</td>\n",
              "      <td>BOGOTA</td>\n",
              "      <td>11001</td>\n",
              "      <td>BOGOTA</td>\n",
              "      <td>22</td>\n",
              "      <td>1</td>\n",
              "      <td>F</td>\n",
              "      <td>Importado</td>\n",
              "      <td>Casa</td>\n",
              "      <td>Leve</td>\n",
              "      <td>724</td>\n",
              "      <td>ESPAÑA</td>\n",
              "      <td>Recuperado</td>\n",
              "      <td>6/3/2020 0:00:00</td>\n",
              "      <td>11/3/2020 0:00:00</td>\n",
              "      <td>21/3/2020 0:00:00</td>\n",
              "      <td>PCR</td>\n",
              "      <td>6</td>\n",
              "      <td>NaN</td>\n",
              "      <td>NaN</td>\n",
              "    </tr>\n",
              "    <tr>\n",
              "      <th>8</th>\n",
              "      <td>11/3/2020 0:00:00</td>\n",
              "      <td>9</td>\n",
              "      <td>8/3/2020 0:00:00</td>\n",
              "      <td>11</td>\n",
              "      <td>BOGOTA</td>\n",
              "      <td>11001</td>\n",
              "      <td>BOGOTA</td>\n",
              "      <td>28</td>\n",
              "      <td>1</td>\n",
              "      <td>F</td>\n",
              "      <td>Importado</td>\n",
              "      <td>Casa</td>\n",
              "      <td>Leve</td>\n",
              "      <td>724</td>\n",
              "      <td>ESPAÑA</td>\n",
              "      <td>Recuperado</td>\n",
              "      <td>7/3/2020 0:00:00</td>\n",
              "      <td>11/3/2020 0:00:00</td>\n",
              "      <td>23/3/2020 0:00:00</td>\n",
              "      <td>PCR</td>\n",
              "      <td>6</td>\n",
              "      <td>NaN</td>\n",
              "      <td>NaN</td>\n",
              "    </tr>\n",
              "    <tr>\n",
              "      <th>9</th>\n",
              "      <td>12/3/2020 0:00:00</td>\n",
              "      <td>10</td>\n",
              "      <td>12/3/2020 0:00:00</td>\n",
              "      <td>11</td>\n",
              "      <td>BOGOTA</td>\n",
              "      <td>11001</td>\n",
              "      <td>BOGOTA</td>\n",
              "      <td>36</td>\n",
              "      <td>1</td>\n",
              "      <td>F</td>\n",
              "      <td>Importado</td>\n",
              "      <td>Casa</td>\n",
              "      <td>Leve</td>\n",
              "      <td>724</td>\n",
              "      <td>ESPAÑA</td>\n",
              "      <td>Recuperado</td>\n",
              "      <td>6/3/2020 0:00:00</td>\n",
              "      <td>12/3/2020 0:00:00</td>\n",
              "      <td>21/3/2020 0:00:00</td>\n",
              "      <td>PCR</td>\n",
              "      <td>6</td>\n",
              "      <td>NaN</td>\n",
              "      <td>NaN</td>\n",
              "    </tr>\n",
              "  </tbody>\n",
              "</table>\n",
              "</div>"
            ],
            "text/plain": [
              "   fecha_reporte_web id_de_caso  ... nom_grupo_ fecha_muerte\n",
              "0   6/3/2020 0:00:00          1  ...        NaN          NaN\n",
              "1   9/3/2020 0:00:00          2  ...        NaN          NaN\n",
              "2   9/3/2020 0:00:00          3  ...        NaN          NaN\n",
              "3  11/3/2020 0:00:00          4  ...        NaN          NaN\n",
              "4  11/3/2020 0:00:00          5  ...        NaN          NaN\n",
              "5  11/3/2020 0:00:00          6  ...        NaN          NaN\n",
              "6  11/3/2020 0:00:00          7  ...        NaN          NaN\n",
              "7  11/3/2020 0:00:00          8  ...        NaN          NaN\n",
              "8  11/3/2020 0:00:00          9  ...        NaN          NaN\n",
              "9  12/3/2020 0:00:00         10  ...        NaN          NaN\n",
              "\n",
              "[10 rows x 23 columns]"
            ]
          },
          "metadata": {
            "tags": []
          },
          "execution_count": 9
        }
      ]
    },
    {
      "cell_type": "code",
      "metadata": {
        "colab": {
          "base_uri": "https://localhost:8080/"
        },
        "id": "uWw8ufEwjs92",
        "outputId": "7554dc76-4897-4b37-b7bd-c8b2280a7b1f"
      },
      "source": [
        "df.info()"
      ],
      "execution_count": 10,
      "outputs": [
        {
          "output_type": "stream",
          "text": [
            "<class 'pandas.core.frame.DataFrame'>\n",
            "RangeIndex: 100000 entries, 0 to 99999\n",
            "Data columns (total 23 columns):\n",
            " #   Column                 Non-Null Count   Dtype \n",
            "---  ------                 --------------   ----- \n",
            " 0   fecha_reporte_web      100000 non-null  object\n",
            " 1   id_de_caso             100000 non-null  object\n",
            " 2   fecha_de_notificaci_n  100000 non-null  object\n",
            " 3   departamento           100000 non-null  object\n",
            " 4   departamento_nom       100000 non-null  object\n",
            " 5   ciudad_municipio       100000 non-null  object\n",
            " 6   ciudad_municipio_nom   100000 non-null  object\n",
            " 7   edad                   100000 non-null  object\n",
            " 8   unidad_medida          100000 non-null  object\n",
            " 9   sexo                   100000 non-null  object\n",
            " 10  fuente_tipo_contagio   100000 non-null  object\n",
            " 11  ubicacion              100000 non-null  object\n",
            " 12  estado                 100000 non-null  object\n",
            " 13  pais_viajo_1_cod       912 non-null     object\n",
            " 14  pais_viajo_1_nom       912 non-null     object\n",
            " 15  recuperado             100000 non-null  object\n",
            " 16  fecha_inicio_sintomas  91615 non-null   object\n",
            " 17  fecha_diagnostico      97693 non-null   object\n",
            " 18  fecha_recuperado       94832 non-null   object\n",
            " 19  tipo_recuperacion      94832 non-null   object\n",
            " 20  per_etn_               100000 non-null  object\n",
            " 21  nom_grupo_             5658 non-null    object\n",
            " 22  fecha_muerte           5633 non-null    object\n",
            "dtypes: object(23)\n",
            "memory usage: 17.5+ MB\n"
          ],
          "name": "stdout"
        }
      ]
    },
    {
      "cell_type": "code",
      "metadata": {
        "colab": {
          "base_uri": "https://localhost:8080/",
          "height": 212
        },
        "id": "PNekwrfDin8u",
        "outputId": "a9a84616-0958-4f70-a558-0400988a429f"
      },
      "source": [
        "df.describe()"
      ],
      "execution_count": 11,
      "outputs": [
        {
          "output_type": "execute_result",
          "data": {
            "text/html": [
              "<div>\n",
              "<style scoped>\n",
              "    .dataframe tbody tr th:only-of-type {\n",
              "        vertical-align: middle;\n",
              "    }\n",
              "\n",
              "    .dataframe tbody tr th {\n",
              "        vertical-align: top;\n",
              "    }\n",
              "\n",
              "    .dataframe thead th {\n",
              "        text-align: right;\n",
              "    }\n",
              "</style>\n",
              "<table border=\"1\" class=\"dataframe\">\n",
              "  <thead>\n",
              "    <tr style=\"text-align: right;\">\n",
              "      <th></th>\n",
              "      <th>fecha_reporte_web</th>\n",
              "      <th>id_de_caso</th>\n",
              "      <th>fecha_de_notificaci_n</th>\n",
              "      <th>departamento</th>\n",
              "      <th>departamento_nom</th>\n",
              "      <th>ciudad_municipio</th>\n",
              "      <th>ciudad_municipio_nom</th>\n",
              "      <th>edad</th>\n",
              "      <th>unidad_medida</th>\n",
              "      <th>sexo</th>\n",
              "      <th>fuente_tipo_contagio</th>\n",
              "      <th>ubicacion</th>\n",
              "      <th>estado</th>\n",
              "      <th>pais_viajo_1_cod</th>\n",
              "      <th>pais_viajo_1_nom</th>\n",
              "      <th>recuperado</th>\n",
              "      <th>fecha_inicio_sintomas</th>\n",
              "      <th>fecha_diagnostico</th>\n",
              "      <th>fecha_recuperado</th>\n",
              "      <th>tipo_recuperacion</th>\n",
              "      <th>per_etn_</th>\n",
              "      <th>nom_grupo_</th>\n",
              "      <th>fecha_muerte</th>\n",
              "    </tr>\n",
              "  </thead>\n",
              "  <tbody>\n",
              "    <tr>\n",
              "      <th>count</th>\n",
              "      <td>100000</td>\n",
              "      <td>100000</td>\n",
              "      <td>100000</td>\n",
              "      <td>100000</td>\n",
              "      <td>100000</td>\n",
              "      <td>100000</td>\n",
              "      <td>100000</td>\n",
              "      <td>100000</td>\n",
              "      <td>100000</td>\n",
              "      <td>100000</td>\n",
              "      <td>100000</td>\n",
              "      <td>100000</td>\n",
              "      <td>100000</td>\n",
              "      <td>912</td>\n",
              "      <td>912</td>\n",
              "      <td>100000</td>\n",
              "      <td>91615</td>\n",
              "      <td>97693</td>\n",
              "      <td>94832</td>\n",
              "      <td>94832</td>\n",
              "      <td>100000</td>\n",
              "      <td>5658</td>\n",
              "      <td>5633</td>\n",
              "    </tr>\n",
              "    <tr>\n",
              "      <th>unique</th>\n",
              "      <td>115</td>\n",
              "      <td>100000</td>\n",
              "      <td>146</td>\n",
              "      <td>36</td>\n",
              "      <td>36</td>\n",
              "      <td>652</td>\n",
              "      <td>626</td>\n",
              "      <td>104</td>\n",
              "      <td>3</td>\n",
              "      <td>2</td>\n",
              "      <td>4</td>\n",
              "      <td>3</td>\n",
              "      <td>3</td>\n",
              "      <td>43</td>\n",
              "      <td>45</td>\n",
              "      <td>4</td>\n",
              "      <td>148</td>\n",
              "      <td>138</td>\n",
              "      <td>371</td>\n",
              "      <td>2</td>\n",
              "      <td>5</td>\n",
              "      <td>52</td>\n",
              "      <td>395</td>\n",
              "    </tr>\n",
              "    <tr>\n",
              "      <th>top</th>\n",
              "      <td>27/6/2020 0:00:00</td>\n",
              "      <td>17162</td>\n",
              "      <td>18/6/2020 0:00:00</td>\n",
              "      <td>11</td>\n",
              "      <td>BOGOTA</td>\n",
              "      <td>11001</td>\n",
              "      <td>BOGOTA</td>\n",
              "      <td>30</td>\n",
              "      <td>1</td>\n",
              "      <td>M</td>\n",
              "      <td>Comunitaria</td>\n",
              "      <td>Casa</td>\n",
              "      <td>Leve</td>\n",
              "      <td>724</td>\n",
              "      <td>ESPAÑA</td>\n",
              "      <td>Recuperado</td>\n",
              "      <td>10/6/2020 0:00:00</td>\n",
              "      <td>26/6/2020 0:00:00</td>\n",
              "      <td>16/7/2020 0:00:00</td>\n",
              "      <td>PCR</td>\n",
              "      <td>6</td>\n",
              "      <td>Por definir</td>\n",
              "      <td>21/6/2020 0:00:00</td>\n",
              "    </tr>\n",
              "    <tr>\n",
              "      <th>freq</th>\n",
              "      <td>4149</td>\n",
              "      <td>1</td>\n",
              "      <td>3477</td>\n",
              "      <td>30016</td>\n",
              "      <td>30016</td>\n",
              "      <td>30016</td>\n",
              "      <td>30016</td>\n",
              "      <td>2735</td>\n",
              "      <td>99442</td>\n",
              "      <td>54098</td>\n",
              "      <td>58716</td>\n",
              "      <td>94367</td>\n",
              "      <td>94367</td>\n",
              "      <td>258</td>\n",
              "      <td>258</td>\n",
              "      <td>94832</td>\n",
              "      <td>2731</td>\n",
              "      <td>4390</td>\n",
              "      <td>2880</td>\n",
              "      <td>66606</td>\n",
              "      <td>80861</td>\n",
              "      <td>3603</td>\n",
              "      <td>134</td>\n",
              "    </tr>\n",
              "  </tbody>\n",
              "</table>\n",
              "</div>"
            ],
            "text/plain": [
              "        fecha_reporte_web id_de_caso  ...   nom_grupo_       fecha_muerte\n",
              "count              100000     100000  ...         5658               5633\n",
              "unique                115     100000  ...           52                395\n",
              "top     27/6/2020 0:00:00      17162  ...  Por definir  21/6/2020 0:00:00\n",
              "freq                 4149          1  ...         3603                134\n",
              "\n",
              "[4 rows x 23 columns]"
            ]
          },
          "metadata": {
            "tags": []
          },
          "execution_count": 11
        }
      ]
    },
    {
      "cell_type": "code",
      "metadata": {
        "colab": {
          "base_uri": "https://localhost:8080/"
        },
        "id": "N4cG8R8jqH5O",
        "outputId": "b53524eb-f114-4d7a-c80d-4e6299d756c7"
      },
      "source": [
        "np.shape(df)"
      ],
      "execution_count": null,
      "outputs": [
        {
          "output_type": "execute_result",
          "data": {
            "text/plain": [
              "(2000, 23)"
            ]
          },
          "metadata": {
            "tags": []
          },
          "execution_count": 23
        }
      ]
    },
    {
      "cell_type": "code",
      "metadata": {
        "id": "bYWhEm1ETIGR",
        "colab": {
          "base_uri": "https://localhost:8080/"
        },
        "outputId": "4611c7d7-747b-4197-e51e-7ae11e86ad23"
      },
      "source": [
        "df.columns"
      ],
      "execution_count": null,
      "outputs": [
        {
          "output_type": "execute_result",
          "data": {
            "text/plain": [
              "Index(['fecha_reporte_web', 'id_de_caso', 'fecha_de_notificaci_n',\n",
              "       'departamento', 'departamento_nom', 'ciudad_municipio',\n",
              "       'ciudad_municipio_nom', 'edad', 'unidad_medida', 'sexo',\n",
              "       'fuente_tipo_contagio', 'ubicacion', 'estado', 'pais_viajo_1_cod',\n",
              "       'pais_viajo_1_nom', 'recuperado', 'fecha_inicio_sintomas',\n",
              "       'fecha_diagnostico', 'fecha_recuperado', 'tipo_recuperacion',\n",
              "       'per_etn_', 'nom_grupo_', 'fecha_muerte'],\n",
              "      dtype='object')"
            ]
          },
          "metadata": {
            "tags": []
          },
          "execution_count": 24
        }
      ]
    },
    {
      "cell_type": "code",
      "metadata": {
        "id": "ZHGFdrGuTi7A"
      },
      "source": [
        ""
      ],
      "execution_count": null,
      "outputs": []
    },
    {
      "cell_type": "code",
      "metadata": {
        "id": "z53NQveMT36x"
      },
      "source": [
        "df.columns = [\n",
        "  'web_date_report',\n",
        "  'case_id',\n",
        "  'notification_date',\n",
        "  'davipola_departament_code',\n",
        "  'department_name',\n",
        "  'davipola_municipality_code',\n",
        "  'municipality_name',\n",
        "  'age',\n",
        "  'age_measurement_unit',\n",
        "  'sex',\n",
        "  'contagion_type',\n",
        "  'case_location',\n",
        "  'state',\n",
        "  'iso_country_code',\n",
        "  'country_name',\n",
        "  'recuperated', #spell correctly\n",
        "  'beginning_symptoms_date',#!/usr/bin/env python\n",
        "  'date_of_diagnosis',\n",
        "  'date_of_recovery',\n",
        "  'recovery_type',\n",
        "  'ethnicity',\n",
        "  'ethnic_group_name',\n",
        "  'date_of_death',\n",
        "]\n",
        "\n",
        "#df.columns[2,3,5,8,9,10,11,12,13,15,16,17,18,20,21]"
      ],
      "execution_count": null,
      "outputs": []
    },
    {
      "cell_type": "code",
      "metadata": {
        "id": "PjmmLy14VDSr",
        "colab": {
          "base_uri": "https://localhost:8080/",
          "height": 574
        },
        "outputId": "306c638f-8b42-4153-e08c-623e47d324b9"
      },
      "source": [
        "df.head(10)"
      ],
      "execution_count": null,
      "outputs": [
        {
          "output_type": "execute_result",
          "data": {
            "text/html": [
              "<div>\n",
              "<style scoped>\n",
              "    .dataframe tbody tr th:only-of-type {\n",
              "        vertical-align: middle;\n",
              "    }\n",
              "\n",
              "    .dataframe tbody tr th {\n",
              "        vertical-align: top;\n",
              "    }\n",
              "\n",
              "    .dataframe thead th {\n",
              "        text-align: right;\n",
              "    }\n",
              "</style>\n",
              "<table border=\"1\" class=\"dataframe\">\n",
              "  <thead>\n",
              "    <tr style=\"text-align: right;\">\n",
              "      <th></th>\n",
              "      <th>web_date_report</th>\n",
              "      <th>case_id</th>\n",
              "      <th>notification_date</th>\n",
              "      <th>davipola_departament_code</th>\n",
              "      <th>department_name</th>\n",
              "      <th>davipola_municipality_code</th>\n",
              "      <th>municipality_name</th>\n",
              "      <th>age</th>\n",
              "      <th>age_measurement_unit</th>\n",
              "      <th>sex</th>\n",
              "      <th>contagion_type</th>\n",
              "      <th>case_location</th>\n",
              "      <th>state</th>\n",
              "      <th>iso_country_code</th>\n",
              "      <th>country_name</th>\n",
              "      <th>recuperated</th>\n",
              "      <th>beginning_symptoms_date</th>\n",
              "      <th>date_of_diagnosis</th>\n",
              "      <th>date_of_recovery</th>\n",
              "      <th>recovery_type</th>\n",
              "      <th>ethnicity</th>\n",
              "      <th>ethnic_group_name</th>\n",
              "      <th>date_of_death</th>\n",
              "    </tr>\n",
              "  </thead>\n",
              "  <tbody>\n",
              "    <tr>\n",
              "      <th>0</th>\n",
              "      <td>6/3/2020 0:00:00</td>\n",
              "      <td>1</td>\n",
              "      <td>2/3/2020 0:00:00</td>\n",
              "      <td>11</td>\n",
              "      <td>BOGOTA</td>\n",
              "      <td>11001</td>\n",
              "      <td>BOGOTA</td>\n",
              "      <td>19</td>\n",
              "      <td>1</td>\n",
              "      <td>F</td>\n",
              "      <td>Importado</td>\n",
              "      <td>Casa</td>\n",
              "      <td>Leve</td>\n",
              "      <td>380</td>\n",
              "      <td>ITALIA</td>\n",
              "      <td>Recuperado</td>\n",
              "      <td>27/2/2020 0:00:00</td>\n",
              "      <td>6/3/2020 0:00:00</td>\n",
              "      <td>13/3/2020 0:00:00</td>\n",
              "      <td>PCR</td>\n",
              "      <td>6</td>\n",
              "      <td>NaN</td>\n",
              "      <td>NaN</td>\n",
              "    </tr>\n",
              "    <tr>\n",
              "      <th>1</th>\n",
              "      <td>9/3/2020 0:00:00</td>\n",
              "      <td>2</td>\n",
              "      <td>6/3/2020 0:00:00</td>\n",
              "      <td>76</td>\n",
              "      <td>VALLE</td>\n",
              "      <td>76111</td>\n",
              "      <td>BUGA</td>\n",
              "      <td>34</td>\n",
              "      <td>1</td>\n",
              "      <td>M</td>\n",
              "      <td>Importado</td>\n",
              "      <td>Casa</td>\n",
              "      <td>Leve</td>\n",
              "      <td>724</td>\n",
              "      <td>ESPAÑA</td>\n",
              "      <td>Recuperado</td>\n",
              "      <td>4/3/2020 0:00:00</td>\n",
              "      <td>9/3/2020 0:00:00</td>\n",
              "      <td>19/3/2020 0:00:00</td>\n",
              "      <td>PCR</td>\n",
              "      <td>5</td>\n",
              "      <td>NaN</td>\n",
              "      <td>NaN</td>\n",
              "    </tr>\n",
              "    <tr>\n",
              "      <th>2</th>\n",
              "      <td>9/3/2020 0:00:00</td>\n",
              "      <td>3</td>\n",
              "      <td>7/3/2020 0:00:00</td>\n",
              "      <td>5</td>\n",
              "      <td>ANTIOQUIA</td>\n",
              "      <td>5001</td>\n",
              "      <td>MEDELLIN</td>\n",
              "      <td>50</td>\n",
              "      <td>1</td>\n",
              "      <td>F</td>\n",
              "      <td>Importado</td>\n",
              "      <td>Casa</td>\n",
              "      <td>Leve</td>\n",
              "      <td>724</td>\n",
              "      <td>ESPAÑA</td>\n",
              "      <td>Recuperado</td>\n",
              "      <td>29/2/2020 0:00:00</td>\n",
              "      <td>9/3/2020 0:00:00</td>\n",
              "      <td>15/3/2020 0:00:00</td>\n",
              "      <td>PCR</td>\n",
              "      <td>6</td>\n",
              "      <td>NaN</td>\n",
              "      <td>NaN</td>\n",
              "    </tr>\n",
              "    <tr>\n",
              "      <th>3</th>\n",
              "      <td>11/3/2020 0:00:00</td>\n",
              "      <td>4</td>\n",
              "      <td>9/3/2020 0:00:00</td>\n",
              "      <td>5</td>\n",
              "      <td>ANTIOQUIA</td>\n",
              "      <td>5001</td>\n",
              "      <td>MEDELLIN</td>\n",
              "      <td>55</td>\n",
              "      <td>1</td>\n",
              "      <td>M</td>\n",
              "      <td>Relacionado</td>\n",
              "      <td>Casa</td>\n",
              "      <td>Leve</td>\n",
              "      <td>NaN</td>\n",
              "      <td>NaN</td>\n",
              "      <td>Recuperado</td>\n",
              "      <td>6/3/2020 0:00:00</td>\n",
              "      <td>11/3/2020 0:00:00</td>\n",
              "      <td>26/3/2020 0:00:00</td>\n",
              "      <td>PCR</td>\n",
              "      <td>6</td>\n",
              "      <td>NaN</td>\n",
              "      <td>NaN</td>\n",
              "    </tr>\n",
              "    <tr>\n",
              "      <th>4</th>\n",
              "      <td>11/3/2020 0:00:00</td>\n",
              "      <td>5</td>\n",
              "      <td>9/3/2020 0:00:00</td>\n",
              "      <td>5</td>\n",
              "      <td>ANTIOQUIA</td>\n",
              "      <td>5001</td>\n",
              "      <td>MEDELLIN</td>\n",
              "      <td>25</td>\n",
              "      <td>1</td>\n",
              "      <td>M</td>\n",
              "      <td>Relacionado</td>\n",
              "      <td>Casa</td>\n",
              "      <td>Leve</td>\n",
              "      <td>NaN</td>\n",
              "      <td>NaN</td>\n",
              "      <td>Recuperado</td>\n",
              "      <td>8/3/2020 0:00:00</td>\n",
              "      <td>11/3/2020 0:00:00</td>\n",
              "      <td>23/3/2020 0:00:00</td>\n",
              "      <td>PCR</td>\n",
              "      <td>6</td>\n",
              "      <td>NaN</td>\n",
              "      <td>NaN</td>\n",
              "    </tr>\n",
              "    <tr>\n",
              "      <th>5</th>\n",
              "      <td>11/3/2020 0:00:00</td>\n",
              "      <td>6</td>\n",
              "      <td>10/3/2020 0:00:00</td>\n",
              "      <td>5</td>\n",
              "      <td>ANTIOQUIA</td>\n",
              "      <td>5360</td>\n",
              "      <td>ITAGUI</td>\n",
              "      <td>27</td>\n",
              "      <td>1</td>\n",
              "      <td>F</td>\n",
              "      <td>Relacionado</td>\n",
              "      <td>Casa</td>\n",
              "      <td>Leve</td>\n",
              "      <td>NaN</td>\n",
              "      <td>NaN</td>\n",
              "      <td>Recuperado</td>\n",
              "      <td>6/3/2020 0:00:00</td>\n",
              "      <td>11/3/2020 0:00:00</td>\n",
              "      <td>26/3/2020 0:00:00</td>\n",
              "      <td>PCR</td>\n",
              "      <td>6</td>\n",
              "      <td>NaN</td>\n",
              "      <td>NaN</td>\n",
              "    </tr>\n",
              "    <tr>\n",
              "      <th>6</th>\n",
              "      <td>11/3/2020 0:00:00</td>\n",
              "      <td>7</td>\n",
              "      <td>8/3/2020 0:00:00</td>\n",
              "      <td>13001</td>\n",
              "      <td>CARTAGENA</td>\n",
              "      <td>13001</td>\n",
              "      <td>CARTAGENA</td>\n",
              "      <td>85</td>\n",
              "      <td>1</td>\n",
              "      <td>F</td>\n",
              "      <td>Importado</td>\n",
              "      <td>Casa</td>\n",
              "      <td>Leve</td>\n",
              "      <td>840</td>\n",
              "      <td>ESTADOS UNIDOS DE AMÉRICA</td>\n",
              "      <td>Recuperado</td>\n",
              "      <td>2/3/2020 0:00:00</td>\n",
              "      <td>11/3/2020 0:00:00</td>\n",
              "      <td>17/3/2020 0:00:00</td>\n",
              "      <td>PCR</td>\n",
              "      <td>6</td>\n",
              "      <td>NaN</td>\n",
              "      <td>NaN</td>\n",
              "    </tr>\n",
              "    <tr>\n",
              "      <th>7</th>\n",
              "      <td>11/3/2020 0:00:00</td>\n",
              "      <td>8</td>\n",
              "      <td>9/3/2020 0:00:00</td>\n",
              "      <td>11</td>\n",
              "      <td>BOGOTA</td>\n",
              "      <td>11001</td>\n",
              "      <td>BOGOTA</td>\n",
              "      <td>22</td>\n",
              "      <td>1</td>\n",
              "      <td>F</td>\n",
              "      <td>Importado</td>\n",
              "      <td>Casa</td>\n",
              "      <td>Leve</td>\n",
              "      <td>724</td>\n",
              "      <td>ESPAÑA</td>\n",
              "      <td>Recuperado</td>\n",
              "      <td>6/3/2020 0:00:00</td>\n",
              "      <td>11/3/2020 0:00:00</td>\n",
              "      <td>21/3/2020 0:00:00</td>\n",
              "      <td>PCR</td>\n",
              "      <td>6</td>\n",
              "      <td>NaN</td>\n",
              "      <td>NaN</td>\n",
              "    </tr>\n",
              "    <tr>\n",
              "      <th>8</th>\n",
              "      <td>11/3/2020 0:00:00</td>\n",
              "      <td>9</td>\n",
              "      <td>8/3/2020 0:00:00</td>\n",
              "      <td>11</td>\n",
              "      <td>BOGOTA</td>\n",
              "      <td>11001</td>\n",
              "      <td>BOGOTA</td>\n",
              "      <td>28</td>\n",
              "      <td>1</td>\n",
              "      <td>F</td>\n",
              "      <td>Importado</td>\n",
              "      <td>Casa</td>\n",
              "      <td>Leve</td>\n",
              "      <td>724</td>\n",
              "      <td>ESPAÑA</td>\n",
              "      <td>Recuperado</td>\n",
              "      <td>7/3/2020 0:00:00</td>\n",
              "      <td>11/3/2020 0:00:00</td>\n",
              "      <td>23/3/2020 0:00:00</td>\n",
              "      <td>PCR</td>\n",
              "      <td>6</td>\n",
              "      <td>NaN</td>\n",
              "      <td>NaN</td>\n",
              "    </tr>\n",
              "    <tr>\n",
              "      <th>9</th>\n",
              "      <td>12/3/2020 0:00:00</td>\n",
              "      <td>10</td>\n",
              "      <td>12/3/2020 0:00:00</td>\n",
              "      <td>11</td>\n",
              "      <td>BOGOTA</td>\n",
              "      <td>11001</td>\n",
              "      <td>BOGOTA</td>\n",
              "      <td>36</td>\n",
              "      <td>1</td>\n",
              "      <td>F</td>\n",
              "      <td>Importado</td>\n",
              "      <td>Casa</td>\n",
              "      <td>Leve</td>\n",
              "      <td>724</td>\n",
              "      <td>ESPAÑA</td>\n",
              "      <td>Recuperado</td>\n",
              "      <td>6/3/2020 0:00:00</td>\n",
              "      <td>12/3/2020 0:00:00</td>\n",
              "      <td>21/3/2020 0:00:00</td>\n",
              "      <td>PCR</td>\n",
              "      <td>6</td>\n",
              "      <td>NaN</td>\n",
              "      <td>NaN</td>\n",
              "    </tr>\n",
              "  </tbody>\n",
              "</table>\n",
              "</div>"
            ],
            "text/plain": [
              "     web_date_report case_id  ... ethnic_group_name date_of_death\n",
              "0   6/3/2020 0:00:00       1  ...               NaN           NaN\n",
              "1   9/3/2020 0:00:00       2  ...               NaN           NaN\n",
              "2   9/3/2020 0:00:00       3  ...               NaN           NaN\n",
              "3  11/3/2020 0:00:00       4  ...               NaN           NaN\n",
              "4  11/3/2020 0:00:00       5  ...               NaN           NaN\n",
              "5  11/3/2020 0:00:00       6  ...               NaN           NaN\n",
              "6  11/3/2020 0:00:00       7  ...               NaN           NaN\n",
              "7  11/3/2020 0:00:00       8  ...               NaN           NaN\n",
              "8  11/3/2020 0:00:00       9  ...               NaN           NaN\n",
              "9  12/3/2020 0:00:00      10  ...               NaN           NaN\n",
              "\n",
              "[10 rows x 23 columns]"
            ]
          },
          "metadata": {
            "tags": []
          },
          "execution_count": 26
        }
      ]
    },
    {
      "cell_type": "code",
      "metadata": {
        "id": "xL0CkpMOVTnu",
        "colab": {
          "base_uri": "https://localhost:8080/",
          "height": 212
        },
        "outputId": "a6a1d4e5-17f8-4a15-e1fc-62d79eebac04"
      },
      "source": [
        "df.describe()"
      ],
      "execution_count": null,
      "outputs": [
        {
          "output_type": "execute_result",
          "data": {
            "text/html": [
              "<div>\n",
              "<style scoped>\n",
              "    .dataframe tbody tr th:only-of-type {\n",
              "        vertical-align: middle;\n",
              "    }\n",
              "\n",
              "    .dataframe tbody tr th {\n",
              "        vertical-align: top;\n",
              "    }\n",
              "\n",
              "    .dataframe thead th {\n",
              "        text-align: right;\n",
              "    }\n",
              "</style>\n",
              "<table border=\"1\" class=\"dataframe\">\n",
              "  <thead>\n",
              "    <tr style=\"text-align: right;\">\n",
              "      <th></th>\n",
              "      <th>web_date_report</th>\n",
              "      <th>case_id</th>\n",
              "      <th>notification_date</th>\n",
              "      <th>davipola_departament_code</th>\n",
              "      <th>department_name</th>\n",
              "      <th>davipola_municipality_code</th>\n",
              "      <th>municipality_name</th>\n",
              "      <th>age</th>\n",
              "      <th>age_measurement_unit</th>\n",
              "      <th>sex</th>\n",
              "      <th>contagion_type</th>\n",
              "      <th>case_location</th>\n",
              "      <th>state</th>\n",
              "      <th>iso_country_code</th>\n",
              "      <th>country_name</th>\n",
              "      <th>recuperated</th>\n",
              "      <th>beginning_symptoms_date</th>\n",
              "      <th>date_of_diagnosis</th>\n",
              "      <th>date_of_recovery</th>\n",
              "      <th>recovery_type</th>\n",
              "      <th>ethnicity</th>\n",
              "      <th>ethnic_group_name</th>\n",
              "      <th>date_of_death</th>\n",
              "    </tr>\n",
              "  </thead>\n",
              "  <tbody>\n",
              "    <tr>\n",
              "      <th>count</th>\n",
              "      <td>2000</td>\n",
              "      <td>2000</td>\n",
              "      <td>2000</td>\n",
              "      <td>2000</td>\n",
              "      <td>2000</td>\n",
              "      <td>2000</td>\n",
              "      <td>2000</td>\n",
              "      <td>2000</td>\n",
              "      <td>2000</td>\n",
              "      <td>2000</td>\n",
              "      <td>2000</td>\n",
              "      <td>2000</td>\n",
              "      <td>2000</td>\n",
              "      <td>684</td>\n",
              "      <td>684</td>\n",
              "      <td>2000</td>\n",
              "      <td>1938</td>\n",
              "      <td>1998</td>\n",
              "      <td>1870</td>\n",
              "      <td>1870</td>\n",
              "      <td>2000</td>\n",
              "      <td>18</td>\n",
              "      <td>137</td>\n",
              "    </tr>\n",
              "    <tr>\n",
              "      <th>unique</th>\n",
              "      <td>31</td>\n",
              "      <td>2000</td>\n",
              "      <td>37</td>\n",
              "      <td>27</td>\n",
              "      <td>27</td>\n",
              "      <td>117</td>\n",
              "      <td>117</td>\n",
              "      <td>96</td>\n",
              "      <td>2</td>\n",
              "      <td>2</td>\n",
              "      <td>4</td>\n",
              "      <td>3</td>\n",
              "      <td>3</td>\n",
              "      <td>37</td>\n",
              "      <td>37</td>\n",
              "      <td>3</td>\n",
              "      <td>40</td>\n",
              "      <td>31</td>\n",
              "      <td>114</td>\n",
              "      <td>2</td>\n",
              "      <td>4</td>\n",
              "      <td>7</td>\n",
              "      <td>51</td>\n",
              "    </tr>\n",
              "    <tr>\n",
              "      <th>top</th>\n",
              "      <td>8/4/2020 0:00:00</td>\n",
              "      <td>897</td>\n",
              "      <td>25/3/2020 0:00:00</td>\n",
              "      <td>11</td>\n",
              "      <td>BOGOTA</td>\n",
              "      <td>11001</td>\n",
              "      <td>BOGOTA</td>\n",
              "      <td>30</td>\n",
              "      <td>1</td>\n",
              "      <td>M</td>\n",
              "      <td>Relacionado</td>\n",
              "      <td>Casa</td>\n",
              "      <td>Leve</td>\n",
              "      <td>724</td>\n",
              "      <td>ESPAÑA</td>\n",
              "      <td>Recuperado</td>\n",
              "      <td>20/3/2020 0:00:00</td>\n",
              "      <td>8/4/2020 0:00:00</td>\n",
              "      <td>5/5/2020 0:00:00</td>\n",
              "      <td>PCR</td>\n",
              "      <td>6</td>\n",
              "      <td>Por definir</td>\n",
              "      <td>4/4/2020 0:00:00</td>\n",
              "    </tr>\n",
              "    <tr>\n",
              "      <th>freq</th>\n",
              "      <td>292</td>\n",
              "      <td>1</td>\n",
              "      <td>143</td>\n",
              "      <td>975</td>\n",
              "      <td>975</td>\n",
              "      <td>975</td>\n",
              "      <td>975</td>\n",
              "      <td>58</td>\n",
              "      <td>1995</td>\n",
              "      <td>1004</td>\n",
              "      <td>1004</td>\n",
              "      <td>1863</td>\n",
              "      <td>1863</td>\n",
              "      <td>236</td>\n",
              "      <td>236</td>\n",
              "      <td>1870</td>\n",
              "      <td>141</td>\n",
              "      <td>287</td>\n",
              "      <td>116</td>\n",
              "      <td>1695</td>\n",
              "      <td>1937</td>\n",
              "      <td>9</td>\n",
              "      <td>12</td>\n",
              "    </tr>\n",
              "  </tbody>\n",
              "</table>\n",
              "</div>"
            ],
            "text/plain": [
              "         web_date_report case_id  ... ethnic_group_name     date_of_death\n",
              "count               2000    2000  ...                18               137\n",
              "unique                31    2000  ...                 7                51\n",
              "top     8/4/2020 0:00:00     897  ...       Por definir  4/4/2020 0:00:00\n",
              "freq                 292       1  ...                 9                12\n",
              "\n",
              "[4 rows x 23 columns]"
            ]
          },
          "metadata": {
            "tags": []
          },
          "execution_count": 27
        }
      ]
    },
    {
      "cell_type": "code",
      "metadata": {
        "id": "-UhgcmLAVrV7",
        "colab": {
          "base_uri": "https://localhost:8080/"
        },
        "outputId": "beac3e37-3474-4b26-fd71-9c5aa75da254"
      },
      "source": [
        "df.info()"
      ],
      "execution_count": null,
      "outputs": [
        {
          "output_type": "stream",
          "text": [
            "<class 'pandas.core.frame.DataFrame'>\n",
            "RangeIndex: 2000 entries, 0 to 1999\n",
            "Data columns (total 23 columns):\n",
            " #   Column                      Non-Null Count  Dtype \n",
            "---  ------                      --------------  ----- \n",
            " 0   web_date_report             2000 non-null   object\n",
            " 1   case_id                     2000 non-null   object\n",
            " 2   notification_date           2000 non-null   object\n",
            " 3   davipola_departament_code   2000 non-null   object\n",
            " 4   department_name             2000 non-null   object\n",
            " 5   davipola_municipality_code  2000 non-null   object\n",
            " 6   municipality_name           2000 non-null   object\n",
            " 7   age                         2000 non-null   object\n",
            " 8   age_measurement_unit        2000 non-null   object\n",
            " 9   sex                         2000 non-null   object\n",
            " 10  contagion_type              2000 non-null   object\n",
            " 11  case_location               2000 non-null   object\n",
            " 12  state                       2000 non-null   object\n",
            " 13  iso_country_code            684 non-null    object\n",
            " 14  country_name                684 non-null    object\n",
            " 15  recuperated                 2000 non-null   object\n",
            " 16  beginning_symptoms_date     1938 non-null   object\n",
            " 17  date_of_diagnosis           1998 non-null   object\n",
            " 18  date_of_recovery            1870 non-null   object\n",
            " 19  recovery_type               1870 non-null   object\n",
            " 20  ethnicity                   2000 non-null   object\n",
            " 21  ethnic_group_name           18 non-null     object\n",
            " 22  date_of_death               137 non-null    object\n",
            "dtypes: object(23)\n",
            "memory usage: 359.5+ KB\n"
          ],
          "name": "stdout"
        }
      ]
    },
    {
      "cell_type": "markdown",
      "metadata": {
        "id": "TWHKi1oaj_6C"
      },
      "source": [
        "Se quitan los nulos y se reemplazan por 0"
      ]
    },
    {
      "cell_type": "markdown",
      "metadata": {
        "id": "J1EbCKOHA50G"
      },
      "source": [
        "verifying nulls\n",
        "\n",
        "\n",
        "```\n",
        "print(df.isnull().values.any())\n",
        "```\n",
        "[source](https://towardsdatascience.com/a-complete-guide-to-principal-component-analysis-pca-in-machine-learning-664f34fc3e5a)\n",
        "\n",
        "After use this function, the result of the code is false.\n"
      ]
    },
    {
      "cell_type": "code",
      "metadata": {
        "id": "rQ44rYiCiMm4"
      },
      "source": [
        "df = df.fillna(0)"
      ],
      "execution_count": null,
      "outputs": []
    },
    {
      "cell_type": "code",
      "metadata": {
        "colab": {
          "base_uri": "https://localhost:8080/"
        },
        "id": "5DZ6zuozBE1u",
        "outputId": "9a8a104b-1925-425e-aac2-07981532a8b9"
      },
      "source": [
        "print(df.isnull().values.any())"
      ],
      "execution_count": null,
      "outputs": [
        {
          "output_type": "stream",
          "text": [
            "False\n"
          ],
          "name": "stdout"
        }
      ]
    },
    {
      "cell_type": "code",
      "metadata": {
        "id": "loxQ85FZimxq",
        "colab": {
          "base_uri": "https://localhost:8080/"
        },
        "outputId": "63c6311d-0aba-40f4-873f-a7262ac1ab54"
      },
      "source": [
        "df.date_of_death\n"
      ],
      "execution_count": null,
      "outputs": [
        {
          "output_type": "execute_result",
          "data": {
            "text/plain": [
              "0                      0\n",
              "1                      0\n",
              "2                      0\n",
              "3                      0\n",
              "4                      0\n",
              "              ...       \n",
              "1995                   0\n",
              "1996                   0\n",
              "1997                   0\n",
              "1998    7/4/2020 0:00:00\n",
              "1999                   0\n",
              "Name: date_of_death, Length: 2000, dtype: object"
            ]
          },
          "metadata": {
            "tags": []
          },
          "execution_count": 31
        }
      ]
    },
    {
      "cell_type": "code",
      "metadata": {
        "id": "NIS4QOXyWwZg",
        "colab": {
          "base_uri": "https://localhost:8080/"
        },
        "outputId": "a1bd0678-b106-4676-9084-9422ea3fda2b"
      },
      "source": [
        "df.date_of_recovery"
      ],
      "execution_count": null,
      "outputs": [
        {
          "output_type": "execute_result",
          "data": {
            "text/plain": [
              "0       13/3/2020 0:00:00\n",
              "1       19/3/2020 0:00:00\n",
              "2       15/3/2020 0:00:00\n",
              "3       26/3/2020 0:00:00\n",
              "4       23/3/2020 0:00:00\n",
              "              ...        \n",
              "1995     9/5/2020 0:00:00\n",
              "1996     9/5/2020 0:00:00\n",
              "1997    24/5/2020 0:00:00\n",
              "1998                    0\n",
              "1999    11/4/2020 0:00:00\n",
              "Name: date_of_recovery, Length: 2000, dtype: object"
            ]
          },
          "metadata": {
            "tags": []
          },
          "execution_count": 32
        }
      ]
    },
    {
      "cell_type": "code",
      "metadata": {
        "id": "mn6u-_6NiPqp",
        "colab": {
          "base_uri": "https://localhost:8080/"
        },
        "outputId": "3498b7d1-de1b-4515-e38d-2597ddabbdfd"
      },
      "source": [
        "df.info()"
      ],
      "execution_count": null,
      "outputs": [
        {
          "output_type": "stream",
          "text": [
            "<class 'pandas.core.frame.DataFrame'>\n",
            "RangeIndex: 2000 entries, 0 to 1999\n",
            "Data columns (total 23 columns):\n",
            " #   Column                      Non-Null Count  Dtype \n",
            "---  ------                      --------------  ----- \n",
            " 0   web_date_report             2000 non-null   object\n",
            " 1   case_id                     2000 non-null   object\n",
            " 2   notification_date           2000 non-null   object\n",
            " 3   davipola_departament_code   2000 non-null   object\n",
            " 4   department_name             2000 non-null   object\n",
            " 5   davipola_municipality_code  2000 non-null   object\n",
            " 6   municipality_name           2000 non-null   object\n",
            " 7   age                         2000 non-null   object\n",
            " 8   age_measurement_unit        2000 non-null   object\n",
            " 9   sex                         2000 non-null   object\n",
            " 10  contagion_type              2000 non-null   object\n",
            " 11  case_location               2000 non-null   object\n",
            " 12  state                       2000 non-null   object\n",
            " 13  iso_country_code            2000 non-null   object\n",
            " 14  country_name                2000 non-null   object\n",
            " 15  recuperated                 2000 non-null   object\n",
            " 16  beginning_symptoms_date     2000 non-null   object\n",
            " 17  date_of_diagnosis           2000 non-null   object\n",
            " 18  date_of_recovery            2000 non-null   object\n",
            " 19  recovery_type               2000 non-null   object\n",
            " 20  ethnicity                   2000 non-null   object\n",
            " 21  ethnic_group_name           2000 non-null   object\n",
            " 22  date_of_death               2000 non-null   object\n",
            "dtypes: object(23)\n",
            "memory usage: 359.5+ KB\n"
          ],
          "name": "stdout"
        }
      ]
    },
    {
      "cell_type": "markdown",
      "metadata": {
        "id": "ZzevG-kZIBgA"
      },
      "source": [
        "Similarity mesurement (radio basics funciotn)\n",
        "1.  \n",
        "*   ML / rbf -| knn graph / \n",
        "*   train to know about who would most highly survive\n",
        "*   KNN graph (find the most near neibough\n",
        "2.  \n",
        "*   svm (support vector machine)\n",
        "\n",
        "\n",
        "\n",
        "\n",
        "\n",
        "Adjency matrix. to build a graph after apply rbf and knn aproach?\n",
        "\n"
      ]
    },
    {
      "cell_type": "code",
      "metadata": {
        "id": "qc9lSgc_dHgh",
        "colab": {
          "base_uri": "https://localhost:8080/",
          "height": 574
        },
        "outputId": "0be48ab8-fb34-414d-e95b-a88154b2fb69"
      },
      "source": [
        "df.head(10)"
      ],
      "execution_count": null,
      "outputs": [
        {
          "output_type": "execute_result",
          "data": {
            "text/html": [
              "<div>\n",
              "<style scoped>\n",
              "    .dataframe tbody tr th:only-of-type {\n",
              "        vertical-align: middle;\n",
              "    }\n",
              "\n",
              "    .dataframe tbody tr th {\n",
              "        vertical-align: top;\n",
              "    }\n",
              "\n",
              "    .dataframe thead th {\n",
              "        text-align: right;\n",
              "    }\n",
              "</style>\n",
              "<table border=\"1\" class=\"dataframe\">\n",
              "  <thead>\n",
              "    <tr style=\"text-align: right;\">\n",
              "      <th></th>\n",
              "      <th>web_date_report</th>\n",
              "      <th>case_id</th>\n",
              "      <th>notification_date</th>\n",
              "      <th>davipola_departament_code</th>\n",
              "      <th>department_name</th>\n",
              "      <th>davipola_municipality_code</th>\n",
              "      <th>municipality_name</th>\n",
              "      <th>age</th>\n",
              "      <th>age_measurement_unit</th>\n",
              "      <th>sex</th>\n",
              "      <th>contagion_type</th>\n",
              "      <th>case_location</th>\n",
              "      <th>state</th>\n",
              "      <th>iso_country_code</th>\n",
              "      <th>country_name</th>\n",
              "      <th>recuperated</th>\n",
              "      <th>beginning_symptoms_date</th>\n",
              "      <th>date_of_diagnosis</th>\n",
              "      <th>date_of_recovery</th>\n",
              "      <th>recovery_type</th>\n",
              "      <th>ethnicity</th>\n",
              "      <th>ethnic_group_name</th>\n",
              "      <th>date_of_death</th>\n",
              "    </tr>\n",
              "  </thead>\n",
              "  <tbody>\n",
              "    <tr>\n",
              "      <th>0</th>\n",
              "      <td>6/3/2020 0:00:00</td>\n",
              "      <td>1</td>\n",
              "      <td>2/3/2020 0:00:00</td>\n",
              "      <td>11</td>\n",
              "      <td>BOGOTA</td>\n",
              "      <td>11001</td>\n",
              "      <td>BOGOTA</td>\n",
              "      <td>19</td>\n",
              "      <td>1</td>\n",
              "      <td>F</td>\n",
              "      <td>Importado</td>\n",
              "      <td>Casa</td>\n",
              "      <td>Leve</td>\n",
              "      <td>380</td>\n",
              "      <td>ITALIA</td>\n",
              "      <td>Recuperado</td>\n",
              "      <td>27/2/2020 0:00:00</td>\n",
              "      <td>6/3/2020 0:00:00</td>\n",
              "      <td>13/3/2020 0:00:00</td>\n",
              "      <td>PCR</td>\n",
              "      <td>6</td>\n",
              "      <td>0</td>\n",
              "      <td>0</td>\n",
              "    </tr>\n",
              "    <tr>\n",
              "      <th>1</th>\n",
              "      <td>9/3/2020 0:00:00</td>\n",
              "      <td>2</td>\n",
              "      <td>6/3/2020 0:00:00</td>\n",
              "      <td>76</td>\n",
              "      <td>VALLE</td>\n",
              "      <td>76111</td>\n",
              "      <td>BUGA</td>\n",
              "      <td>34</td>\n",
              "      <td>1</td>\n",
              "      <td>M</td>\n",
              "      <td>Importado</td>\n",
              "      <td>Casa</td>\n",
              "      <td>Leve</td>\n",
              "      <td>724</td>\n",
              "      <td>ESPAÑA</td>\n",
              "      <td>Recuperado</td>\n",
              "      <td>4/3/2020 0:00:00</td>\n",
              "      <td>9/3/2020 0:00:00</td>\n",
              "      <td>19/3/2020 0:00:00</td>\n",
              "      <td>PCR</td>\n",
              "      <td>5</td>\n",
              "      <td>0</td>\n",
              "      <td>0</td>\n",
              "    </tr>\n",
              "    <tr>\n",
              "      <th>2</th>\n",
              "      <td>9/3/2020 0:00:00</td>\n",
              "      <td>3</td>\n",
              "      <td>7/3/2020 0:00:00</td>\n",
              "      <td>5</td>\n",
              "      <td>ANTIOQUIA</td>\n",
              "      <td>5001</td>\n",
              "      <td>MEDELLIN</td>\n",
              "      <td>50</td>\n",
              "      <td>1</td>\n",
              "      <td>F</td>\n",
              "      <td>Importado</td>\n",
              "      <td>Casa</td>\n",
              "      <td>Leve</td>\n",
              "      <td>724</td>\n",
              "      <td>ESPAÑA</td>\n",
              "      <td>Recuperado</td>\n",
              "      <td>29/2/2020 0:00:00</td>\n",
              "      <td>9/3/2020 0:00:00</td>\n",
              "      <td>15/3/2020 0:00:00</td>\n",
              "      <td>PCR</td>\n",
              "      <td>6</td>\n",
              "      <td>0</td>\n",
              "      <td>0</td>\n",
              "    </tr>\n",
              "    <tr>\n",
              "      <th>3</th>\n",
              "      <td>11/3/2020 0:00:00</td>\n",
              "      <td>4</td>\n",
              "      <td>9/3/2020 0:00:00</td>\n",
              "      <td>5</td>\n",
              "      <td>ANTIOQUIA</td>\n",
              "      <td>5001</td>\n",
              "      <td>MEDELLIN</td>\n",
              "      <td>55</td>\n",
              "      <td>1</td>\n",
              "      <td>M</td>\n",
              "      <td>Relacionado</td>\n",
              "      <td>Casa</td>\n",
              "      <td>Leve</td>\n",
              "      <td>0</td>\n",
              "      <td>0</td>\n",
              "      <td>Recuperado</td>\n",
              "      <td>6/3/2020 0:00:00</td>\n",
              "      <td>11/3/2020 0:00:00</td>\n",
              "      <td>26/3/2020 0:00:00</td>\n",
              "      <td>PCR</td>\n",
              "      <td>6</td>\n",
              "      <td>0</td>\n",
              "      <td>0</td>\n",
              "    </tr>\n",
              "    <tr>\n",
              "      <th>4</th>\n",
              "      <td>11/3/2020 0:00:00</td>\n",
              "      <td>5</td>\n",
              "      <td>9/3/2020 0:00:00</td>\n",
              "      <td>5</td>\n",
              "      <td>ANTIOQUIA</td>\n",
              "      <td>5001</td>\n",
              "      <td>MEDELLIN</td>\n",
              "      <td>25</td>\n",
              "      <td>1</td>\n",
              "      <td>M</td>\n",
              "      <td>Relacionado</td>\n",
              "      <td>Casa</td>\n",
              "      <td>Leve</td>\n",
              "      <td>0</td>\n",
              "      <td>0</td>\n",
              "      <td>Recuperado</td>\n",
              "      <td>8/3/2020 0:00:00</td>\n",
              "      <td>11/3/2020 0:00:00</td>\n",
              "      <td>23/3/2020 0:00:00</td>\n",
              "      <td>PCR</td>\n",
              "      <td>6</td>\n",
              "      <td>0</td>\n",
              "      <td>0</td>\n",
              "    </tr>\n",
              "    <tr>\n",
              "      <th>5</th>\n",
              "      <td>11/3/2020 0:00:00</td>\n",
              "      <td>6</td>\n",
              "      <td>10/3/2020 0:00:00</td>\n",
              "      <td>5</td>\n",
              "      <td>ANTIOQUIA</td>\n",
              "      <td>5360</td>\n",
              "      <td>ITAGUI</td>\n",
              "      <td>27</td>\n",
              "      <td>1</td>\n",
              "      <td>F</td>\n",
              "      <td>Relacionado</td>\n",
              "      <td>Casa</td>\n",
              "      <td>Leve</td>\n",
              "      <td>0</td>\n",
              "      <td>0</td>\n",
              "      <td>Recuperado</td>\n",
              "      <td>6/3/2020 0:00:00</td>\n",
              "      <td>11/3/2020 0:00:00</td>\n",
              "      <td>26/3/2020 0:00:00</td>\n",
              "      <td>PCR</td>\n",
              "      <td>6</td>\n",
              "      <td>0</td>\n",
              "      <td>0</td>\n",
              "    </tr>\n",
              "    <tr>\n",
              "      <th>6</th>\n",
              "      <td>11/3/2020 0:00:00</td>\n",
              "      <td>7</td>\n",
              "      <td>8/3/2020 0:00:00</td>\n",
              "      <td>13001</td>\n",
              "      <td>CARTAGENA</td>\n",
              "      <td>13001</td>\n",
              "      <td>CARTAGENA</td>\n",
              "      <td>85</td>\n",
              "      <td>1</td>\n",
              "      <td>F</td>\n",
              "      <td>Importado</td>\n",
              "      <td>Casa</td>\n",
              "      <td>Leve</td>\n",
              "      <td>840</td>\n",
              "      <td>ESTADOS UNIDOS DE AMÉRICA</td>\n",
              "      <td>Recuperado</td>\n",
              "      <td>2/3/2020 0:00:00</td>\n",
              "      <td>11/3/2020 0:00:00</td>\n",
              "      <td>17/3/2020 0:00:00</td>\n",
              "      <td>PCR</td>\n",
              "      <td>6</td>\n",
              "      <td>0</td>\n",
              "      <td>0</td>\n",
              "    </tr>\n",
              "    <tr>\n",
              "      <th>7</th>\n",
              "      <td>11/3/2020 0:00:00</td>\n",
              "      <td>8</td>\n",
              "      <td>9/3/2020 0:00:00</td>\n",
              "      <td>11</td>\n",
              "      <td>BOGOTA</td>\n",
              "      <td>11001</td>\n",
              "      <td>BOGOTA</td>\n",
              "      <td>22</td>\n",
              "      <td>1</td>\n",
              "      <td>F</td>\n",
              "      <td>Importado</td>\n",
              "      <td>Casa</td>\n",
              "      <td>Leve</td>\n",
              "      <td>724</td>\n",
              "      <td>ESPAÑA</td>\n",
              "      <td>Recuperado</td>\n",
              "      <td>6/3/2020 0:00:00</td>\n",
              "      <td>11/3/2020 0:00:00</td>\n",
              "      <td>21/3/2020 0:00:00</td>\n",
              "      <td>PCR</td>\n",
              "      <td>6</td>\n",
              "      <td>0</td>\n",
              "      <td>0</td>\n",
              "    </tr>\n",
              "    <tr>\n",
              "      <th>8</th>\n",
              "      <td>11/3/2020 0:00:00</td>\n",
              "      <td>9</td>\n",
              "      <td>8/3/2020 0:00:00</td>\n",
              "      <td>11</td>\n",
              "      <td>BOGOTA</td>\n",
              "      <td>11001</td>\n",
              "      <td>BOGOTA</td>\n",
              "      <td>28</td>\n",
              "      <td>1</td>\n",
              "      <td>F</td>\n",
              "      <td>Importado</td>\n",
              "      <td>Casa</td>\n",
              "      <td>Leve</td>\n",
              "      <td>724</td>\n",
              "      <td>ESPAÑA</td>\n",
              "      <td>Recuperado</td>\n",
              "      <td>7/3/2020 0:00:00</td>\n",
              "      <td>11/3/2020 0:00:00</td>\n",
              "      <td>23/3/2020 0:00:00</td>\n",
              "      <td>PCR</td>\n",
              "      <td>6</td>\n",
              "      <td>0</td>\n",
              "      <td>0</td>\n",
              "    </tr>\n",
              "    <tr>\n",
              "      <th>9</th>\n",
              "      <td>12/3/2020 0:00:00</td>\n",
              "      <td>10</td>\n",
              "      <td>12/3/2020 0:00:00</td>\n",
              "      <td>11</td>\n",
              "      <td>BOGOTA</td>\n",
              "      <td>11001</td>\n",
              "      <td>BOGOTA</td>\n",
              "      <td>36</td>\n",
              "      <td>1</td>\n",
              "      <td>F</td>\n",
              "      <td>Importado</td>\n",
              "      <td>Casa</td>\n",
              "      <td>Leve</td>\n",
              "      <td>724</td>\n",
              "      <td>ESPAÑA</td>\n",
              "      <td>Recuperado</td>\n",
              "      <td>6/3/2020 0:00:00</td>\n",
              "      <td>12/3/2020 0:00:00</td>\n",
              "      <td>21/3/2020 0:00:00</td>\n",
              "      <td>PCR</td>\n",
              "      <td>6</td>\n",
              "      <td>0</td>\n",
              "      <td>0</td>\n",
              "    </tr>\n",
              "  </tbody>\n",
              "</table>\n",
              "</div>"
            ],
            "text/plain": [
              "     web_date_report case_id  ... ethnic_group_name date_of_death\n",
              "0   6/3/2020 0:00:00       1  ...                 0             0\n",
              "1   9/3/2020 0:00:00       2  ...                 0             0\n",
              "2   9/3/2020 0:00:00       3  ...                 0             0\n",
              "3  11/3/2020 0:00:00       4  ...                 0             0\n",
              "4  11/3/2020 0:00:00       5  ...                 0             0\n",
              "5  11/3/2020 0:00:00       6  ...                 0             0\n",
              "6  11/3/2020 0:00:00       7  ...                 0             0\n",
              "7  11/3/2020 0:00:00       8  ...                 0             0\n",
              "8  11/3/2020 0:00:00       9  ...                 0             0\n",
              "9  12/3/2020 0:00:00      10  ...                 0             0\n",
              "\n",
              "[10 rows x 23 columns]"
            ]
          },
          "metadata": {
            "tags": []
          },
          "execution_count": 34
        }
      ]
    },
    {
      "cell_type": "code",
      "metadata": {
        "id": "i29KSOacgWDZ",
        "colab": {
          "base_uri": "https://localhost:8080/",
          "height": 53
        },
        "outputId": "8cffdc87-9e8c-432b-f99e-5dae05b42b74"
      },
      "source": [
        "\"\"\"\n",
        "model = tf.keras.Sequential([\n",
        "  tf.layers.Dense(input_shape=(28,28,3))),\n",
        "  tf.layers.Dense(100, activation='relu'),\n",
        "  tf.layers.Dense(100, activation='relu'),\n",
        "  tf.layers.Dense(10, activation='softmax')\n",
        "])\n",
        "\"\"\""
      ],
      "execution_count": null,
      "outputs": [
        {
          "output_type": "execute_result",
          "data": {
            "application/vnd.google.colaboratory.intrinsic+json": {
              "type": "string"
            },
            "text/plain": [
              "\"\\nmodel = tf.keras.Sequential([\\n  tf.layers.Dense(input_shape=(28,28,3))),\\n  tf.layers.Dense(100, activation='relu'),\\n  tf.layers.Dense(100, activation='relu'),\\n  tf.layers.Dense(10, activation='softmax')\\n])\\n\""
            ]
          },
          "metadata": {
            "tags": []
          },
          "execution_count": 35
        }
      ]
    },
    {
      "cell_type": "code",
      "metadata": {
        "id": "_ohRonOHd6Wf",
        "colab": {
          "base_uri": "https://localhost:8080/"
        },
        "outputId": "116ac53f-9735-4521-a0eb-a17f9d22f41c"
      },
      "source": [
        "for i in df.columns:\n",
        "  if i.find(\"date\") != -1:\n",
        "    print(i)\n",
        "    a = list()\n",
        "    for j in eval(\"df.\"+i):\n",
        "      #if j = null\n",
        "      if j != 0:\n",
        "        a.append(datetime.strptime(str(j), '%d/%m/%Y %H:%M:%S').timestamp())\n",
        "      else:\n",
        "        a.append(0)\n",
        "    df[i] = a"
      ],
      "execution_count": null,
      "outputs": [
        {
          "output_type": "stream",
          "text": [
            "web_date_report\n",
            "notification_date\n",
            "beginning_symptoms_date\n",
            "date_of_diagnosis\n",
            "date_of_recovery\n",
            "date_of_death\n"
          ],
          "name": "stdout"
        }
      ]
    },
    {
      "cell_type": "code",
      "metadata": {
        "id": "Rf05tuGSldLz",
        "colab": {
          "base_uri": "https://localhost:8080/"
        },
        "outputId": "e9c2990f-ded6-4db7-92c1-eb72f1fe6d58"
      },
      "source": [
        "df.values"
      ],
      "execution_count": null,
      "outputs": [
        {
          "output_type": "execute_result",
          "data": {
            "text/plain": [
              "array([[1583452800.0, '1', 1583107200.0, ..., '6', 0, 0.0],\n",
              "       [1583712000.0, '2', 1583452800.0, ..., '5', 0, 0.0],\n",
              "       [1583712000.0, '3', 1583539200.0, ..., '6', 0, 0.0],\n",
              "       ...,\n",
              "       [1586304000.0, '1998', 1585353600.0, ..., '6', 0, 0.0],\n",
              "       [1586304000.0, '1999', 1585180800.0, ..., '6', 0, 1586217600.0],\n",
              "       [1586304000.0, '2000', 1585267200.0, ..., '6', 0, 0.0]],\n",
              "      dtype=object)"
            ]
          },
          "metadata": {
            "tags": []
          },
          "execution_count": 37
        }
      ]
    },
    {
      "cell_type": "markdown",
      "metadata": {
        "id": "zlO8tbkQoQV2"
      },
      "source": [
        "1.   Delete departament name && municipality name \n",
        "2.   Binarize sex column\n",
        "3.   Delete country name\n",
        "4.   Normalize recovery type\n",
        "5.   Write documentation\n"
      ]
    },
    {
      "cell_type": "code",
      "metadata": {
        "id": "vBCI704Ansg5",
        "colab": {
          "base_uri": "https://localhost:8080/",
          "height": 300
        },
        "outputId": "42423e34-9cef-4da8-ca1e-4e6e61a0ee3c"
      },
      "source": [
        "df.describe()"
      ],
      "execution_count": null,
      "outputs": [
        {
          "output_type": "execute_result",
          "data": {
            "text/html": [
              "<div>\n",
              "<style scoped>\n",
              "    .dataframe tbody tr th:only-of-type {\n",
              "        vertical-align: middle;\n",
              "    }\n",
              "\n",
              "    .dataframe tbody tr th {\n",
              "        vertical-align: top;\n",
              "    }\n",
              "\n",
              "    .dataframe thead th {\n",
              "        text-align: right;\n",
              "    }\n",
              "</style>\n",
              "<table border=\"1\" class=\"dataframe\">\n",
              "  <thead>\n",
              "    <tr style=\"text-align: right;\">\n",
              "      <th></th>\n",
              "      <th>web_date_report</th>\n",
              "      <th>notification_date</th>\n",
              "      <th>beginning_symptoms_date</th>\n",
              "      <th>date_of_diagnosis</th>\n",
              "      <th>date_of_recovery</th>\n",
              "      <th>date_of_death</th>\n",
              "    </tr>\n",
              "  </thead>\n",
              "  <tbody>\n",
              "    <tr>\n",
              "      <th>count</th>\n",
              "      <td>2.000000e+03</td>\n",
              "      <td>2.000000e+03</td>\n",
              "      <td>2.000000e+03</td>\n",
              "      <td>2.000000e+03</td>\n",
              "      <td>2.000000e+03</td>\n",
              "      <td>2.000000e+03</td>\n",
              "    </tr>\n",
              "    <tr>\n",
              "      <th>mean</th>\n",
              "      <td>1.585609e+09</td>\n",
              "      <td>1.585197e+09</td>\n",
              "      <td>1.535553e+09</td>\n",
              "      <td>1.584023e+09</td>\n",
              "      <td>1.484463e+09</td>\n",
              "      <td>1.087885e+08</td>\n",
              "    </tr>\n",
              "    <tr>\n",
              "      <th>std</th>\n",
              "      <td>5.807891e+05</td>\n",
              "      <td>5.252971e+05</td>\n",
              "      <td>2.747219e+08</td>\n",
              "      <td>5.013214e+07</td>\n",
              "      <td>3.915072e+08</td>\n",
              "      <td>4.012747e+08</td>\n",
              "    </tr>\n",
              "    <tr>\n",
              "      <th>min</th>\n",
              "      <td>1.583453e+09</td>\n",
              "      <td>1.583107e+09</td>\n",
              "      <td>0.000000e+00</td>\n",
              "      <td>0.000000e+00</td>\n",
              "      <td>0.000000e+00</td>\n",
              "      <td>0.000000e+00</td>\n",
              "    </tr>\n",
              "    <tr>\n",
              "      <th>25%</th>\n",
              "      <td>1.585267e+09</td>\n",
              "      <td>1.584922e+09</td>\n",
              "      <td>1.584230e+09</td>\n",
              "      <td>1.585267e+09</td>\n",
              "      <td>1.586131e+09</td>\n",
              "      <td>0.000000e+00</td>\n",
              "    </tr>\n",
              "    <tr>\n",
              "      <th>50%</th>\n",
              "      <td>1.585699e+09</td>\n",
              "      <td>1.585267e+09</td>\n",
              "      <td>1.584662e+09</td>\n",
              "      <td>1.585699e+09</td>\n",
              "      <td>1.586909e+09</td>\n",
              "      <td>0.000000e+00</td>\n",
              "    </tr>\n",
              "    <tr>\n",
              "      <th>75%</th>\n",
              "      <td>1.586131e+09</td>\n",
              "      <td>1.585526e+09</td>\n",
              "      <td>1.585008e+09</td>\n",
              "      <td>1.586131e+09</td>\n",
              "      <td>1.588637e+09</td>\n",
              "      <td>0.000000e+00</td>\n",
              "    </tr>\n",
              "    <tr>\n",
              "      <th>max</th>\n",
              "      <td>1.586304e+09</td>\n",
              "      <td>1.593821e+09</td>\n",
              "      <td>1.593562e+09</td>\n",
              "      <td>1.586304e+09</td>\n",
              "      <td>1.622938e+09</td>\n",
              "      <td>1.620000e+09</td>\n",
              "    </tr>\n",
              "  </tbody>\n",
              "</table>\n",
              "</div>"
            ],
            "text/plain": [
              "       web_date_report  notification_date  ...  date_of_recovery  date_of_death\n",
              "count     2.000000e+03       2.000000e+03  ...      2.000000e+03   2.000000e+03\n",
              "mean      1.585609e+09       1.585197e+09  ...      1.484463e+09   1.087885e+08\n",
              "std       5.807891e+05       5.252971e+05  ...      3.915072e+08   4.012747e+08\n",
              "min       1.583453e+09       1.583107e+09  ...      0.000000e+00   0.000000e+00\n",
              "25%       1.585267e+09       1.584922e+09  ...      1.586131e+09   0.000000e+00\n",
              "50%       1.585699e+09       1.585267e+09  ...      1.586909e+09   0.000000e+00\n",
              "75%       1.586131e+09       1.585526e+09  ...      1.588637e+09   0.000000e+00\n",
              "max       1.586304e+09       1.593821e+09  ...      1.622938e+09   1.620000e+09\n",
              "\n",
              "[8 rows x 6 columns]"
            ]
          },
          "metadata": {
            "tags": []
          },
          "execution_count": 38
        }
      ]
    },
    {
      "cell_type": "markdown",
      "metadata": {
        "id": "TAnau-WwoaT2"
      },
      "source": [
        "Analisis de componentes principales (APC)\n",
        "\n",
        "quitar lo que se puede.\n",
        "\n"
      ]
    },
    {
      "cell_type": "code",
      "metadata": {
        "id": "zGb9N8jfsC9W"
      },
      "source": [
        ""
      ],
      "execution_count": null,
      "outputs": []
    },
    {
      "cell_type": "markdown",
      "metadata": {
        "id": "8R_mL1pUp_Cp"
      },
      "source": [
        "desviación estandar de  para analizar causas de muerte"
      ]
    },
    {
      "cell_type": "markdown",
      "metadata": {
        "id": "40F9oHJIdgcL"
      },
      "source": [
        ".fit\n",
        "\n",
        "se realiza conversión a todos los que tengan"
      ]
    },
    {
      "cell_type": "code",
      "metadata": {
        "id": "fkydYBByUQDC",
        "colab": {
          "base_uri": "https://localhost:8080/"
        },
        "outputId": "e4b12ea5-2970-4362-f9d0-2018cc308cff"
      },
      "source": [
        "#/-////////////////////////////////////////////////////////#\n",
        "#                                                         /\n",
        "#              average of recovery time per genre         /\n",
        "#                                                         /\n",
        "#/////////////////////////////////////////////////////////#\n",
        "\n",
        "#////////////////////////////////////////////////////////#\n",
        "#                                                        /\n",
        "#     Capitalize Sex column values to avoid errors       /\n",
        "#                                                        /\n",
        "#////////////////////////////////////////////////////////#\n",
        "\n",
        "#///\n",
        "\n",
        "\n",
        "\n",
        "#////////////////////////////////////////////////////////#\n",
        "#                                                        /\n",
        "#  substract betweeen two dates and store it the answer  /\n",
        "#                                                        /\n",
        "#////////////////////////////////////////////////////////#\n",
        "\n",
        "def get_duration_of_illness(x:any):\n",
        "  time = 0\n",
        "  z = list()\n",
        "  count = 0\n",
        "  for e in x.index:\n",
        "    # print(\"position:\")\n",
        "    # print(e)\n",
        "    # print(x.recuperated[e])\n",
        "    count += 1\n",
        "    if x.date_of_recovery[e] != 0:\n",
        "      x.loc[e, \"time_to_recover\"] = abs(x.date_of_recovery[e] - x.beginning_symptoms_date[e])\n",
        "    elif x.date_of_death[e] != 0:\n",
        "      x.loc[e, \"time_to_recover\"] = abs(x.date_of_death[e] - x.beginning_symptoms_date[e])\n",
        "    elif x.date_of_death[e] == 0 and x.date_of_recovery[e] == 0:\n",
        "      print(\"NAN\")\n",
        "      x.loc[e, \"time_to_recover\"] = 0\n",
        "  \n",
        "  print(\"The total amount of data is: \"+ str(count))\n",
        "\n",
        "  return x\n",
        "\n",
        "      # x.duration_of_illness.append()\n",
        "      \n",
        "      # abs((d2 - d1).days)\n",
        "\n",
        "#////////////////////////////////////////////////////////#\n",
        "#                                                        /\n",
        "# Get important Columns to get the main of recovery time /\n",
        "#                                                        /\n",
        "#////////////////////////////////////////////////////////#\n",
        "\n",
        "mean = 0\n",
        "array_duration_of_illness = df.loc[\n",
        "                                   :,\n",
        "                                   [\n",
        "                                    \"sex\",\n",
        "                                    \"beginning_symptoms_date\",\n",
        "                                    \"date_of_recovery\",\n",
        "                                    \"date_of_death\",\n",
        "                                    \"recuperated\"\n",
        "                                    ]\n",
        "                                   ].copy()\n",
        "\n",
        "                                   #  sex M/ 15 avg to get recover from beginning_symptoms_date. \n",
        "                                   #  sex F/ 14 avg.\n",
        "\n",
        "                                   # Male / Ibague / how long time do they neeed to get recover?\n",
        "                                   #cound .. avg ... \n",
        "\n",
        "                                   ## share tje ML research results -| graph clustering. \n",
        "\n",
        "array_dates_women = array_duration_of_illness[array_duration_of_illness[\"sex\"] == 'F']\n",
        "get_duration_of_illness(array_dates_women)\n",
        "\n",
        "array_dates_men = array_duration_of_illness[array_duration_of_illness[\"sex\"] == \"M\"]\n",
        "get_duration_of_illness(array_dates_men)\n",
        "\n",
        "print(df.iloc[471])\n",
        "\n",
        "#////           For alive people\n",
        "# df.beginning_symptoms_date - df.date_of_recovery \n",
        "\n",
        "\n",
        "#////           For death people\n",
        "# df.beginning_symptoms_date - df.date_of_death "
      ],
      "execution_count": null,
      "outputs": [
        {
          "output_type": "stream",
          "text": [
            "/usr/local/lib/python3.7/dist-packages/pandas/core/indexing.py:1596: SettingWithCopyWarning: \n",
            "A value is trying to be set on a copy of a slice from a DataFrame.\n",
            "Try using .loc[row_indexer,col_indexer] = value instead\n",
            "\n",
            "See the caveats in the documentation: https://pandas.pydata.org/pandas-docs/stable/user_guide/indexing.html#returning-a-view-versus-a-copy\n",
            "  self.obj[key] = _infer_fill_value(value)\n",
            "/usr/local/lib/python3.7/dist-packages/pandas/core/indexing.py:1763: SettingWithCopyWarning: \n",
            "A value is trying to be set on a copy of a slice from a DataFrame.\n",
            "Try using .loc[row_indexer,col_indexer] = value instead\n",
            "\n",
            "See the caveats in the documentation: https://pandas.pydata.org/pandas-docs/stable/user_guide/indexing.html#returning-a-view-versus-a-copy\n",
            "  isetter(loc, value)\n"
          ],
          "name": "stderr"
        },
        {
          "output_type": "stream",
          "text": [
            "The total amount of data is: 996\n",
            "The total amount of data is: 1004\n",
            "web_date_report               1.58509e+09\n",
            "case_id                               472\n",
            "notification_date             1.58484e+09\n",
            "davipola_departament_code              11\n",
            "department_name                    BOGOTA\n",
            "davipola_municipality_code          11001\n",
            "municipality_name                  BOGOTA\n",
            "age                                    19\n",
            "age_measurement_unit                    1\n",
            "sex                                     F\n",
            "contagion_type                  Importado\n",
            "case_location                        Casa\n",
            "state                                Leve\n",
            "iso_country_code                      276\n",
            "country_name                     ALEMANIA\n",
            "recuperated                    Recuperado\n",
            "beginning_symptoms_date       1.58449e+09\n",
            "date_of_diagnosis             1.58509e+09\n",
            "date_of_recovery              1.58812e+09\n",
            "recovery_type                         PCR\n",
            "ethnicity                               6\n",
            "ethnic_group_name                       0\n",
            "date_of_death                           0\n",
            "Name: 471, dtype: object\n"
          ],
          "name": "stdout"
        }
      ]
    },
    {
      "cell_type": "code",
      "metadata": {
        "colab": {
          "base_uri": "https://localhost:8080/"
        },
        "id": "lE709nOU5wLG",
        "outputId": "83b4a631-75a8-41fe-abcd-f37807cfe0d1"
      },
      "source": [
        "df.isnull().sum()"
      ],
      "execution_count": null,
      "outputs": [
        {
          "output_type": "execute_result",
          "data": {
            "text/plain": [
              "web_date_report               0\n",
              "case_id                       0\n",
              "notification_date             0\n",
              "davipola_departament_code     0\n",
              "department_name               0\n",
              "davipola_municipality_code    0\n",
              "municipality_name             0\n",
              "age                           0\n",
              "age_measurement_unit          0\n",
              "sex                           0\n",
              "contagion_type                0\n",
              "case_location                 0\n",
              "state                         0\n",
              "iso_country_code              0\n",
              "country_name                  0\n",
              "recuperated                   0\n",
              "beginning_symptoms_date       0\n",
              "date_of_diagnosis             0\n",
              "date_of_recovery              0\n",
              "recovery_type                 0\n",
              "ethnicity                     0\n",
              "ethnic_group_name             0\n",
              "date_of_death                 0\n",
              "dtype: int64"
            ]
          },
          "metadata": {
            "tags": []
          },
          "execution_count": 57
        }
      ]
    },
    {
      "cell_type": "markdown",
      "metadata": {
        "id": "fQm-H4C3IPhL"
      },
      "source": [
        "Replacing\n"
      ]
    },
    {
      "cell_type": "code",
      "metadata": {
        "colab": {
          "base_uri": "https://localhost:8080/",
          "height": 167
        },
        "id": "ytLrt03f_Zgn",
        "outputId": "0306a4e9-0e64-4d32-ad10-47a026485b55"
      },
      "source": [
        "df.boxplot('age','contagion_type',rot = 0,figsize=(5,6))"
      ],
      "execution_count": 2,
      "outputs": [
        {
          "output_type": "error",
          "ename": "NameError",
          "evalue": "ignored",
          "traceback": [
            "\u001b[0;31m---------------------------------------------------------------------------\u001b[0m",
            "\u001b[0;31mNameError\u001b[0m                                 Traceback (most recent call last)",
            "\u001b[0;32m<ipython-input-2-97b61238ba21>\u001b[0m in \u001b[0;36m<module>\u001b[0;34m()\u001b[0m\n\u001b[0;32m----> 1\u001b[0;31m \u001b[0mdf\u001b[0m\u001b[0;34m.\u001b[0m\u001b[0mboxplot\u001b[0m\u001b[0;34m(\u001b[0m\u001b[0;34m'age'\u001b[0m\u001b[0;34m,\u001b[0m\u001b[0;34m'contagion_type'\u001b[0m\u001b[0;34m,\u001b[0m\u001b[0mrot\u001b[0m \u001b[0;34m=\u001b[0m \u001b[0;36m0\u001b[0m\u001b[0;34m,\u001b[0m\u001b[0mfigsize\u001b[0m\u001b[0;34m=\u001b[0m\u001b[0;34m(\u001b[0m\u001b[0;36m5\u001b[0m\u001b[0;34m,\u001b[0m\u001b[0;36m6\u001b[0m\u001b[0;34m)\u001b[0m\u001b[0;34m)\u001b[0m\u001b[0;34m\u001b[0m\u001b[0;34m\u001b[0m\u001b[0m\n\u001b[0m",
            "\u001b[0;31mNameError\u001b[0m: name 'df' is not defined"
          ]
        }
      ]
    },
    {
      "cell_type": "code",
      "metadata": {
        "id": "4w47exTbId_i"
      },
      "source": [
        "#df.replace([{'sex': {'F': 0, 'M': 1}]}) #Female = 0; Male = 1\n",
        "df.replace(['F',\n",
        "            'M'],\n",
        "          [ '1',\n",
        "            '0'])\n",
        "#contagion type\n",
        "df.replace(['Comunitaria',\n",
        "            'Relacionado',\n",
        "            'En estudio',\n",
        "            'Importado',],\n",
        "           ['0',\n",
        "            '1',\n",
        "            '2',\n",
        "            '3',])\n",
        "\n",
        "df.replace(['casa',\n",
        "            'Casa',\n",
        "            'CASA',\n",
        "            'CASA',\n",
        "            'Hospital',\n",
        "            'Hospital UCI',\n",
        "#   Its important because of the equivalent vallues in other columns,\n",
        "#   so, in other columns also will be replaced by the same nuemric vallue\n",
        "            'N/A',\n",
        "            'Fallecido',\n",
        "            ],\n",
        "           ['0','0','0','0',\n",
        "            '1',\n",
        "            '2',\n",
        "            '3',\n",
        "            '4',])\n",
        "\n",
        "\n",
        "df.replace(['leve',\n",
        "            'Leve',\n",
        "            'LEVE',\n",
        "            'Moderado',\n",
        "            'Grave',\n",
        "#   Its important because of the equivalent vallues in other columns,\n",
        "#   so, in other columns also will be replaced by the same nuemric vallue\n",
        "            'N/A',\n",
        "            'Fallecido',\n",
        "            ],\n",
        "           ['0','0','0',\n",
        "            '1',\n",
        "            '2',\n",
        "            '3',\n",
        "            '4',])\n",
        "\n"
      ],
      "execution_count": null,
      "outputs": []
    },
    {
      "cell_type": "markdown",
      "metadata": {
        "id": "otss_huJ6-v5"
      },
      "source": [
        "#Euclidean function\n",
        "\n"
      ]
    },
    {
      "cell_type": "code",
      "metadata": {
        "id": "u52V2JsNEpTc",
        "colab": {
          "base_uri": "https://localhost:8080/",
          "height": 444
        },
        "outputId": "46638033-74c5-4d51-df29-f83548dfaa19"
      },
      "source": [
        "df_to_use_in_pca = df.iloc[:, lambda df: [2,3,5,8,9,10,11,12,13,15,16,17,18,20,21]].copy() \n",
        "df_to_use_in_pca"
      ],
      "execution_count": null,
      "outputs": [
        {
          "output_type": "execute_result",
          "data": {
            "text/html": [
              "<div>\n",
              "<style scoped>\n",
              "    .dataframe tbody tr th:only-of-type {\n",
              "        vertical-align: middle;\n",
              "    }\n",
              "\n",
              "    .dataframe tbody tr th {\n",
              "        vertical-align: top;\n",
              "    }\n",
              "\n",
              "    .dataframe thead th {\n",
              "        text-align: right;\n",
              "    }\n",
              "</style>\n",
              "<table border=\"1\" class=\"dataframe\">\n",
              "  <thead>\n",
              "    <tr style=\"text-align: right;\">\n",
              "      <th></th>\n",
              "      <th>notification_date</th>\n",
              "      <th>davipola_departament_code</th>\n",
              "      <th>davipola_municipality_code</th>\n",
              "      <th>age_measurement_unit</th>\n",
              "      <th>sex</th>\n",
              "      <th>contagion_type</th>\n",
              "      <th>case_location</th>\n",
              "      <th>state</th>\n",
              "      <th>iso_country_code</th>\n",
              "      <th>recuperated</th>\n",
              "      <th>beginning_symptoms_date</th>\n",
              "      <th>date_of_diagnosis</th>\n",
              "      <th>date_of_recovery</th>\n",
              "      <th>ethnicity</th>\n",
              "      <th>ethnic_group_name</th>\n",
              "    </tr>\n",
              "  </thead>\n",
              "  <tbody>\n",
              "    <tr>\n",
              "      <th>0</th>\n",
              "      <td>1.583107e+09</td>\n",
              "      <td>11</td>\n",
              "      <td>11001</td>\n",
              "      <td>1</td>\n",
              "      <td>F</td>\n",
              "      <td>Importado</td>\n",
              "      <td>Casa</td>\n",
              "      <td>Leve</td>\n",
              "      <td>380</td>\n",
              "      <td>Recuperado</td>\n",
              "      <td>1.582762e+09</td>\n",
              "      <td>1.583453e+09</td>\n",
              "      <td>1.584058e+09</td>\n",
              "      <td>6</td>\n",
              "      <td>0</td>\n",
              "    </tr>\n",
              "    <tr>\n",
              "      <th>1</th>\n",
              "      <td>1.583453e+09</td>\n",
              "      <td>76</td>\n",
              "      <td>76111</td>\n",
              "      <td>1</td>\n",
              "      <td>M</td>\n",
              "      <td>Importado</td>\n",
              "      <td>Casa</td>\n",
              "      <td>Leve</td>\n",
              "      <td>724</td>\n",
              "      <td>Recuperado</td>\n",
              "      <td>1.583280e+09</td>\n",
              "      <td>1.583712e+09</td>\n",
              "      <td>1.584576e+09</td>\n",
              "      <td>5</td>\n",
              "      <td>0</td>\n",
              "    </tr>\n",
              "    <tr>\n",
              "      <th>2</th>\n",
              "      <td>1.583539e+09</td>\n",
              "      <td>5</td>\n",
              "      <td>5001</td>\n",
              "      <td>1</td>\n",
              "      <td>F</td>\n",
              "      <td>Importado</td>\n",
              "      <td>Casa</td>\n",
              "      <td>Leve</td>\n",
              "      <td>724</td>\n",
              "      <td>Recuperado</td>\n",
              "      <td>1.582934e+09</td>\n",
              "      <td>1.583712e+09</td>\n",
              "      <td>1.584230e+09</td>\n",
              "      <td>6</td>\n",
              "      <td>0</td>\n",
              "    </tr>\n",
              "    <tr>\n",
              "      <th>3</th>\n",
              "      <td>1.583712e+09</td>\n",
              "      <td>5</td>\n",
              "      <td>5001</td>\n",
              "      <td>1</td>\n",
              "      <td>M</td>\n",
              "      <td>Relacionado</td>\n",
              "      <td>Casa</td>\n",
              "      <td>Leve</td>\n",
              "      <td>0</td>\n",
              "      <td>Recuperado</td>\n",
              "      <td>1.583453e+09</td>\n",
              "      <td>1.583885e+09</td>\n",
              "      <td>1.585181e+09</td>\n",
              "      <td>6</td>\n",
              "      <td>0</td>\n",
              "    </tr>\n",
              "    <tr>\n",
              "      <th>4</th>\n",
              "      <td>1.583712e+09</td>\n",
              "      <td>5</td>\n",
              "      <td>5001</td>\n",
              "      <td>1</td>\n",
              "      <td>M</td>\n",
              "      <td>Relacionado</td>\n",
              "      <td>Casa</td>\n",
              "      <td>Leve</td>\n",
              "      <td>0</td>\n",
              "      <td>Recuperado</td>\n",
              "      <td>1.583626e+09</td>\n",
              "      <td>1.583885e+09</td>\n",
              "      <td>1.584922e+09</td>\n",
              "      <td>6</td>\n",
              "      <td>0</td>\n",
              "    </tr>\n",
              "    <tr>\n",
              "      <th>...</th>\n",
              "      <td>...</td>\n",
              "      <td>...</td>\n",
              "      <td>...</td>\n",
              "      <td>...</td>\n",
              "      <td>...</td>\n",
              "      <td>...</td>\n",
              "      <td>...</td>\n",
              "      <td>...</td>\n",
              "      <td>...</td>\n",
              "      <td>...</td>\n",
              "      <td>...</td>\n",
              "      <td>...</td>\n",
              "      <td>...</td>\n",
              "      <td>...</td>\n",
              "      <td>...</td>\n",
              "    </tr>\n",
              "    <tr>\n",
              "      <th>1995</th>\n",
              "      <td>1.585181e+09</td>\n",
              "      <td>5</td>\n",
              "      <td>5001</td>\n",
              "      <td>1</td>\n",
              "      <td>M</td>\n",
              "      <td>Importado</td>\n",
              "      <td>Casa</td>\n",
              "      <td>Leve</td>\n",
              "      <td>724</td>\n",
              "      <td>Recuperado</td>\n",
              "      <td>1.584490e+09</td>\n",
              "      <td>1.586304e+09</td>\n",
              "      <td>1.588982e+09</td>\n",
              "      <td>6</td>\n",
              "      <td>0</td>\n",
              "    </tr>\n",
              "    <tr>\n",
              "      <th>1996</th>\n",
              "      <td>1.584835e+09</td>\n",
              "      <td>5</td>\n",
              "      <td>5088</td>\n",
              "      <td>1</td>\n",
              "      <td>F</td>\n",
              "      <td>Importado</td>\n",
              "      <td>Casa</td>\n",
              "      <td>Leve</td>\n",
              "      <td>388</td>\n",
              "      <td>Recuperado</td>\n",
              "      <td>1.584144e+09</td>\n",
              "      <td>1.586304e+09</td>\n",
              "      <td>1.588982e+09</td>\n",
              "      <td>6</td>\n",
              "      <td>0</td>\n",
              "    </tr>\n",
              "    <tr>\n",
              "      <th>1997</th>\n",
              "      <td>1.585354e+09</td>\n",
              "      <td>5</td>\n",
              "      <td>5001</td>\n",
              "      <td>1</td>\n",
              "      <td>M</td>\n",
              "      <td>Importado</td>\n",
              "      <td>Casa</td>\n",
              "      <td>Leve</td>\n",
              "      <td>840</td>\n",
              "      <td>Recuperado</td>\n",
              "      <td>1.584922e+09</td>\n",
              "      <td>1.586304e+09</td>\n",
              "      <td>1.590278e+09</td>\n",
              "      <td>6</td>\n",
              "      <td>0</td>\n",
              "    </tr>\n",
              "    <tr>\n",
              "      <th>1998</th>\n",
              "      <td>1.585181e+09</td>\n",
              "      <td>47001</td>\n",
              "      <td>47001</td>\n",
              "      <td>1</td>\n",
              "      <td>M</td>\n",
              "      <td>Relacionado</td>\n",
              "      <td>Fallecido</td>\n",
              "      <td>Fallecido</td>\n",
              "      <td>0</td>\n",
              "      <td>Fallecido</td>\n",
              "      <td>1.584922e+09</td>\n",
              "      <td>1.586304e+09</td>\n",
              "      <td>0.000000e+00</td>\n",
              "      <td>6</td>\n",
              "      <td>0</td>\n",
              "    </tr>\n",
              "    <tr>\n",
              "      <th>1999</th>\n",
              "      <td>1.585267e+09</td>\n",
              "      <td>8</td>\n",
              "      <td>8758</td>\n",
              "      <td>1</td>\n",
              "      <td>F</td>\n",
              "      <td>Relacionado</td>\n",
              "      <td>Casa</td>\n",
              "      <td>Leve</td>\n",
              "      <td>0</td>\n",
              "      <td>Recuperado</td>\n",
              "      <td>1.584835e+09</td>\n",
              "      <td>1.586304e+09</td>\n",
              "      <td>1.586563e+09</td>\n",
              "      <td>6</td>\n",
              "      <td>0</td>\n",
              "    </tr>\n",
              "  </tbody>\n",
              "</table>\n",
              "<p>2000 rows × 15 columns</p>\n",
              "</div>"
            ],
            "text/plain": [
              "      notification_date davipola_departament_code  ... ethnicity ethnic_group_name\n",
              "0          1.583107e+09                        11  ...         6                 0\n",
              "1          1.583453e+09                        76  ...         5                 0\n",
              "2          1.583539e+09                         5  ...         6                 0\n",
              "3          1.583712e+09                         5  ...         6                 0\n",
              "4          1.583712e+09                         5  ...         6                 0\n",
              "...                 ...                       ...  ...       ...               ...\n",
              "1995       1.585181e+09                         5  ...         6                 0\n",
              "1996       1.584835e+09                         5  ...         6                 0\n",
              "1997       1.585354e+09                         5  ...         6                 0\n",
              "1998       1.585181e+09                     47001  ...         6                 0\n",
              "1999       1.585267e+09                         8  ...         6                 0\n",
              "\n",
              "[2000 rows x 15 columns]"
            ]
          },
          "metadata": {
            "tags": []
          },
          "execution_count": 41
        }
      ]
    },
    {
      "cell_type": "markdown",
      "metadata": {
        "id": "2ezeh3drdQ6y"
      },
      "source": [
        "#Compromiso\n",
        "\n",
        "1. Servicio que colecta la data por departamento y la guarda en la base de datos\n",
        "    * Eliminar registros por departamento y volver a consultarlos y almacenarlos\n",
        "2. Servicio que recibe por parametro el id del departamento \n",
        "3. Servicio que recupera la info por municipio.\n"
      ]
    },
    {
      "cell_type": "markdown",
      "metadata": {
        "id": "jgzxeoX8QasQ"
      },
      "source": [
        ""
      ]
    },
    {
      "cell_type": "markdown",
      "metadata": {
        "id": "HJg4HPW9Qa6j"
      },
      "source": [
        "#Commitment\n",
        "\n",
        "1. Service which collect the data from Colombia according to each departament (state)\n",
        "    * Delete records per departament and request it again\n",
        "2. Service which get by parameter the departament_id and return the information\n",
        "3. Service get municipality info\n"
      ]
    },
    {
      "cell_type": "markdown",
      "metadata": {
        "id": "BO2F88Rnch8C"
      },
      "source": [
        "Documentation\n",
        "\n",
        "\n",
        "\n",
        "request\n",
        "[location and count](https://datos.gov.co/resource/gt2j-8ykr.json?$select=%20count(id_de_caso),ubicacion&$group=ubicacion)\n",
        "\n",
        "\n",
        "Json\n",
        "\n",
        "```\n",
        "count_id_de_caso\t\"11015\"\n",
        "ubicacion\t\"casa\"\n",
        "count_id_de_caso\t\"4028443\"\n",
        "ubicacion\t\"Casa\"\n",
        "count_id_de_caso\t\"7\"\n",
        "ubicacion\t\"CASA\"\n",
        "count_id_de_caso\t\"105326\"\n",
        "ubicacion\t\"Fallecido\"\n",
        "count_id_de_caso\t\"22865\"\n",
        "ubicacion\t\"Hospital\"\n",
        "count_id_de_caso\t\"4963\"\n",
        "ubicacion\t\"Hospital UCI\"\n",
        "count_id_de_caso\t\"14575\"\n",
        "ubicacion\t\"N/A\"\n",
        "```\n",
        "\n"
      ]
    },
    {
      "cell_type": "markdown",
      "metadata": {
        "id": "p8Wch07qpLlb"
      },
      "source": [
        "Contagion types\n",
        "\n",
        "\n",
        "**source contagion type**\n",
        "[request](https://datos.gov.co/resource/gt2j-8ykr.json?$select=%20fuente_tipo_contagio&$group=fuente_tipo_contagio)\n",
        "\n",
        "Json\n",
        ">Note: Order change in the time\n",
        "```\n",
        "[\n",
        "{\"fuente_tipo_contagio\":\"Comunitaria\"}\n",
        ",{\"fuente_tipo_contagio\":\"En estudio\"}\n",
        ",{\"fuente_tipo_contagio\":\"Importado\"}\n",
        ",{\"fuente_tipo_contagio\":\"Relacionado\"}\n",
        "]\n",
        "```\n"
      ]
    },
    {
      "cell_type": "markdown",
      "metadata": {
        "id": "F069Cqmqv-TC"
      },
      "source": [
        "Patient State [request](https://datos.gov.co/resource/gt2j-8ykr.json?$select=%20estado&$group=estado)\n",
        "\n",
        "\n",
        "***Patient state *** \n",
        "\n",
        "\n",
        "```\n",
        "[{\"estado\":\"Fallecido\"}\n",
        ",{\"estado\":\"Grave\"}\n",
        ",{\"estado\":\"leve\"}\n",
        ",{\"estado\":\"Leve\"}\n",
        ",{\"estado\":\"LEVE\"}\n",
        ",{\"estado\":\"Moderado\"}\n",
        ",{\"estado\":\"N/A\"}]\n",
        "```\n",
        "\n"
      ]
    },
    {
      "cell_type": "markdown",
      "metadata": {
        "id": "e4HQmXBWoW1n"
      },
      "source": [
        "#PCA"
      ]
    },
    {
      "cell_type": "code",
      "metadata": {
        "colab": {
          "base_uri": "https://localhost:8080/"
        },
        "id": "B12KbFiFoZSU",
        "outputId": "4d1254ec-afb5-484c-c817-be71073159fa"
      },
      "source": [
        "from sklearn.decomposition import PCA\n",
        "\n",
        "#Example 1\n",
        "X = np.array([[-1, -1], [-2, -1], [-3, -2], [1, 1], [2, 1], [3, 2]])\n",
        "pca = PCA(n_components=2)\n",
        "pca.fit(X)"
      ],
      "execution_count": null,
      "outputs": [
        {
          "output_type": "execute_result",
          "data": {
            "text/plain": [
              "PCA(copy=True, iterated_power='auto', n_components=2, random_state=None,\n",
              "    svd_solver='auto', tol=0.0, whiten=False)"
            ]
          },
          "metadata": {
            "tags": []
          },
          "execution_count": 46
        }
      ]
    },
    {
      "cell_type": "code",
      "metadata": {
        "colab": {
          "base_uri": "https://localhost:8080/"
        },
        "id": "zeAoJ04bolvO",
        "outputId": "444b7615-ddb4-4caf-8cdf-dfe5e84f9d59"
      },
      "source": [
        "print(pca.explained_variance_ratio_)\n",
        "print(pca.singular_values_)"
      ],
      "execution_count": null,
      "outputs": [
        {
          "output_type": "stream",
          "text": [
            "[0.99244289 0.00755711]\n",
            "[6.30061232 0.54980396]\n"
          ],
          "name": "stdout"
        }
      ]
    },
    {
      "cell_type": "code",
      "metadata": {
        "id": "amWBHaGjo4I8"
      },
      "source": [
        "#Example 2"
      ],
      "execution_count": null,
      "outputs": []
    },
    {
      "cell_type": "code",
      "metadata": {
        "colab": {
          "base_uri": "https://localhost:8080/"
        },
        "id": "JtM-CaFto_SV",
        "outputId": "483a0ddd-07a3-4419-e636-7add963ee6f5"
      },
      "source": [
        "pca = PCA(n_components=2, svd_solver='full')\n",
        "pca.fit(X)"
      ],
      "execution_count": null,
      "outputs": [
        {
          "output_type": "execute_result",
          "data": {
            "text/plain": [
              "PCA(copy=True, iterated_power='auto', n_components=2, random_state=None,\n",
              "    svd_solver='full', tol=0.0, whiten=False)"
            ]
          },
          "metadata": {
            "tags": []
          },
          "execution_count": 53
        }
      ]
    },
    {
      "cell_type": "code",
      "metadata": {
        "colab": {
          "base_uri": "https://localhost:8080/"
        },
        "id": "qjk6VE2rpFMW",
        "outputId": "4d058d0c-195b-4e66-8869-f8ffc910592c"
      },
      "source": [
        "print(pca.explained_variance_ratio_)\n",
        "print(pca.singular_values_)"
      ],
      "execution_count": null,
      "outputs": [
        {
          "output_type": "stream",
          "text": [
            "[0.99244289 0.00755711]\n",
            "[6.30061232 0.54980396]\n"
          ],
          "name": "stdout"
        }
      ]
    },
    {
      "cell_type": "markdown",
      "metadata": {
        "id": "-U8KQcFTI7rk"
      },
      "source": [
        "#Bayesian Algoritm"
      ]
    },
    {
      "cell_type": "code",
      "metadata": {
        "id": "puqAa15EJN2y"
      },
      "source": [
        "#Clustering\n"
      ],
      "execution_count": null,
      "outputs": []
    },
    {
      "cell_type": "markdown",
      "metadata": {
        "id": "CZ0j3tLWJho9"
      },
      "source": [
        "By Ian Tomas, after meeting with Michael M. and Sebastian Romero L.\n",
        "\n",
        "\n",
        ">A good place to start would be a similarity measure in your data, which you can implement with a radial basis function. This function inputs two records from your data set and outputs a single number between 0 and 1 which represents how similar the two records are, where a value closer to 1 means they are more similar, closer to 0 means they are different. This is a good idea to use if you want to represent your data as a graph as typically the similarity measure can work as an edge weight in a graph.\n",
        "\n",
        "```\n",
        " void vectorsubtraction(vector<float> v1, vector<float> v2, vector<float> &v3){\n",
        "\n",
        "    int i;\n",
        "    //vectors must be same size\n",
        "    if(v1.size() != v2.size()) return;\n",
        "    for(i = 0; i < v1.size(); i++){\n",
        "        //if symbolic attribute, push 1 to represent not equal, 0 to represent equal\n",
        "        if(symbolic(i)){\n",
        "          v3.push_back(v1[i] != v2[i]);\n",
        "          //if continous, subtract values\n",
        "        } else {\n",
        "          v3.push_back((v1[i] - v2[i]));\n",
        "        }\n",
        "    }\n",
        "}\n",
        "\n",
        "float normalizevector(vector<float> v){\n",
        "\n",
        "    int i;\n",
        "    float total = 0.0;\n",
        "    for(i = 0; i < v.size(); i++){\n",
        "        total += (v[i] * v[i]);\n",
        "    }\n",
        "\n",
        "    return sqrt(total);\n",
        "}\n",
        "\n",
        "double edgeweight(vector<float> v1, vector<float> v2){\n",
        "\n",
        "    vector<float> v3;\n",
        "    vectorsubtraction(v1, v2, v3);\n",
        "\n",
        "    float normalized = normalizevector(v3);\n",
        "    double base = exp(normalized);\n",
        "    return (1 / base);\n",
        "}\n",
        "```\n",
        "\n"
      ]
    },
    {
      "cell_type": "code",
      "metadata": {
        "id": "Y9-pXfRlJrCN"
      },
      "source": [
        "#Python code of barycentric clustering\n"
      ],
      "execution_count": null,
      "outputs": []
    }
  ]
}