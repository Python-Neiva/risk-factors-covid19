{
  "nbformat": 4,
  "nbformat_minor": 0,
  "metadata": {
    "colab": {
      "name": "ResearchInPython.ipynb",
      "provenance": [],
      "collapsed_sections": [],
      "toc_visible": true
    },
    "kernelspec": {
      "name": "python3",
      "display_name": "Python 3"
    },
    "language_info": {
      "name": "python"
    }
  },
  "cells": [
    {
      "cell_type": "markdown",
      "metadata": {
        "id": "iEHaKmL6r1Me"
      },
      "source": [
        "#Model"
      ]
    },
    {
      "cell_type": "code",
      "metadata": {
        "id": "U9oAju1KydJH"
      },
      "source": [
        "import pandas as pd\n",
        "import numpy as np\n",
        "from matplotlib import pyplot as plt\n",
        "import datetime\n",
        "import tensorflow as tf"
      ],
      "execution_count": 1,
      "outputs": []
    },
    {
      "cell_type": "code",
      "metadata": {
        "colab": {
          "base_uri": "https://localhost:8080/"
        },
        "id": "3HwOXj_GM4Pq",
        "outputId": "7462ff7b-5678-47ca-f372-5a3ba421b791"
      },
      "source": [
        "import os\n",
        "!pip install sodapy -q\n",
        "!pip install socrata-py -q\n",
        "\n",
        "from sodapy import Socrata\n",
        "from socrata.authorization import Authorization"
      ],
      "execution_count": 2,
      "outputs": [
        {
          "output_type": "stream",
          "text": [
            "  Building wheel for socrata-py (setup.py) ... \u001b[?25l\u001b[?25hdone\n"
          ],
          "name": "stdout"
        }
      ]
    },
    {
      "cell_type": "code",
      "metadata": {
        "id": "IGV_v1H8NAmR"
      },
      "source": [
        "client = Socrata(\n",
        "                \"www.datos.gov.co\",\n",
        "                \"idLwSviPi5dGMTd7GfIfW3CLU\",\n",
        "                username=\"sebastian_romerola@fet.edu.co\",\n",
        "                password=\"Sebastian#2018\",\n",
        "                timeout=120\n",
        "                )\n",
        "\n",
        "results = client.get(\"gt2j-8ykr\",\n",
        "                    #  ciudad_municipio_nom=\"Neiva\",\n",
        "                    departamento_nom=\"HUILA\",\n",
        "                    limit=100000)"
      ],
      "execution_count": 3,
      "outputs": []
    },
    {
      "cell_type": "code",
      "metadata": {
        "id": "cbtZ8Bu1PjSF"
      },
      "source": [
        "df = pd.DataFrame.from_records(results)"
      ],
      "execution_count": 4,
      "outputs": []
    },
    {
      "cell_type": "code",
      "metadata": {
        "id": "x3whmBVKGbyC"
      },
      "source": [
        "#  path= 'https://www.datos.gov.co/resource/gt2j-8ykr.csv'\n",
        "#\n",
        "#  df = pd.read_csv (r''+path)\n",
        "#  df.head(10)"
      ],
      "execution_count": 5,
      "outputs": []
    },
    {
      "cell_type": "code",
      "metadata": {
        "colab": {
          "base_uri": "https://localhost:8080/",
          "height": 212
        },
        "id": "PNekwrfDin8u",
        "outputId": "6b1ffd04-3c28-488c-95b6-8582b75c8726"
      },
      "source": [
        "df.describe()"
      ],
      "execution_count": 6,
      "outputs": [
        {
          "output_type": "execute_result",
          "data": {
            "text/html": [
              "<div>\n",
              "<style scoped>\n",
              "    .dataframe tbody tr th:only-of-type {\n",
              "        vertical-align: middle;\n",
              "    }\n",
              "\n",
              "    .dataframe tbody tr th {\n",
              "        vertical-align: top;\n",
              "    }\n",
              "\n",
              "    .dataframe thead th {\n",
              "        text-align: right;\n",
              "    }\n",
              "</style>\n",
              "<table border=\"1\" class=\"dataframe\">\n",
              "  <thead>\n",
              "    <tr style=\"text-align: right;\">\n",
              "      <th></th>\n",
              "      <th>fecha_reporte_web</th>\n",
              "      <th>id_de_caso</th>\n",
              "      <th>fecha_de_notificaci_n</th>\n",
              "      <th>departamento</th>\n",
              "      <th>departamento_nom</th>\n",
              "      <th>ciudad_municipio</th>\n",
              "      <th>ciudad_municipio_nom</th>\n",
              "      <th>edad</th>\n",
              "      <th>unidad_medida</th>\n",
              "      <th>sexo</th>\n",
              "      <th>fuente_tipo_contagio</th>\n",
              "      <th>ubicacion</th>\n",
              "      <th>estado</th>\n",
              "      <th>pais_viajo_1_cod</th>\n",
              "      <th>pais_viajo_1_nom</th>\n",
              "      <th>recuperado</th>\n",
              "      <th>fecha_inicio_sintomas</th>\n",
              "      <th>fecha_diagnostico</th>\n",
              "      <th>fecha_recuperado</th>\n",
              "      <th>tipo_recuperacion</th>\n",
              "      <th>per_etn_</th>\n",
              "      <th>fecha_muerte</th>\n",
              "      <th>nom_grupo_</th>\n",
              "    </tr>\n",
              "  </thead>\n",
              "  <tbody>\n",
              "    <tr>\n",
              "      <th>count</th>\n",
              "      <td>66679</td>\n",
              "      <td>66679</td>\n",
              "      <td>66679</td>\n",
              "      <td>66679</td>\n",
              "      <td>66679</td>\n",
              "      <td>66679</td>\n",
              "      <td>66679</td>\n",
              "      <td>66679</td>\n",
              "      <td>66679</td>\n",
              "      <td>66679</td>\n",
              "      <td>66570</td>\n",
              "      <td>66679</td>\n",
              "      <td>66679</td>\n",
              "      <td>22</td>\n",
              "      <td>22</td>\n",
              "      <td>66679</td>\n",
              "      <td>66188</td>\n",
              "      <td>66668</td>\n",
              "      <td>62452</td>\n",
              "      <td>62452</td>\n",
              "      <td>65483</td>\n",
              "      <td>2519</td>\n",
              "      <td>604</td>\n",
              "    </tr>\n",
              "    <tr>\n",
              "      <th>unique</th>\n",
              "      <td>429</td>\n",
              "      <td>66679</td>\n",
              "      <td>448</td>\n",
              "      <td>1</td>\n",
              "      <td>1</td>\n",
              "      <td>37</td>\n",
              "      <td>37</td>\n",
              "      <td>103</td>\n",
              "      <td>3</td>\n",
              "      <td>2</td>\n",
              "      <td>4</td>\n",
              "      <td>6</td>\n",
              "      <td>6</td>\n",
              "      <td>9</td>\n",
              "      <td>10</td>\n",
              "      <td>4</td>\n",
              "      <td>454</td>\n",
              "      <td>430</td>\n",
              "      <td>435</td>\n",
              "      <td>2</td>\n",
              "      <td>4</td>\n",
              "      <td>347</td>\n",
              "      <td>68</td>\n",
              "    </tr>\n",
              "    <tr>\n",
              "      <th>top</th>\n",
              "      <td>16/1/2021 0:00:00</td>\n",
              "      <td>1893770</td>\n",
              "      <td>20/10/2020 0:00:00</td>\n",
              "      <td>41</td>\n",
              "      <td>HUILA</td>\n",
              "      <td>41001</td>\n",
              "      <td>NEIVA</td>\n",
              "      <td>30</td>\n",
              "      <td>1</td>\n",
              "      <td>F</td>\n",
              "      <td>En estudio</td>\n",
              "      <td>Casa</td>\n",
              "      <td>Leve</td>\n",
              "      <td>840</td>\n",
              "      <td>ESTADOS UNIDOS DE AMÉRICA</td>\n",
              "      <td>Recuperado</td>\n",
              "      <td>4/1/2021 0:00:00</td>\n",
              "      <td>14/1/2021 0:00:00</td>\n",
              "      <td>15/6/2021 0:00:00</td>\n",
              "      <td>Tiempo</td>\n",
              "      <td>6</td>\n",
              "      <td>4/2/2021 0:00:00</td>\n",
              "      <td>Por definir</td>\n",
              "    </tr>\n",
              "    <tr>\n",
              "      <th>freq</th>\n",
              "      <td>944</td>\n",
              "      <td>1</td>\n",
              "      <td>626</td>\n",
              "      <td>66679</td>\n",
              "      <td>66679</td>\n",
              "      <td>43194</td>\n",
              "      <td>43194</td>\n",
              "      <td>1721</td>\n",
              "      <td>66429</td>\n",
              "      <td>33997</td>\n",
              "      <td>39211</td>\n",
              "      <td>62972</td>\n",
              "      <td>63062</td>\n",
              "      <td>6</td>\n",
              "      <td>6</td>\n",
              "      <td>62452</td>\n",
              "      <td>680</td>\n",
              "      <td>866</td>\n",
              "      <td>969</td>\n",
              "      <td>55048</td>\n",
              "      <td>64763</td>\n",
              "      <td>21</td>\n",
              "      <td>249</td>\n",
              "    </tr>\n",
              "  </tbody>\n",
              "</table>\n",
              "</div>"
            ],
            "text/plain": [
              "        fecha_reporte_web id_de_caso  ...      fecha_muerte   nom_grupo_\n",
              "count               66679      66679  ...              2519          604\n",
              "unique                429      66679  ...               347           68\n",
              "top     16/1/2021 0:00:00    1893770  ...  4/2/2021 0:00:00  Por definir\n",
              "freq                  944          1  ...                21          249\n",
              "\n",
              "[4 rows x 23 columns]"
            ]
          },
          "metadata": {
            "tags": []
          },
          "execution_count": 6
        }
      ]
    },
    {
      "cell_type": "code",
      "metadata": {
        "colab": {
          "base_uri": "https://localhost:8080/"
        },
        "id": "bYWhEm1ETIGR",
        "outputId": "f80a4924-d63b-4fb2-b73d-08307d04458f"
      },
      "source": [
        "df.columns"
      ],
      "execution_count": 7,
      "outputs": [
        {
          "output_type": "execute_result",
          "data": {
            "text/plain": [
              "Index(['fecha_reporte_web', 'id_de_caso', 'fecha_de_notificaci_n',\n",
              "       'departamento', 'departamento_nom', 'ciudad_municipio',\n",
              "       'ciudad_municipio_nom', 'edad', 'unidad_medida', 'sexo',\n",
              "       'fuente_tipo_contagio', 'ubicacion', 'estado', 'pais_viajo_1_cod',\n",
              "       'pais_viajo_1_nom', 'recuperado', 'fecha_inicio_sintomas',\n",
              "       'fecha_diagnostico', 'fecha_recuperado', 'tipo_recuperacion',\n",
              "       'per_etn_', 'fecha_muerte', 'nom_grupo_'],\n",
              "      dtype='object')"
            ]
          },
          "metadata": {
            "tags": []
          },
          "execution_count": 7
        }
      ]
    },
    {
      "cell_type": "code",
      "metadata": {
        "id": "ZHGFdrGuTi7A"
      },
      "source": [
        "headers_name = [\n",
        "  'fecha_reporte_web',\n",
        "  'id_de_caso',\n",
        "  'fecha_de_notificaci_n',\n",
        "  'departamento',\n",
        "  'departamento_nom',\n",
        "  'ciudad_municipio',\n",
        "  'ciudad_municipio_nom',\n",
        "  'edad',\n",
        "  'unidad_medida',\n",
        "  'sexo',\n",
        "  'fuente_tipo_contagio',\n",
        "  'ubicacion',\n",
        "  'estado',\n",
        "  'pais_viajo_1_cod',\n",
        "  'pais_viajo_1_nom',\n",
        "  'recuperado',\n",
        "  'fecha_inicio_sintomas',\n",
        "  'fecha_muerte',\n",
        "  'fecha_diagnostico',\n",
        "  'fecha_recuperado',\n",
        "  'tipo_recuperacion',\n",
        "  'per_etn_',\n",
        "  'nom_grupo_',\n",
        "]"
      ],
      "execution_count": 8,
      "outputs": []
    },
    {
      "cell_type": "code",
      "metadata": {
        "id": "z53NQveMT36x"
      },
      "source": [
        "df.columns = [\n",
        "  'web_date_report',\n",
        "  'case_id',\n",
        "  'notification_date',\n",
        "  'davipola_departament_code',\n",
        "  'department_name',\n",
        "  'davipola_municipality_code',\n",
        "  'municipality_name',\n",
        "  'age',\n",
        "  'age_measurement_unit',\n",
        "  'sex',\n",
        "  'contagion_type',\n",
        "  'case_location',\n",
        "  'state',\n",
        "  'iso_country_code',\n",
        "  'country_name',\n",
        "  'recuperated', #spell correctly\n",
        "  'beginning_symptoms_date',\n",
        "  'date_of_death',\n",
        "  'date_of_diagnosis',\n",
        "  'date_of_recovery',\n",
        "  'recovery_type',\n",
        "  'ethnicity',\n",
        "  'ethnic_group_name',\n",
        "]"
      ],
      "execution_count": 9,
      "outputs": []
    },
    {
      "cell_type": "code",
      "metadata": {
        "colab": {
          "base_uri": "https://localhost:8080/",
          "height": 557
        },
        "id": "PjmmLy14VDSr",
        "outputId": "1712b311-03bd-495c-f05b-0c8ab0baffe3"
      },
      "source": [
        "df.head(10)"
      ],
      "execution_count": 10,
      "outputs": [
        {
          "output_type": "execute_result",
          "data": {
            "text/html": [
              "<div>\n",
              "<style scoped>\n",
              "    .dataframe tbody tr th:only-of-type {\n",
              "        vertical-align: middle;\n",
              "    }\n",
              "\n",
              "    .dataframe tbody tr th {\n",
              "        vertical-align: top;\n",
              "    }\n",
              "\n",
              "    .dataframe thead th {\n",
              "        text-align: right;\n",
              "    }\n",
              "</style>\n",
              "<table border=\"1\" class=\"dataframe\">\n",
              "  <thead>\n",
              "    <tr style=\"text-align: right;\">\n",
              "      <th></th>\n",
              "      <th>web_date_report</th>\n",
              "      <th>case_id</th>\n",
              "      <th>notification_date</th>\n",
              "      <th>davipola_departament_code</th>\n",
              "      <th>department_name</th>\n",
              "      <th>davipola_municipality_code</th>\n",
              "      <th>municipality_name</th>\n",
              "      <th>age</th>\n",
              "      <th>age_measurement_unit</th>\n",
              "      <th>sex</th>\n",
              "      <th>contagion_type</th>\n",
              "      <th>case_location</th>\n",
              "      <th>state</th>\n",
              "      <th>iso_country_code</th>\n",
              "      <th>country_name</th>\n",
              "      <th>recuperated</th>\n",
              "      <th>beginning_symptoms_date</th>\n",
              "      <th>date_of_death</th>\n",
              "      <th>date_of_diagnosis</th>\n",
              "      <th>date_of_recovery</th>\n",
              "      <th>recovery_type</th>\n",
              "      <th>ethnicity</th>\n",
              "      <th>ethnic_group_name</th>\n",
              "    </tr>\n",
              "  </thead>\n",
              "  <tbody>\n",
              "    <tr>\n",
              "      <th>0</th>\n",
              "      <td>12/3/2020 0:00:00</td>\n",
              "      <td>12</td>\n",
              "      <td>10/3/2020 0:00:00</td>\n",
              "      <td>41</td>\n",
              "      <td>HUILA</td>\n",
              "      <td>41001</td>\n",
              "      <td>NEIVA</td>\n",
              "      <td>74</td>\n",
              "      <td>1</td>\n",
              "      <td>F</td>\n",
              "      <td>Importado</td>\n",
              "      <td>Casa</td>\n",
              "      <td>Leve</td>\n",
              "      <td>380</td>\n",
              "      <td>ITALIA</td>\n",
              "      <td>Recuperado</td>\n",
              "      <td>6/3/2020 0:00:00</td>\n",
              "      <td>12/3/2020 0:00:00</td>\n",
              "      <td>9/4/2020 0:00:00</td>\n",
              "      <td>PCR</td>\n",
              "      <td>6</td>\n",
              "      <td>NaN</td>\n",
              "      <td>NaN</td>\n",
              "    </tr>\n",
              "    <tr>\n",
              "      <th>1</th>\n",
              "      <td>12/3/2020 0:00:00</td>\n",
              "      <td>13</td>\n",
              "      <td>10/3/2020 0:00:00</td>\n",
              "      <td>41</td>\n",
              "      <td>HUILA</td>\n",
              "      <td>41001</td>\n",
              "      <td>NEIVA</td>\n",
              "      <td>68</td>\n",
              "      <td>1</td>\n",
              "      <td>F</td>\n",
              "      <td>Relacionado</td>\n",
              "      <td>Casa</td>\n",
              "      <td>Leve</td>\n",
              "      <td>NaN</td>\n",
              "      <td>NaN</td>\n",
              "      <td>Recuperado</td>\n",
              "      <td>6/3/2020 0:00:00</td>\n",
              "      <td>12/3/2020 0:00:00</td>\n",
              "      <td>30/3/2020 0:00:00</td>\n",
              "      <td>PCR</td>\n",
              "      <td>6</td>\n",
              "      <td>NaN</td>\n",
              "      <td>NaN</td>\n",
              "    </tr>\n",
              "    <tr>\n",
              "      <th>2</th>\n",
              "      <td>12/3/2020 0:00:00</td>\n",
              "      <td>29</td>\n",
              "      <td>12/3/2020 0:00:00</td>\n",
              "      <td>41</td>\n",
              "      <td>HUILA</td>\n",
              "      <td>41001</td>\n",
              "      <td>NEIVA</td>\n",
              "      <td>55</td>\n",
              "      <td>1</td>\n",
              "      <td>F</td>\n",
              "      <td>Relacionado</td>\n",
              "      <td>Casa</td>\n",
              "      <td>Leve</td>\n",
              "      <td>NaN</td>\n",
              "      <td>NaN</td>\n",
              "      <td>Recuperado</td>\n",
              "      <td>10/3/2020 0:00:00</td>\n",
              "      <td>14/3/2020 0:00:00</td>\n",
              "      <td>25/3/2020 0:00:00</td>\n",
              "      <td>PCR</td>\n",
              "      <td>6</td>\n",
              "      <td>NaN</td>\n",
              "      <td>NaN</td>\n",
              "    </tr>\n",
              "    <tr>\n",
              "      <th>3</th>\n",
              "      <td>14/3/2020 0:00:00</td>\n",
              "      <td>41</td>\n",
              "      <td>14/3/2020 0:00:00</td>\n",
              "      <td>41</td>\n",
              "      <td>HUILA</td>\n",
              "      <td>41001</td>\n",
              "      <td>NEIVA</td>\n",
              "      <td>79</td>\n",
              "      <td>1</td>\n",
              "      <td>M</td>\n",
              "      <td>Relacionado</td>\n",
              "      <td>Casa</td>\n",
              "      <td>Leve</td>\n",
              "      <td>NaN</td>\n",
              "      <td>NaN</td>\n",
              "      <td>Recuperado</td>\n",
              "      <td>NaN</td>\n",
              "      <td>15/3/2020 0:00:00</td>\n",
              "      <td>28/3/2020 0:00:00</td>\n",
              "      <td>PCR</td>\n",
              "      <td>6</td>\n",
              "      <td>NaN</td>\n",
              "      <td>NaN</td>\n",
              "    </tr>\n",
              "    <tr>\n",
              "      <th>4</th>\n",
              "      <td>14/3/2020 0:00:00</td>\n",
              "      <td>42</td>\n",
              "      <td>14/3/2020 0:00:00</td>\n",
              "      <td>41</td>\n",
              "      <td>HUILA</td>\n",
              "      <td>41001</td>\n",
              "      <td>NEIVA</td>\n",
              "      <td>52</td>\n",
              "      <td>1</td>\n",
              "      <td>F</td>\n",
              "      <td>Relacionado</td>\n",
              "      <td>Casa</td>\n",
              "      <td>Leve</td>\n",
              "      <td>NaN</td>\n",
              "      <td>NaN</td>\n",
              "      <td>Recuperado</td>\n",
              "      <td>10/3/2020 0:00:00</td>\n",
              "      <td>15/3/2020 0:00:00</td>\n",
              "      <td>24/3/2020 0:00:00</td>\n",
              "      <td>PCR</td>\n",
              "      <td>6</td>\n",
              "      <td>NaN</td>\n",
              "      <td>NaN</td>\n",
              "    </tr>\n",
              "    <tr>\n",
              "      <th>5</th>\n",
              "      <td>14/3/2020 0:00:00</td>\n",
              "      <td>43</td>\n",
              "      <td>14/3/2020 0:00:00</td>\n",
              "      <td>41</td>\n",
              "      <td>HUILA</td>\n",
              "      <td>41001</td>\n",
              "      <td>NEIVA</td>\n",
              "      <td>71</td>\n",
              "      <td>1</td>\n",
              "      <td>M</td>\n",
              "      <td>Relacionado</td>\n",
              "      <td>Casa</td>\n",
              "      <td>Leve</td>\n",
              "      <td>NaN</td>\n",
              "      <td>NaN</td>\n",
              "      <td>Recuperado</td>\n",
              "      <td>9/3/2020 0:00:00</td>\n",
              "      <td>15/3/2020 0:00:00</td>\n",
              "      <td>24/3/2020 0:00:00</td>\n",
              "      <td>PCR</td>\n",
              "      <td>6</td>\n",
              "      <td>NaN</td>\n",
              "      <td>NaN</td>\n",
              "    </tr>\n",
              "    <tr>\n",
              "      <th>6</th>\n",
              "      <td>14/3/2020 0:00:00</td>\n",
              "      <td>44</td>\n",
              "      <td>14/3/2020 0:00:00</td>\n",
              "      <td>41</td>\n",
              "      <td>HUILA</td>\n",
              "      <td>41001</td>\n",
              "      <td>NEIVA</td>\n",
              "      <td>24</td>\n",
              "      <td>1</td>\n",
              "      <td>F</td>\n",
              "      <td>Relacionado</td>\n",
              "      <td>Casa</td>\n",
              "      <td>Leve</td>\n",
              "      <td>NaN</td>\n",
              "      <td>NaN</td>\n",
              "      <td>Recuperado</td>\n",
              "      <td>10/3/2020 0:00:00</td>\n",
              "      <td>15/3/2020 0:00:00</td>\n",
              "      <td>24/3/2020 0:00:00</td>\n",
              "      <td>PCR</td>\n",
              "      <td>6</td>\n",
              "      <td>NaN</td>\n",
              "      <td>NaN</td>\n",
              "    </tr>\n",
              "    <tr>\n",
              "      <th>7</th>\n",
              "      <td>17/3/2020 0:00:00</td>\n",
              "      <td>90</td>\n",
              "      <td>15/3/2020 0:00:00</td>\n",
              "      <td>41</td>\n",
              "      <td>HUILA</td>\n",
              "      <td>41001</td>\n",
              "      <td>NEIVA</td>\n",
              "      <td>53</td>\n",
              "      <td>1</td>\n",
              "      <td>F</td>\n",
              "      <td>Relacionado</td>\n",
              "      <td>Casa</td>\n",
              "      <td>Leve</td>\n",
              "      <td>NaN</td>\n",
              "      <td>NaN</td>\n",
              "      <td>Recuperado</td>\n",
              "      <td>15/3/2020 0:00:00</td>\n",
              "      <td>17/3/2020 0:00:00</td>\n",
              "      <td>30/3/2020 0:00:00</td>\n",
              "      <td>PCR</td>\n",
              "      <td>6</td>\n",
              "      <td>NaN</td>\n",
              "      <td>NaN</td>\n",
              "    </tr>\n",
              "    <tr>\n",
              "      <th>8</th>\n",
              "      <td>19/3/2020 0:00:00</td>\n",
              "      <td>124</td>\n",
              "      <td>16/3/2020 0:00:00</td>\n",
              "      <td>41</td>\n",
              "      <td>HUILA</td>\n",
              "      <td>41001</td>\n",
              "      <td>NEIVA</td>\n",
              "      <td>76</td>\n",
              "      <td>1</td>\n",
              "      <td>F</td>\n",
              "      <td>Relacionado</td>\n",
              "      <td>Casa</td>\n",
              "      <td>Leve</td>\n",
              "      <td>NaN</td>\n",
              "      <td>NaN</td>\n",
              "      <td>Recuperado</td>\n",
              "      <td>8/3/2020 0:00:00</td>\n",
              "      <td>19/3/2020 0:00:00</td>\n",
              "      <td>4/4/2020 0:00:00</td>\n",
              "      <td>PCR</td>\n",
              "      <td>6</td>\n",
              "      <td>NaN</td>\n",
              "      <td>NaN</td>\n",
              "    </tr>\n",
              "    <tr>\n",
              "      <th>9</th>\n",
              "      <td>21/3/2020 0:00:00</td>\n",
              "      <td>196</td>\n",
              "      <td>19/3/2020 0:00:00</td>\n",
              "      <td>41</td>\n",
              "      <td>HUILA</td>\n",
              "      <td>41001</td>\n",
              "      <td>NEIVA</td>\n",
              "      <td>50</td>\n",
              "      <td>1</td>\n",
              "      <td>F</td>\n",
              "      <td>Importado</td>\n",
              "      <td>Casa</td>\n",
              "      <td>Leve</td>\n",
              "      <td>724</td>\n",
              "      <td>ESPAÑA</td>\n",
              "      <td>Recuperado</td>\n",
              "      <td>12/3/2020 0:00:00</td>\n",
              "      <td>21/3/2020 0:00:00</td>\n",
              "      <td>2/4/2020 0:00:00</td>\n",
              "      <td>PCR</td>\n",
              "      <td>6</td>\n",
              "      <td>NaN</td>\n",
              "      <td>NaN</td>\n",
              "    </tr>\n",
              "  </tbody>\n",
              "</table>\n",
              "</div>"
            ],
            "text/plain": [
              "     web_date_report case_id  ... ethnicity ethnic_group_name\n",
              "0  12/3/2020 0:00:00      12  ...       NaN               NaN\n",
              "1  12/3/2020 0:00:00      13  ...       NaN               NaN\n",
              "2  12/3/2020 0:00:00      29  ...       NaN               NaN\n",
              "3  14/3/2020 0:00:00      41  ...       NaN               NaN\n",
              "4  14/3/2020 0:00:00      42  ...       NaN               NaN\n",
              "5  14/3/2020 0:00:00      43  ...       NaN               NaN\n",
              "6  14/3/2020 0:00:00      44  ...       NaN               NaN\n",
              "7  17/3/2020 0:00:00      90  ...       NaN               NaN\n",
              "8  19/3/2020 0:00:00     124  ...       NaN               NaN\n",
              "9  21/3/2020 0:00:00     196  ...       NaN               NaN\n",
              "\n",
              "[10 rows x 23 columns]"
            ]
          },
          "metadata": {
            "tags": []
          },
          "execution_count": 10
        }
      ]
    },
    {
      "cell_type": "code",
      "metadata": {
        "colab": {
          "base_uri": "https://localhost:8080/",
          "height": 230
        },
        "id": "xL0CkpMOVTnu",
        "outputId": "eeb8ec39-07ce-46b1-e6e0-2de2577f0600"
      },
      "source": [
        "df.describe()"
      ],
      "execution_count": 11,
      "outputs": [
        {
          "output_type": "execute_result",
          "data": {
            "text/html": [
              "<div>\n",
              "<style scoped>\n",
              "    .dataframe tbody tr th:only-of-type {\n",
              "        vertical-align: middle;\n",
              "    }\n",
              "\n",
              "    .dataframe tbody tr th {\n",
              "        vertical-align: top;\n",
              "    }\n",
              "\n",
              "    .dataframe thead th {\n",
              "        text-align: right;\n",
              "    }\n",
              "</style>\n",
              "<table border=\"1\" class=\"dataframe\">\n",
              "  <thead>\n",
              "    <tr style=\"text-align: right;\">\n",
              "      <th></th>\n",
              "      <th>web_date_report</th>\n",
              "      <th>case_id</th>\n",
              "      <th>notification_date</th>\n",
              "      <th>davipola_departament_code</th>\n",
              "      <th>department_name</th>\n",
              "      <th>davipola_municipality_code</th>\n",
              "      <th>municipality_name</th>\n",
              "      <th>age</th>\n",
              "      <th>age_measurement_unit</th>\n",
              "      <th>sex</th>\n",
              "      <th>contagion_type</th>\n",
              "      <th>case_location</th>\n",
              "      <th>state</th>\n",
              "      <th>iso_country_code</th>\n",
              "      <th>country_name</th>\n",
              "      <th>recuperated</th>\n",
              "      <th>beginning_symptoms_date</th>\n",
              "      <th>date_of_death</th>\n",
              "      <th>date_of_diagnosis</th>\n",
              "      <th>date_of_recovery</th>\n",
              "      <th>recovery_type</th>\n",
              "      <th>ethnicity</th>\n",
              "      <th>ethnic_group_name</th>\n",
              "    </tr>\n",
              "  </thead>\n",
              "  <tbody>\n",
              "    <tr>\n",
              "      <th>count</th>\n",
              "      <td>66679</td>\n",
              "      <td>66679</td>\n",
              "      <td>66679</td>\n",
              "      <td>66679</td>\n",
              "      <td>66679</td>\n",
              "      <td>66679</td>\n",
              "      <td>66679</td>\n",
              "      <td>66679</td>\n",
              "      <td>66679</td>\n",
              "      <td>66679</td>\n",
              "      <td>66570</td>\n",
              "      <td>66679</td>\n",
              "      <td>66679</td>\n",
              "      <td>22</td>\n",
              "      <td>22</td>\n",
              "      <td>66679</td>\n",
              "      <td>66188</td>\n",
              "      <td>66668</td>\n",
              "      <td>62452</td>\n",
              "      <td>62452</td>\n",
              "      <td>65483</td>\n",
              "      <td>2519</td>\n",
              "      <td>604</td>\n",
              "    </tr>\n",
              "    <tr>\n",
              "      <th>unique</th>\n",
              "      <td>429</td>\n",
              "      <td>66679</td>\n",
              "      <td>448</td>\n",
              "      <td>1</td>\n",
              "      <td>1</td>\n",
              "      <td>37</td>\n",
              "      <td>37</td>\n",
              "      <td>103</td>\n",
              "      <td>3</td>\n",
              "      <td>2</td>\n",
              "      <td>4</td>\n",
              "      <td>6</td>\n",
              "      <td>6</td>\n",
              "      <td>9</td>\n",
              "      <td>10</td>\n",
              "      <td>4</td>\n",
              "      <td>454</td>\n",
              "      <td>430</td>\n",
              "      <td>435</td>\n",
              "      <td>2</td>\n",
              "      <td>4</td>\n",
              "      <td>347</td>\n",
              "      <td>68</td>\n",
              "    </tr>\n",
              "    <tr>\n",
              "      <th>top</th>\n",
              "      <td>16/1/2021 0:00:00</td>\n",
              "      <td>1893770</td>\n",
              "      <td>20/10/2020 0:00:00</td>\n",
              "      <td>41</td>\n",
              "      <td>HUILA</td>\n",
              "      <td>41001</td>\n",
              "      <td>NEIVA</td>\n",
              "      <td>30</td>\n",
              "      <td>1</td>\n",
              "      <td>F</td>\n",
              "      <td>En estudio</td>\n",
              "      <td>Casa</td>\n",
              "      <td>Leve</td>\n",
              "      <td>840</td>\n",
              "      <td>ESTADOS UNIDOS DE AMÉRICA</td>\n",
              "      <td>Recuperado</td>\n",
              "      <td>4/1/2021 0:00:00</td>\n",
              "      <td>14/1/2021 0:00:00</td>\n",
              "      <td>15/6/2021 0:00:00</td>\n",
              "      <td>Tiempo</td>\n",
              "      <td>6</td>\n",
              "      <td>4/2/2021 0:00:00</td>\n",
              "      <td>Por definir</td>\n",
              "    </tr>\n",
              "    <tr>\n",
              "      <th>freq</th>\n",
              "      <td>944</td>\n",
              "      <td>1</td>\n",
              "      <td>626</td>\n",
              "      <td>66679</td>\n",
              "      <td>66679</td>\n",
              "      <td>43194</td>\n",
              "      <td>43194</td>\n",
              "      <td>1721</td>\n",
              "      <td>66429</td>\n",
              "      <td>33997</td>\n",
              "      <td>39211</td>\n",
              "      <td>62972</td>\n",
              "      <td>63062</td>\n",
              "      <td>6</td>\n",
              "      <td>6</td>\n",
              "      <td>62452</td>\n",
              "      <td>680</td>\n",
              "      <td>866</td>\n",
              "      <td>969</td>\n",
              "      <td>55048</td>\n",
              "      <td>64763</td>\n",
              "      <td>21</td>\n",
              "      <td>249</td>\n",
              "    </tr>\n",
              "  </tbody>\n",
              "</table>\n",
              "</div>"
            ],
            "text/plain": [
              "          web_date_report  case_id  ...         ethnicity ethnic_group_name\n",
              "count               66679    66679  ...              2519               604\n",
              "unique                429    66679  ...               347                68\n",
              "top     16/1/2021 0:00:00  1893770  ...  4/2/2021 0:00:00       Por definir\n",
              "freq                  944        1  ...                21               249\n",
              "\n",
              "[4 rows x 23 columns]"
            ]
          },
          "metadata": {
            "tags": []
          },
          "execution_count": 11
        }
      ]
    },
    {
      "cell_type": "code",
      "metadata": {
        "colab": {
          "base_uri": "https://localhost:8080/"
        },
        "id": "-UhgcmLAVrV7",
        "outputId": "dfe25878-06a4-4890-8568-d8e7b6900552"
      },
      "source": [
        "df.info()"
      ],
      "execution_count": 12,
      "outputs": [
        {
          "output_type": "stream",
          "text": [
            "<class 'pandas.core.frame.DataFrame'>\n",
            "RangeIndex: 66679 entries, 0 to 66678\n",
            "Data columns (total 23 columns):\n",
            " #   Column                      Non-Null Count  Dtype \n",
            "---  ------                      --------------  ----- \n",
            " 0   web_date_report             66679 non-null  object\n",
            " 1   case_id                     66679 non-null  object\n",
            " 2   notification_date           66679 non-null  object\n",
            " 3   davipola_departament_code   66679 non-null  object\n",
            " 4   department_name             66679 non-null  object\n",
            " 5   davipola_municipality_code  66679 non-null  object\n",
            " 6   municipality_name           66679 non-null  object\n",
            " 7   age                         66679 non-null  object\n",
            " 8   age_measurement_unit        66679 non-null  object\n",
            " 9   sex                         66679 non-null  object\n",
            " 10  contagion_type              66570 non-null  object\n",
            " 11  case_location               66679 non-null  object\n",
            " 12  state                       66679 non-null  object\n",
            " 13  iso_country_code            22 non-null     object\n",
            " 14  country_name                22 non-null     object\n",
            " 15  recuperated                 66679 non-null  object\n",
            " 16  beginning_symptoms_date     66188 non-null  object\n",
            " 17  date_of_death               66668 non-null  object\n",
            " 18  date_of_diagnosis           62452 non-null  object\n",
            " 19  date_of_recovery            62452 non-null  object\n",
            " 20  recovery_type               65483 non-null  object\n",
            " 21  ethnicity                   2519 non-null   object\n",
            " 22  ethnic_group_name           604 non-null    object\n",
            "dtypes: object(23)\n",
            "memory usage: 11.7+ MB\n"
          ],
          "name": "stdout"
        }
      ]
    },
    {
      "cell_type": "markdown",
      "metadata": {
        "id": "TWHKi1oaj_6C"
      },
      "source": [
        "Se quitan los nulos y se reemplazan por 0"
      ]
    },
    {
      "cell_type": "code",
      "metadata": {
        "id": "rQ44rYiCiMm4"
      },
      "source": [
        "df = df.fillna(0)"
      ],
      "execution_count": 13,
      "outputs": []
    },
    {
      "cell_type": "code",
      "metadata": {
        "colab": {
          "base_uri": "https://localhost:8080/"
        },
        "id": "loxQ85FZimxq",
        "outputId": "6facca9c-6a93-43a4-8f34-b0a9de768902"
      },
      "source": [
        "df.date_of_death\n"
      ],
      "execution_count": 14,
      "outputs": [
        {
          "output_type": "execute_result",
          "data": {
            "text/plain": [
              "0        12/3/2020 0:00:00\n",
              "1        12/3/2020 0:00:00\n",
              "2        14/3/2020 0:00:00\n",
              "3        15/3/2020 0:00:00\n",
              "4        15/3/2020 0:00:00\n",
              "               ...        \n",
              "66674    15/6/2021 0:00:00\n",
              "66675    17/6/2021 0:00:00\n",
              "66676    17/6/2021 0:00:00\n",
              "66677    16/6/2021 0:00:00\n",
              "66678    17/6/2021 0:00:00\n",
              "Name: date_of_death, Length: 66679, dtype: object"
            ]
          },
          "metadata": {
            "tags": []
          },
          "execution_count": 14
        }
      ]
    },
    {
      "cell_type": "code",
      "metadata": {
        "id": "mn6u-_6NiPqp",
        "colab": {
          "base_uri": "https://localhost:8080/"
        },
        "outputId": "683a4cff-f070-42d3-9db2-c64a5dfac7e7"
      },
      "source": [
        "df.info()"
      ],
      "execution_count": 15,
      "outputs": [
        {
          "output_type": "stream",
          "text": [
            "<class 'pandas.core.frame.DataFrame'>\n",
            "RangeIndex: 66679 entries, 0 to 66678\n",
            "Data columns (total 23 columns):\n",
            " #   Column                      Non-Null Count  Dtype \n",
            "---  ------                      --------------  ----- \n",
            " 0   web_date_report             66679 non-null  object\n",
            " 1   case_id                     66679 non-null  object\n",
            " 2   notification_date           66679 non-null  object\n",
            " 3   davipola_departament_code   66679 non-null  object\n",
            " 4   department_name             66679 non-null  object\n",
            " 5   davipola_municipality_code  66679 non-null  object\n",
            " 6   municipality_name           66679 non-null  object\n",
            " 7   age                         66679 non-null  object\n",
            " 8   age_measurement_unit        66679 non-null  object\n",
            " 9   sex                         66679 non-null  object\n",
            " 10  contagion_type              66679 non-null  object\n",
            " 11  case_location               66679 non-null  object\n",
            " 12  state                       66679 non-null  object\n",
            " 13  iso_country_code            66679 non-null  object\n",
            " 14  country_name                66679 non-null  object\n",
            " 15  recuperated                 66679 non-null  object\n",
            " 16  beginning_symptoms_date     66679 non-null  object\n",
            " 17  date_of_death               66679 non-null  object\n",
            " 18  date_of_diagnosis           66679 non-null  object\n",
            " 19  date_of_recovery            66679 non-null  object\n",
            " 20  recovery_type               66679 non-null  object\n",
            " 21  ethnicity                   66679 non-null  object\n",
            " 22  ethnic_group_name           66679 non-null  object\n",
            "dtypes: object(23)\n",
            "memory usage: 11.7+ MB\n"
          ],
          "name": "stdout"
        }
      ]
    },
    {
      "cell_type": "markdown",
      "metadata": {
        "id": "ZzevG-kZIBgA"
      },
      "source": [
        "Similarity mesurement (radio basics funciotn)\n",
        "1.  \n",
        "*   ML / rbf -| knn graph / \n",
        "*   train to know about who would most highly survive\n",
        "*   KNN graph (find the most near neibough\n",
        "2.  \n",
        "*   svm (support vector machine)\n",
        "\n",
        "\n",
        "\n",
        "\n",
        "\n",
        "Adjency matrix. to build a graph after apply rbf and knn aproach?\n",
        "\n"
      ]
    },
    {
      "cell_type": "code",
      "metadata": {
        "id": "aJ3j3HtdWCI1",
        "colab": {
          "base_uri": "https://localhost:8080/"
        },
        "outputId": "f4cac8d4-a9cc-4ca2-9b02-cc587d60b90c"
      },
      "source": [
        "from datetime import datetime\n",
        "\n",
        "datetime_str = '6/3/2020 0:00:00'\n",
        "\n",
        "datetime_object = datetime.strptime(datetime_str, '%d/%m/%Y %H:%M:%S')\n",
        "\n",
        "datetime_object.timestamp()"
      ],
      "execution_count": 16,
      "outputs": [
        {
          "output_type": "execute_result",
          "data": {
            "text/plain": [
              "1583452800.0"
            ]
          },
          "metadata": {
            "tags": []
          },
          "execution_count": 16
        }
      ]
    },
    {
      "cell_type": "code",
      "metadata": {
        "id": "qc9lSgc_dHgh",
        "colab": {
          "base_uri": "https://localhost:8080/",
          "height": 313
        },
        "outputId": "da42e982-6aed-426c-a334-91c8270748de"
      },
      "source": [
        "df.head()"
      ],
      "execution_count": 17,
      "outputs": [
        {
          "output_type": "execute_result",
          "data": {
            "text/html": [
              "<div>\n",
              "<style scoped>\n",
              "    .dataframe tbody tr th:only-of-type {\n",
              "        vertical-align: middle;\n",
              "    }\n",
              "\n",
              "    .dataframe tbody tr th {\n",
              "        vertical-align: top;\n",
              "    }\n",
              "\n",
              "    .dataframe thead th {\n",
              "        text-align: right;\n",
              "    }\n",
              "</style>\n",
              "<table border=\"1\" class=\"dataframe\">\n",
              "  <thead>\n",
              "    <tr style=\"text-align: right;\">\n",
              "      <th></th>\n",
              "      <th>web_date_report</th>\n",
              "      <th>case_id</th>\n",
              "      <th>notification_date</th>\n",
              "      <th>davipola_departament_code</th>\n",
              "      <th>department_name</th>\n",
              "      <th>davipola_municipality_code</th>\n",
              "      <th>municipality_name</th>\n",
              "      <th>age</th>\n",
              "      <th>age_measurement_unit</th>\n",
              "      <th>sex</th>\n",
              "      <th>contagion_type</th>\n",
              "      <th>case_location</th>\n",
              "      <th>state</th>\n",
              "      <th>iso_country_code</th>\n",
              "      <th>country_name</th>\n",
              "      <th>recuperated</th>\n",
              "      <th>beginning_symptoms_date</th>\n",
              "      <th>date_of_death</th>\n",
              "      <th>date_of_diagnosis</th>\n",
              "      <th>date_of_recovery</th>\n",
              "      <th>recovery_type</th>\n",
              "      <th>ethnicity</th>\n",
              "      <th>ethnic_group_name</th>\n",
              "    </tr>\n",
              "  </thead>\n",
              "  <tbody>\n",
              "    <tr>\n",
              "      <th>0</th>\n",
              "      <td>12/3/2020 0:00:00</td>\n",
              "      <td>12</td>\n",
              "      <td>10/3/2020 0:00:00</td>\n",
              "      <td>41</td>\n",
              "      <td>HUILA</td>\n",
              "      <td>41001</td>\n",
              "      <td>NEIVA</td>\n",
              "      <td>74</td>\n",
              "      <td>1</td>\n",
              "      <td>F</td>\n",
              "      <td>Importado</td>\n",
              "      <td>Casa</td>\n",
              "      <td>Leve</td>\n",
              "      <td>380</td>\n",
              "      <td>ITALIA</td>\n",
              "      <td>Recuperado</td>\n",
              "      <td>6/3/2020 0:00:00</td>\n",
              "      <td>12/3/2020 0:00:00</td>\n",
              "      <td>9/4/2020 0:00:00</td>\n",
              "      <td>PCR</td>\n",
              "      <td>6</td>\n",
              "      <td>0</td>\n",
              "      <td>0</td>\n",
              "    </tr>\n",
              "    <tr>\n",
              "      <th>1</th>\n",
              "      <td>12/3/2020 0:00:00</td>\n",
              "      <td>13</td>\n",
              "      <td>10/3/2020 0:00:00</td>\n",
              "      <td>41</td>\n",
              "      <td>HUILA</td>\n",
              "      <td>41001</td>\n",
              "      <td>NEIVA</td>\n",
              "      <td>68</td>\n",
              "      <td>1</td>\n",
              "      <td>F</td>\n",
              "      <td>Relacionado</td>\n",
              "      <td>Casa</td>\n",
              "      <td>Leve</td>\n",
              "      <td>0</td>\n",
              "      <td>0</td>\n",
              "      <td>Recuperado</td>\n",
              "      <td>6/3/2020 0:00:00</td>\n",
              "      <td>12/3/2020 0:00:00</td>\n",
              "      <td>30/3/2020 0:00:00</td>\n",
              "      <td>PCR</td>\n",
              "      <td>6</td>\n",
              "      <td>0</td>\n",
              "      <td>0</td>\n",
              "    </tr>\n",
              "    <tr>\n",
              "      <th>2</th>\n",
              "      <td>12/3/2020 0:00:00</td>\n",
              "      <td>29</td>\n",
              "      <td>12/3/2020 0:00:00</td>\n",
              "      <td>41</td>\n",
              "      <td>HUILA</td>\n",
              "      <td>41001</td>\n",
              "      <td>NEIVA</td>\n",
              "      <td>55</td>\n",
              "      <td>1</td>\n",
              "      <td>F</td>\n",
              "      <td>Relacionado</td>\n",
              "      <td>Casa</td>\n",
              "      <td>Leve</td>\n",
              "      <td>0</td>\n",
              "      <td>0</td>\n",
              "      <td>Recuperado</td>\n",
              "      <td>10/3/2020 0:00:00</td>\n",
              "      <td>14/3/2020 0:00:00</td>\n",
              "      <td>25/3/2020 0:00:00</td>\n",
              "      <td>PCR</td>\n",
              "      <td>6</td>\n",
              "      <td>0</td>\n",
              "      <td>0</td>\n",
              "    </tr>\n",
              "    <tr>\n",
              "      <th>3</th>\n",
              "      <td>14/3/2020 0:00:00</td>\n",
              "      <td>41</td>\n",
              "      <td>14/3/2020 0:00:00</td>\n",
              "      <td>41</td>\n",
              "      <td>HUILA</td>\n",
              "      <td>41001</td>\n",
              "      <td>NEIVA</td>\n",
              "      <td>79</td>\n",
              "      <td>1</td>\n",
              "      <td>M</td>\n",
              "      <td>Relacionado</td>\n",
              "      <td>Casa</td>\n",
              "      <td>Leve</td>\n",
              "      <td>0</td>\n",
              "      <td>0</td>\n",
              "      <td>Recuperado</td>\n",
              "      <td>0</td>\n",
              "      <td>15/3/2020 0:00:00</td>\n",
              "      <td>28/3/2020 0:00:00</td>\n",
              "      <td>PCR</td>\n",
              "      <td>6</td>\n",
              "      <td>0</td>\n",
              "      <td>0</td>\n",
              "    </tr>\n",
              "    <tr>\n",
              "      <th>4</th>\n",
              "      <td>14/3/2020 0:00:00</td>\n",
              "      <td>42</td>\n",
              "      <td>14/3/2020 0:00:00</td>\n",
              "      <td>41</td>\n",
              "      <td>HUILA</td>\n",
              "      <td>41001</td>\n",
              "      <td>NEIVA</td>\n",
              "      <td>52</td>\n",
              "      <td>1</td>\n",
              "      <td>F</td>\n",
              "      <td>Relacionado</td>\n",
              "      <td>Casa</td>\n",
              "      <td>Leve</td>\n",
              "      <td>0</td>\n",
              "      <td>0</td>\n",
              "      <td>Recuperado</td>\n",
              "      <td>10/3/2020 0:00:00</td>\n",
              "      <td>15/3/2020 0:00:00</td>\n",
              "      <td>24/3/2020 0:00:00</td>\n",
              "      <td>PCR</td>\n",
              "      <td>6</td>\n",
              "      <td>0</td>\n",
              "      <td>0</td>\n",
              "    </tr>\n",
              "  </tbody>\n",
              "</table>\n",
              "</div>"
            ],
            "text/plain": [
              "     web_date_report case_id  ... ethnicity ethnic_group_name\n",
              "0  12/3/2020 0:00:00      12  ...         0                 0\n",
              "1  12/3/2020 0:00:00      13  ...         0                 0\n",
              "2  12/3/2020 0:00:00      29  ...         0                 0\n",
              "3  14/3/2020 0:00:00      41  ...         0                 0\n",
              "4  14/3/2020 0:00:00      42  ...         0                 0\n",
              "\n",
              "[5 rows x 23 columns]"
            ]
          },
          "metadata": {
            "tags": []
          },
          "execution_count": 17
        }
      ]
    },
    {
      "cell_type": "code",
      "metadata": {
        "colab": {
          "base_uri": "https://localhost:8080/",
          "height": 53
        },
        "id": "i29KSOacgWDZ",
        "outputId": "e87a33c5-fef4-401f-bf74-bcab0d3e9e40"
      },
      "source": [
        "\"\"\"\n",
        "model = tf.keras.Sequential([\n",
        "  tf.layers.Dense(input_shape=(28,28,3))),\n",
        "  tf.layers.Dense(100, activation='relu'),\n",
        "  tf.layers.Dense(100, activation='relu'),\n",
        "  tf.layers.Dense(10, activation='softmax')\n",
        "])\n",
        "\"\"\""
      ],
      "execution_count": 18,
      "outputs": [
        {
          "output_type": "execute_result",
          "data": {
            "application/vnd.google.colaboratory.intrinsic+json": {
              "type": "string"
            },
            "text/plain": [
              "\"\\nmodel = tf.keras.Sequential([\\n  tf.layers.Dense(input_shape=(28,28,3))),\\n  tf.layers.Dense(100, activation='relu'),\\n  tf.layers.Dense(100, activation='relu'),\\n  tf.layers.Dense(10, activation='softmax')\\n])\\n\""
            ]
          },
          "metadata": {
            "tags": []
          },
          "execution_count": 18
        }
      ]
    },
    {
      "cell_type": "code",
      "metadata": {
        "id": "_ohRonOHd6Wf",
        "colab": {
          "base_uri": "https://localhost:8080/"
        },
        "outputId": "c278caab-62cf-4ac2-b940-2ebd75c57b87"
      },
      "source": [
        "for i in df.columns:\n",
        "  if i.find(\"date\") != -1:\n",
        "    print(i)\n",
        "    a = list()\n",
        "    for j in eval(\"df.\"+i):\n",
        "      #if j = null\n",
        "      if j != 0:\n",
        "        a.append(datetime.strptime(str(j), '%d/%m/%Y %H:%M:%S').timestamp())\n",
        "      else:\n",
        "        a.append(0)\n",
        "    df[i] = a"
      ],
      "execution_count": null,
      "outputs": [
        {
          "output_type": "stream",
          "text": [
            "web_date_report\n",
            "notification_date\n",
            "beginning_symptoms_date\n",
            "date_of_death\n"
          ],
          "name": "stdout"
        }
      ]
    },
    {
      "cell_type": "code",
      "metadata": {
        "id": "Rf05tuGSldLz"
      },
      "source": [
        "df.values"
      ],
      "execution_count": null,
      "outputs": []
    },
    {
      "cell_type": "markdown",
      "metadata": {
        "id": "zlO8tbkQoQV2"
      },
      "source": [
        "1.   Delete departament name && municipality name \n",
        "2.   Binarize sex column\n",
        "3.   Delete country name\n",
        "4.   Normalize recovery type\n",
        "5.   Write documentation\n"
      ]
    },
    {
      "cell_type": "code",
      "metadata": {
        "id": "vBCI704Ansg5"
      },
      "source": [
        "df.describe()"
      ],
      "execution_count": null,
      "outputs": []
    },
    {
      "cell_type": "markdown",
      "metadata": {
        "id": "TAnau-WwoaT2"
      },
      "source": [
        "Analisis de componentes principales (APC)\n",
        "\n",
        "quitar lo que se puede.\n",
        "\n"
      ]
    },
    {
      "cell_type": "code",
      "metadata": {
        "id": "zGb9N8jfsC9W"
      },
      "source": [
        ""
      ],
      "execution_count": null,
      "outputs": []
    },
    {
      "cell_type": "markdown",
      "metadata": {
        "id": "8R_mL1pUp_Cp"
      },
      "source": [
        "desviación estandar de  para analizar causas de muerte"
      ]
    },
    {
      "cell_type": "markdown",
      "metadata": {
        "id": "40F9oHJIdgcL"
      },
      "source": [
        ".fit\n",
        "\n",
        "se realiza conversión a todos los que tengan"
      ]
    },
    {
      "cell_type": "code",
      "metadata": {
        "id": "fkydYBByUQDC"
      },
      "source": [
        "#/-////////////////////////////////////////////////////////#\n",
        "#                                                         /\n",
        "#              average of recovery time per genre         /\n",
        "#                                                         /\n",
        "#/////////////////////////////////////////////////////////#\n",
        "\n",
        "#////////////////////////////////////////////////////////#\n",
        "#                                                        /\n",
        "#     Capitalize Sex column values to avoid errors       /\n",
        "#                                                        /\n",
        "#////////////////////////////////////////////////////////#\n",
        "\n",
        "#///\n",
        "\n",
        "\n",
        "\n",
        "#////////////////////////////////////////////////////////#\n",
        "#                                                        /\n",
        "#  substract betweeen two dates and store it the answer  /\n",
        "#                                                        /\n",
        "#////////////////////////////////////////////////////////#\n",
        "\n",
        "def get_duration_of_illness(x:any):\n",
        "  time = 0\n",
        "  z = list()\n",
        "  count = 0\n",
        "  for e in x.index:\n",
        "    # print(\"position:\")\n",
        "    # print(e)\n",
        "    # print(x.recuperated[e])\n",
        "    count += 1\n",
        "    if x.date_of_recovery[e] != 0:\n",
        "      x.loc[e, \"time_to_recover\"] = abs(x.date_of_recovery[e] - x.beginning_symptoms_date[e])\n",
        "    elif x.date_of_death[e] != 0:\n",
        "      x.loc[e, \"time_to_recover\"] = abs(x.date_of_death[e] - x.beginning_symptoms_date[e])\n",
        "    elif x.date_of_death[e] == 0 and x.date_of_recovery[e] == 0:\n",
        "      print(\"NAN\")\n",
        "      x.loc[e, \"time_to_recover\"] = 0\n",
        "  \n",
        "  print(\"The total amount of data is: \"+ str(count))\n",
        "\n",
        "  return x\n",
        "\n",
        "      # x.duration_of_illness.append()\n",
        "      \n",
        "      # abs((d2 - d1).days)\n",
        "\n",
        "#////////////////////////////////////////////////////////#\n",
        "#                                                        /\n",
        "# Get important Columns to get the main of recovery time /\n",
        "#                                                        /\n",
        "#////////////////////////////////////////////////////////#\n",
        "\n",
        "mean = 0\n",
        "array_duration_of_illness = df.loc[\n",
        "                                   :,\n",
        "                                   [\n",
        "                                    \"sex\",\n",
        "                                    \"beginning_symptoms_date\",\n",
        "                                    \"date_of_recovery\",\n",
        "                                    \"date_of_death\",\n",
        "                                    \"recuperated\"\n",
        "                                    ]\n",
        "                                   ]\n",
        "\n",
        "                                   #  sex M/ 15 avg to get recover from beginning_symptoms_date. \n",
        "                                   #  sex F/ 14 avg.\n",
        "\n",
        "                                   # Male / Ibague / how long time do they neeed to get recover?\n",
        "                                   #cound .. avg ... \n",
        "\n",
        "                                   ## share tje ML research results -| graph clustering. \n",
        "\n",
        "array_dates_women = array_duration_of_illness[array_duration_of_illness[\"sex\"] == 'F']\n",
        "get_duration_of_illness(array_dates_women)\n",
        "\n",
        "array_dates_men = array_duration_of_illness[array_duration_of_illness[\"sex\"] == \"M\"]\n",
        "get_duration_of_illness(array_dates_men)\n",
        "\n",
        "print(df.iloc[471])\n",
        "\n",
        "#////           For alive people\n",
        "# df.beginning_symptoms_date - df.date_of_recovery \n",
        "\n",
        "\n",
        "#////           For death people\n",
        "# df.beginning_symptoms_date - df.date_of_death "
      ],
      "execution_count": null,
      "outputs": []
    },
    {
      "cell_type": "markdown",
      "metadata": {
        "id": "_pwYXT30Gcjw"
      },
      "source": [
        "#Requesting more than 1000 records."
      ]
    },
    {
      "cell_type": "code",
      "metadata": {
        "id": "sStlzMQ8FP22"
      },
      "source": [
        "import os\n",
        "!pip install sodapy -q\n",
        "!pip install socrata-py -q\n",
        "\n",
        "from sodapy import Socrata\n",
        "from socrata.authorization import Authorization"
      ],
      "execution_count": null,
      "outputs": []
    },
    {
      "cell_type": "code",
      "metadata": {
        "id": "rcQ9fElbz_Ts"
      },
      "source": [
        "# Unauthenticated client only works with public data sets. Note 'None'\n",
        "# in place of application token, and no username or password:\n",
        "\n",
        "# client = Socrata(\n",
        "#                 \"www.datos.gov.co\",\n",
        "#                 \"idLwSviPi5dGMTd7GfIfW3CLU\",\n",
        "#                 username=\"sebastian_romerola@fet.edu.co\",\n",
        "#                 password=\"Sebastian#2018\",\n",
        "#                 timeout=120\n",
        "#                 )\n",
        "\n",
        "# Example authenticated client (needed for non-public datasets):\n",
        "# client = Socrata(www.datos.gov.co,\n",
        "#                  MyAppToken,\n",
        "#                  username=\"user@example.com\",\n",
        "#                  password=\"AFakePassword\")\n",
        "\n",
        "# First 2000 results, returned as JSON from API / converted to Python list of\n",
        "# dictionaries by sodapy.\n",
        "\n",
        "# results = client.get(\"gt2j-8ykr\",\n",
        "#                     #  ciudad_municipio_nom=\"Neiva\",\n",
        "#                     departamento_nom=\"HUILA\",\n",
        "#                     limit=100000)\n",
        "\n",
        "# Convert to pandas DataFrame\n",
        "#results_df = pd.DataFrame.from_records(results)"
      ],
      "execution_count": null,
      "outputs": []
    },
    {
      "cell_type": "code",
      "metadata": {
        "id": "2rFGaTzUxCOr"
      },
      "source": [
        "# Convert to pandas DataFrame\n",
        "\n",
        "results_df = pd.DataFrame.from_records(results)\n",
        "\n",
        "results_df"
      ],
      "execution_count": null,
      "outputs": []
    },
    {
      "cell_type": "markdown",
      "metadata": {
        "id": "uM4jHMpL2oxn"
      },
      "source": [
        ""
      ]
    },
    {
      "cell_type": "code",
      "metadata": {
        "id": "IdQckUMC2pxg"
      },
      "source": [
        "results_df.describe"
      ],
      "execution_count": null,
      "outputs": []
    },
    {
      "cell_type": "code",
      "metadata": {
        "id": "1elKuNddC1er"
      },
      "source": [
        "results_df.info()\n"
      ],
      "execution_count": null,
      "outputs": []
    },
    {
      "cell_type": "markdown",
      "metadata": {
        "id": "BZInYqA2Ut93"
      },
      "source": [
        ""
      ]
    },
    {
      "cell_type": "markdown",
      "metadata": {
        "id": "2ezeh3drdQ6y"
      },
      "source": [
        "#Compromiso\n",
        "\n",
        "1. Servicio que colecta la data por departamento y la guarda en la base de datos\n",
        "    * Eliminar registros por departamento y volver a consultarlos y almacenarlos\n",
        "2. Servicio que recibe por parametro el id del departamento \n",
        "3. Servicio que recupera la info por municipio.\n"
      ]
    },
    {
      "cell_type": "markdown",
      "metadata": {
        "id": "jgzxeoX8QasQ"
      },
      "source": [
        ""
      ]
    },
    {
      "cell_type": "markdown",
      "metadata": {
        "id": "HJg4HPW9Qa6j"
      },
      "source": [
        "#Commitment\n",
        "\n",
        "1. Service which collect the data from Colombia according to each departament (state)\n",
        "    * Delete records per departament and request it again\n",
        "2. Service which get by parameter the departament_id and return the information\n",
        "3. Service get municipality info\n"
      ]
    }
  ]
}