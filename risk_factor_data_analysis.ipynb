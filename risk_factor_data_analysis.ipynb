{
  "nbformat": 4,
  "nbformat_minor": 0,
  "metadata": {
    "colab": {
      "name": "risk factor data analysis",
      "provenance": [],
      "collapsed_sections": [
        "otss_huJ6-v5",
        "gGH_tJxP1auA",
        "ETrp2DtRZka3",
        "oWy7AsVgd7i6",
        "-U8KQcFTI7rk"
      ],
      "mount_file_id": "1tB2sULozwj31wpzZOMhXpi1-ljmpk70-",
      "authorship_tag": "ABX9TyPWI8IMMP2rMcnobGgQl/T/",
      "include_colab_link": true
    },
    "kernelspec": {
      "name": "python3",
      "display_name": "Python 3"
    },
    "language_info": {
      "name": "python"
    }
  },
  "cells": [
    {
      "cell_type": "markdown",
      "metadata": {
        "id": "view-in-github",
        "colab_type": "text"
      },
      "source": [
        "<a href=\"https://colab.research.google.com/github/Python-Neiva/risk-factors-covid19/blob/main/risk_factor_data_analysis.ipynb\" target=\"_parent\"><img src=\"https://colab.research.google.com/assets/colab-badge.svg\" alt=\"Open In Colab\"/></a>"
      ]
    },
    {
      "cell_type": "markdown",
      "metadata": {
        "id": "K1mNHrree0tI"
      },
      "source": [
        "#Request"
      ]
    },
    {
      "cell_type": "code",
      "metadata": {
        "id": "zK5Xw1xMe5L8"
      },
      "source": [
        "import requests\n",
        "\n",
        "csv_url = \"https://www.datos.gov.co/api/views/gt2j-8ykr/rows.csv?departamento_nom=AMAZONAS&accessType=DOWNLOAD&api_foundry=true\"\n",
        "#csv_url = \"./content/sample_data/sample_downloaded.csv\"\n",
        "root_path = \"/content/drive/MyDrive/Salisbury/data/covid_downloaded.csv\"\n",
        "def downloadDataCsv(csv_url,root_path):\n",
        "  req = requests.get(csv_url)\n",
        "  url_content = req.content\n",
        "  try:\n",
        "      csv_file = open(root_path, 'wb')\n",
        "\n",
        "      csv_file.write(url_content)\n",
        "\n",
        "      csv_file.close()\n",
        "      print(\"I finished to write csv\")\n",
        "\n",
        "  except:\n",
        "      print(\"something was wrong\")\n",
        "\n",
        "#downloadDataCsv(csv_url,root_path)"
      ],
      "execution_count": 2,
      "outputs": []
    },
    {
      "cell_type": "markdown",
      "metadata": {
        "id": "iEHaKmL6r1Me"
      },
      "source": [
        "#Model"
      ]
    },
    {
      "cell_type": "code",
      "metadata": {
        "id": "U9oAju1KydJH"
      },
      "source": [
        "import pandas as pd\n",
        "import numpy as np\n",
        "from matplotlib import pyplot as plt\n",
        "from datetime import datetime\n",
        "import math\n",
        "\n",
        "# import os\n",
        "# !pip install sodapy -q\n",
        "# !pip install socrata-py -q\n",
        "\n",
        "# from sodapy import Socrata\n",
        "# from socrata.authorization import Authorization\n"
      ],
      "execution_count": 3,
      "outputs": []
    },
    {
      "cell_type": "code",
      "metadata": {
        "id": "IGV_v1H8NAmR"
      },
      "source": [
        "def requestColombianData(limit = 1000):\n",
        "  client = Socrata(\n",
        "                  \"www.datos.gov.co\",\n",
        "                  \"idLwSviPi5dGMTd7GfIfW3CLU\",\n",
        "                  #username=\"sebastian_romerola@fet.edu.co\",\n",
        "                  #password=\"Sebastian#2018\",\n",
        "                  timeout=300\n",
        "                  )\n",
        "  results = client.get(\"gt2j-8ykr\",\n",
        "                      #  ciudad_municipio_nom=\"Neiva\",\n",
        "                      departamento_nom=\"ANTIOQUIA\",\n",
        "                      limit=limit\n",
        "                      )\n",
        "  \n",
        "  return pd.DataFrame.from_records(results)\n",
        "\n",
        "\n",
        "def getCsvDataSet(path='/content/drive/MyDrive/Salisbury/data/covid_downloaded.csv'):\n",
        "  return pd.read_csv(r''+path, low_memory=False)"
      ],
      "execution_count": 4,
      "outputs": []
    },
    {
      "cell_type": "code",
      "metadata": {
        "id": "cbtZ8Bu1PjSF"
      },
      "source": [
        "#dataset from csv\n",
        "df = getCsvDataSet()\n",
        "\n",
        "#dataset from API\n",
        "# df = None\n",
        "# df = requestColombianData(90000)"
      ],
      "execution_count": 5,
      "outputs": []
    },
    {
      "cell_type": "code",
      "metadata": {
        "colab": {
          "base_uri": "https://localhost:8080/",
          "height": 1000
        },
        "id": "PqzU-WCWCk6O",
        "outputId": "9ec33fca-94e4-428a-911b-42d163751cb3"
      },
      "source": [
        "df.head(20)"
      ],
      "execution_count": 6,
      "outputs": [
        {
          "output_type": "execute_result",
          "data": {
            "text/html": [
              "<div>\n",
              "<style scoped>\n",
              "    .dataframe tbody tr th:only-of-type {\n",
              "        vertical-align: middle;\n",
              "    }\n",
              "\n",
              "    .dataframe tbody tr th {\n",
              "        vertical-align: top;\n",
              "    }\n",
              "\n",
              "    .dataframe thead th {\n",
              "        text-align: right;\n",
              "    }\n",
              "</style>\n",
              "<table border=\"1\" class=\"dataframe\">\n",
              "  <thead>\n",
              "    <tr style=\"text-align: right;\">\n",
              "      <th></th>\n",
              "      <th>fecha reporte web</th>\n",
              "      <th>ID de caso</th>\n",
              "      <th>Fecha de notificación</th>\n",
              "      <th>Código DIVIPOLA departamento</th>\n",
              "      <th>Nombre departamento</th>\n",
              "      <th>Código DIVIPOLA municipio</th>\n",
              "      <th>Nombre municipio</th>\n",
              "      <th>Edad</th>\n",
              "      <th>Unidad de medida de edad</th>\n",
              "      <th>Sexo</th>\n",
              "      <th>Tipo de contagio</th>\n",
              "      <th>Ubicación del caso</th>\n",
              "      <th>Estado</th>\n",
              "      <th>Código ISO del país</th>\n",
              "      <th>Nombre del país</th>\n",
              "      <th>Recuperado</th>\n",
              "      <th>Fecha de inicio de síntomas</th>\n",
              "      <th>Fecha de muerte</th>\n",
              "      <th>Fecha de diagnóstico</th>\n",
              "      <th>Fecha de recuperación</th>\n",
              "      <th>Tipo de recuperación</th>\n",
              "      <th>Pertenencia étnica</th>\n",
              "      <th>Nombre del grupo étnico</th>\n",
              "    </tr>\n",
              "  </thead>\n",
              "  <tbody>\n",
              "    <tr>\n",
              "      <th>0</th>\n",
              "      <td>6/3/2020 0:00:00</td>\n",
              "      <td>1</td>\n",
              "      <td>2/3/2020 0:00:00</td>\n",
              "      <td>11</td>\n",
              "      <td>BOGOTA</td>\n",
              "      <td>11001</td>\n",
              "      <td>BOGOTA</td>\n",
              "      <td>19</td>\n",
              "      <td>1</td>\n",
              "      <td>F</td>\n",
              "      <td>Importado</td>\n",
              "      <td>Casa</td>\n",
              "      <td>Leve</td>\n",
              "      <td>380.0</td>\n",
              "      <td>ITALIA</td>\n",
              "      <td>Recuperado</td>\n",
              "      <td>27/2/2020 0:00:00</td>\n",
              "      <td>NaN</td>\n",
              "      <td>6/3/2020 0:00:00</td>\n",
              "      <td>13/3/2020 0:00:00</td>\n",
              "      <td>PCR</td>\n",
              "      <td>6.0</td>\n",
              "      <td>NaN</td>\n",
              "    </tr>\n",
              "    <tr>\n",
              "      <th>1</th>\n",
              "      <td>9/3/2020 0:00:00</td>\n",
              "      <td>2</td>\n",
              "      <td>6/3/2020 0:00:00</td>\n",
              "      <td>76</td>\n",
              "      <td>VALLE</td>\n",
              "      <td>76111</td>\n",
              "      <td>BUGA</td>\n",
              "      <td>34</td>\n",
              "      <td>1</td>\n",
              "      <td>M</td>\n",
              "      <td>Importado</td>\n",
              "      <td>Casa</td>\n",
              "      <td>Leve</td>\n",
              "      <td>724.0</td>\n",
              "      <td>ESPAÑA</td>\n",
              "      <td>Recuperado</td>\n",
              "      <td>4/3/2020 0:00:00</td>\n",
              "      <td>NaN</td>\n",
              "      <td>9/3/2020 0:00:00</td>\n",
              "      <td>19/3/2020 0:00:00</td>\n",
              "      <td>PCR</td>\n",
              "      <td>5.0</td>\n",
              "      <td>NaN</td>\n",
              "    </tr>\n",
              "    <tr>\n",
              "      <th>2</th>\n",
              "      <td>9/3/2020 0:00:00</td>\n",
              "      <td>3</td>\n",
              "      <td>7/3/2020 0:00:00</td>\n",
              "      <td>5</td>\n",
              "      <td>ANTIOQUIA</td>\n",
              "      <td>5001</td>\n",
              "      <td>MEDELLIN</td>\n",
              "      <td>50</td>\n",
              "      <td>1</td>\n",
              "      <td>F</td>\n",
              "      <td>Importado</td>\n",
              "      <td>Casa</td>\n",
              "      <td>Leve</td>\n",
              "      <td>724.0</td>\n",
              "      <td>ESPAÑA</td>\n",
              "      <td>Recuperado</td>\n",
              "      <td>29/2/2020 0:00:00</td>\n",
              "      <td>NaN</td>\n",
              "      <td>9/3/2020 0:00:00</td>\n",
              "      <td>15/3/2020 0:00:00</td>\n",
              "      <td>PCR</td>\n",
              "      <td>6.0</td>\n",
              "      <td>NaN</td>\n",
              "    </tr>\n",
              "    <tr>\n",
              "      <th>3</th>\n",
              "      <td>11/3/2020 0:00:00</td>\n",
              "      <td>4</td>\n",
              "      <td>9/3/2020 0:00:00</td>\n",
              "      <td>5</td>\n",
              "      <td>ANTIOQUIA</td>\n",
              "      <td>5001</td>\n",
              "      <td>MEDELLIN</td>\n",
              "      <td>55</td>\n",
              "      <td>1</td>\n",
              "      <td>M</td>\n",
              "      <td>Relacionado</td>\n",
              "      <td>Casa</td>\n",
              "      <td>Leve</td>\n",
              "      <td>NaN</td>\n",
              "      <td>NaN</td>\n",
              "      <td>Recuperado</td>\n",
              "      <td>6/3/2020 0:00:00</td>\n",
              "      <td>NaN</td>\n",
              "      <td>11/3/2020 0:00:00</td>\n",
              "      <td>26/3/2020 0:00:00</td>\n",
              "      <td>PCR</td>\n",
              "      <td>6.0</td>\n",
              "      <td>NaN</td>\n",
              "    </tr>\n",
              "    <tr>\n",
              "      <th>4</th>\n",
              "      <td>11/3/2020 0:00:00</td>\n",
              "      <td>5</td>\n",
              "      <td>9/3/2020 0:00:00</td>\n",
              "      <td>5</td>\n",
              "      <td>ANTIOQUIA</td>\n",
              "      <td>5001</td>\n",
              "      <td>MEDELLIN</td>\n",
              "      <td>25</td>\n",
              "      <td>1</td>\n",
              "      <td>M</td>\n",
              "      <td>Relacionado</td>\n",
              "      <td>Casa</td>\n",
              "      <td>Leve</td>\n",
              "      <td>NaN</td>\n",
              "      <td>NaN</td>\n",
              "      <td>Recuperado</td>\n",
              "      <td>8/3/2020 0:00:00</td>\n",
              "      <td>NaN</td>\n",
              "      <td>11/3/2020 0:00:00</td>\n",
              "      <td>23/3/2020 0:00:00</td>\n",
              "      <td>PCR</td>\n",
              "      <td>6.0</td>\n",
              "      <td>NaN</td>\n",
              "    </tr>\n",
              "    <tr>\n",
              "      <th>5</th>\n",
              "      <td>11/3/2020 0:00:00</td>\n",
              "      <td>6</td>\n",
              "      <td>10/3/2020 0:00:00</td>\n",
              "      <td>5</td>\n",
              "      <td>ANTIOQUIA</td>\n",
              "      <td>5360</td>\n",
              "      <td>ITAGUI</td>\n",
              "      <td>27</td>\n",
              "      <td>1</td>\n",
              "      <td>F</td>\n",
              "      <td>Relacionado</td>\n",
              "      <td>Casa</td>\n",
              "      <td>Leve</td>\n",
              "      <td>NaN</td>\n",
              "      <td>NaN</td>\n",
              "      <td>Recuperado</td>\n",
              "      <td>6/3/2020 0:00:00</td>\n",
              "      <td>NaN</td>\n",
              "      <td>11/3/2020 0:00:00</td>\n",
              "      <td>26/3/2020 0:00:00</td>\n",
              "      <td>PCR</td>\n",
              "      <td>6.0</td>\n",
              "      <td>NaN</td>\n",
              "    </tr>\n",
              "    <tr>\n",
              "      <th>6</th>\n",
              "      <td>11/3/2020 0:00:00</td>\n",
              "      <td>7</td>\n",
              "      <td>8/3/2020 0:00:00</td>\n",
              "      <td>13001</td>\n",
              "      <td>CARTAGENA</td>\n",
              "      <td>13001</td>\n",
              "      <td>CARTAGENA</td>\n",
              "      <td>85</td>\n",
              "      <td>1</td>\n",
              "      <td>F</td>\n",
              "      <td>Importado</td>\n",
              "      <td>Casa</td>\n",
              "      <td>Leve</td>\n",
              "      <td>840.0</td>\n",
              "      <td>ESTADOS UNIDOS DE AMÉRICA</td>\n",
              "      <td>Recuperado</td>\n",
              "      <td>2/3/2020 0:00:00</td>\n",
              "      <td>NaN</td>\n",
              "      <td>11/3/2020 0:00:00</td>\n",
              "      <td>17/3/2020 0:00:00</td>\n",
              "      <td>PCR</td>\n",
              "      <td>6.0</td>\n",
              "      <td>NaN</td>\n",
              "    </tr>\n",
              "    <tr>\n",
              "      <th>7</th>\n",
              "      <td>11/3/2020 0:00:00</td>\n",
              "      <td>8</td>\n",
              "      <td>9/3/2020 0:00:00</td>\n",
              "      <td>11</td>\n",
              "      <td>BOGOTA</td>\n",
              "      <td>11001</td>\n",
              "      <td>BOGOTA</td>\n",
              "      <td>22</td>\n",
              "      <td>1</td>\n",
              "      <td>F</td>\n",
              "      <td>Importado</td>\n",
              "      <td>Casa</td>\n",
              "      <td>Leve</td>\n",
              "      <td>724.0</td>\n",
              "      <td>ESPAÑA</td>\n",
              "      <td>Recuperado</td>\n",
              "      <td>6/3/2020 0:00:00</td>\n",
              "      <td>NaN</td>\n",
              "      <td>11/3/2020 0:00:00</td>\n",
              "      <td>21/3/2020 0:00:00</td>\n",
              "      <td>PCR</td>\n",
              "      <td>6.0</td>\n",
              "      <td>NaN</td>\n",
              "    </tr>\n",
              "    <tr>\n",
              "      <th>8</th>\n",
              "      <td>11/3/2020 0:00:00</td>\n",
              "      <td>9</td>\n",
              "      <td>8/3/2020 0:00:00</td>\n",
              "      <td>11</td>\n",
              "      <td>BOGOTA</td>\n",
              "      <td>11001</td>\n",
              "      <td>BOGOTA</td>\n",
              "      <td>28</td>\n",
              "      <td>1</td>\n",
              "      <td>F</td>\n",
              "      <td>Importado</td>\n",
              "      <td>Casa</td>\n",
              "      <td>Leve</td>\n",
              "      <td>724.0</td>\n",
              "      <td>ESPAÑA</td>\n",
              "      <td>Recuperado</td>\n",
              "      <td>7/3/2020 0:00:00</td>\n",
              "      <td>NaN</td>\n",
              "      <td>11/3/2020 0:00:00</td>\n",
              "      <td>23/3/2020 0:00:00</td>\n",
              "      <td>PCR</td>\n",
              "      <td>6.0</td>\n",
              "      <td>NaN</td>\n",
              "    </tr>\n",
              "    <tr>\n",
              "      <th>9</th>\n",
              "      <td>12/3/2020 0:00:00</td>\n",
              "      <td>10</td>\n",
              "      <td>12/3/2020 0:00:00</td>\n",
              "      <td>11</td>\n",
              "      <td>BOGOTA</td>\n",
              "      <td>11001</td>\n",
              "      <td>BOGOTA</td>\n",
              "      <td>36</td>\n",
              "      <td>1</td>\n",
              "      <td>F</td>\n",
              "      <td>Importado</td>\n",
              "      <td>Casa</td>\n",
              "      <td>Leve</td>\n",
              "      <td>724.0</td>\n",
              "      <td>ESPAÑA</td>\n",
              "      <td>Recuperado</td>\n",
              "      <td>6/3/2020 0:00:00</td>\n",
              "      <td>NaN</td>\n",
              "      <td>12/3/2020 0:00:00</td>\n",
              "      <td>21/3/2020 0:00:00</td>\n",
              "      <td>PCR</td>\n",
              "      <td>6.0</td>\n",
              "      <td>NaN</td>\n",
              "    </tr>\n",
              "    <tr>\n",
              "      <th>10</th>\n",
              "      <td>12/3/2020 0:00:00</td>\n",
              "      <td>11</td>\n",
              "      <td>11/3/2020 0:00:00</td>\n",
              "      <td>11</td>\n",
              "      <td>BOGOTA</td>\n",
              "      <td>11001</td>\n",
              "      <td>BOGOTA</td>\n",
              "      <td>42</td>\n",
              "      <td>1</td>\n",
              "      <td>F</td>\n",
              "      <td>Importado</td>\n",
              "      <td>Casa</td>\n",
              "      <td>Leve</td>\n",
              "      <td>724.0</td>\n",
              "      <td>ESPAÑA</td>\n",
              "      <td>Recuperado</td>\n",
              "      <td>6/3/2020 0:00:00</td>\n",
              "      <td>NaN</td>\n",
              "      <td>12/3/2020 0:00:00</td>\n",
              "      <td>31/3/2020 0:00:00</td>\n",
              "      <td>PCR</td>\n",
              "      <td>6.0</td>\n",
              "      <td>NaN</td>\n",
              "    </tr>\n",
              "    <tr>\n",
              "      <th>11</th>\n",
              "      <td>12/3/2020 0:00:00</td>\n",
              "      <td>12</td>\n",
              "      <td>10/3/2020 0:00:00</td>\n",
              "      <td>41</td>\n",
              "      <td>HUILA</td>\n",
              "      <td>41001</td>\n",
              "      <td>NEIVA</td>\n",
              "      <td>74</td>\n",
              "      <td>1</td>\n",
              "      <td>F</td>\n",
              "      <td>Importado</td>\n",
              "      <td>Casa</td>\n",
              "      <td>Leve</td>\n",
              "      <td>380.0</td>\n",
              "      <td>ITALIA</td>\n",
              "      <td>Recuperado</td>\n",
              "      <td>6/3/2020 0:00:00</td>\n",
              "      <td>NaN</td>\n",
              "      <td>12/3/2020 0:00:00</td>\n",
              "      <td>9/4/2020 0:00:00</td>\n",
              "      <td>PCR</td>\n",
              "      <td>6.0</td>\n",
              "      <td>NaN</td>\n",
              "    </tr>\n",
              "    <tr>\n",
              "      <th>12</th>\n",
              "      <td>12/3/2020 0:00:00</td>\n",
              "      <td>13</td>\n",
              "      <td>10/3/2020 0:00:00</td>\n",
              "      <td>41</td>\n",
              "      <td>HUILA</td>\n",
              "      <td>41001</td>\n",
              "      <td>NEIVA</td>\n",
              "      <td>68</td>\n",
              "      <td>1</td>\n",
              "      <td>F</td>\n",
              "      <td>Relacionado</td>\n",
              "      <td>Casa</td>\n",
              "      <td>Leve</td>\n",
              "      <td>NaN</td>\n",
              "      <td>NaN</td>\n",
              "      <td>Recuperado</td>\n",
              "      <td>6/3/2020 0:00:00</td>\n",
              "      <td>NaN</td>\n",
              "      <td>12/3/2020 0:00:00</td>\n",
              "      <td>30/3/2020 0:00:00</td>\n",
              "      <td>PCR</td>\n",
              "      <td>6.0</td>\n",
              "      <td>NaN</td>\n",
              "    </tr>\n",
              "    <tr>\n",
              "      <th>13</th>\n",
              "      <td>13/3/2020 0:00:00</td>\n",
              "      <td>14</td>\n",
              "      <td>10/3/2020 0:00:00</td>\n",
              "      <td>76</td>\n",
              "      <td>VALLE</td>\n",
              "      <td>76520</td>\n",
              "      <td>PALMIRA</td>\n",
              "      <td>48</td>\n",
              "      <td>1</td>\n",
              "      <td>M</td>\n",
              "      <td>Importado</td>\n",
              "      <td>Casa</td>\n",
              "      <td>Leve</td>\n",
              "      <td>724.0</td>\n",
              "      <td>ESPAÑA</td>\n",
              "      <td>Recuperado</td>\n",
              "      <td>7/3/2020 0:00:00</td>\n",
              "      <td>NaN</td>\n",
              "      <td>13/3/2020 0:00:00</td>\n",
              "      <td>21/3/2020 0:00:00</td>\n",
              "      <td>PCR</td>\n",
              "      <td>5.0</td>\n",
              "      <td>NaN</td>\n",
              "    </tr>\n",
              "    <tr>\n",
              "      <th>14</th>\n",
              "      <td>13/3/2020 0:00:00</td>\n",
              "      <td>15</td>\n",
              "      <td>13/3/2020 0:00:00</td>\n",
              "      <td>50</td>\n",
              "      <td>META</td>\n",
              "      <td>50001</td>\n",
              "      <td>VILLAVICENCIO</td>\n",
              "      <td>30</td>\n",
              "      <td>1</td>\n",
              "      <td>F</td>\n",
              "      <td>Importado</td>\n",
              "      <td>Casa</td>\n",
              "      <td>Leve</td>\n",
              "      <td>724.0</td>\n",
              "      <td>ESPAÑA</td>\n",
              "      <td>Recuperado</td>\n",
              "      <td>9/3/2020 0:00:00</td>\n",
              "      <td>NaN</td>\n",
              "      <td>13/3/2020 0:00:00</td>\n",
              "      <td>23/3/2020 0:00:00</td>\n",
              "      <td>PCR</td>\n",
              "      <td>6.0</td>\n",
              "      <td>NaN</td>\n",
              "    </tr>\n",
              "    <tr>\n",
              "      <th>15</th>\n",
              "      <td>13/3/2020 0:00:00</td>\n",
              "      <td>16</td>\n",
              "      <td>11/3/2020 0:00:00</td>\n",
              "      <td>11</td>\n",
              "      <td>BOGOTA</td>\n",
              "      <td>11001</td>\n",
              "      <td>BOGOTA</td>\n",
              "      <td>61</td>\n",
              "      <td>1</td>\n",
              "      <td>F</td>\n",
              "      <td>Importado</td>\n",
              "      <td>Casa</td>\n",
              "      <td>Leve</td>\n",
              "      <td>380.0</td>\n",
              "      <td>ITALIA</td>\n",
              "      <td>Recuperado</td>\n",
              "      <td>8/3/2020 0:00:00</td>\n",
              "      <td>NaN</td>\n",
              "      <td>13/3/2020 0:00:00</td>\n",
              "      <td>23/3/2020 0:00:00</td>\n",
              "      <td>PCR</td>\n",
              "      <td>5.0</td>\n",
              "      <td>NaN</td>\n",
              "    </tr>\n",
              "    <tr>\n",
              "      <th>16</th>\n",
              "      <td>14/3/2020 0:00:00</td>\n",
              "      <td>17</td>\n",
              "      <td>11/3/2020 0:00:00</td>\n",
              "      <td>11</td>\n",
              "      <td>BOGOTA</td>\n",
              "      <td>11001</td>\n",
              "      <td>BOGOTA</td>\n",
              "      <td>73</td>\n",
              "      <td>1</td>\n",
              "      <td>F</td>\n",
              "      <td>Importado</td>\n",
              "      <td>Casa</td>\n",
              "      <td>Leve</td>\n",
              "      <td>724.0</td>\n",
              "      <td>ESPAÑA</td>\n",
              "      <td>Recuperado</td>\n",
              "      <td>28/2/2020 0:00:00</td>\n",
              "      <td>NaN</td>\n",
              "      <td>14/3/2020 0:00:00</td>\n",
              "      <td>14/3/2020 0:00:00</td>\n",
              "      <td>PCR</td>\n",
              "      <td>6.0</td>\n",
              "      <td>NaN</td>\n",
              "    </tr>\n",
              "    <tr>\n",
              "      <th>17</th>\n",
              "      <td>14/3/2020 0:00:00</td>\n",
              "      <td>18</td>\n",
              "      <td>11/3/2020 0:00:00</td>\n",
              "      <td>11</td>\n",
              "      <td>BOGOTA</td>\n",
              "      <td>11001</td>\n",
              "      <td>BOGOTA</td>\n",
              "      <td>54</td>\n",
              "      <td>1</td>\n",
              "      <td>M</td>\n",
              "      <td>Importado</td>\n",
              "      <td>Casa</td>\n",
              "      <td>Leve</td>\n",
              "      <td>724.0</td>\n",
              "      <td>ESPAÑA</td>\n",
              "      <td>Recuperado</td>\n",
              "      <td>7/3/2020 0:00:00</td>\n",
              "      <td>NaN</td>\n",
              "      <td>14/3/2020 0:00:00</td>\n",
              "      <td>7/4/2020 0:00:00</td>\n",
              "      <td>Tiempo</td>\n",
              "      <td>6.0</td>\n",
              "      <td>NaN</td>\n",
              "    </tr>\n",
              "    <tr>\n",
              "      <th>18</th>\n",
              "      <td>14/3/2020 0:00:00</td>\n",
              "      <td>19</td>\n",
              "      <td>12/3/2020 0:00:00</td>\n",
              "      <td>11</td>\n",
              "      <td>BOGOTA</td>\n",
              "      <td>11001</td>\n",
              "      <td>BOGOTA</td>\n",
              "      <td>54</td>\n",
              "      <td>1</td>\n",
              "      <td>F</td>\n",
              "      <td>Relacionado</td>\n",
              "      <td>Casa</td>\n",
              "      <td>Leve</td>\n",
              "      <td>NaN</td>\n",
              "      <td>NaN</td>\n",
              "      <td>Recuperado</td>\n",
              "      <td>9/3/2020 0:00:00</td>\n",
              "      <td>NaN</td>\n",
              "      <td>14/3/2020 0:00:00</td>\n",
              "      <td>24/3/2020 0:00:00</td>\n",
              "      <td>PCR</td>\n",
              "      <td>6.0</td>\n",
              "      <td>NaN</td>\n",
              "    </tr>\n",
              "    <tr>\n",
              "      <th>19</th>\n",
              "      <td>14/3/2020 0:00:00</td>\n",
              "      <td>20</td>\n",
              "      <td>11/3/2020 0:00:00</td>\n",
              "      <td>5</td>\n",
              "      <td>ANTIOQUIA</td>\n",
              "      <td>5001</td>\n",
              "      <td>MEDELLIN</td>\n",
              "      <td>26</td>\n",
              "      <td>1</td>\n",
              "      <td>F</td>\n",
              "      <td>Relacionado</td>\n",
              "      <td>Casa</td>\n",
              "      <td>Leve</td>\n",
              "      <td>NaN</td>\n",
              "      <td>NaN</td>\n",
              "      <td>Recuperado</td>\n",
              "      <td>9/3/2020 0:00:00</td>\n",
              "      <td>NaN</td>\n",
              "      <td>14/3/2020 0:00:00</td>\n",
              "      <td>24/3/2020 0:00:00</td>\n",
              "      <td>PCR</td>\n",
              "      <td>6.0</td>\n",
              "      <td>NaN</td>\n",
              "    </tr>\n",
              "  </tbody>\n",
              "</table>\n",
              "</div>"
            ],
            "text/plain": [
              "    fecha reporte web  ID de caso  ... Pertenencia étnica  Nombre del grupo étnico\n",
              "0    6/3/2020 0:00:00           1  ...                6.0                      NaN\n",
              "1    9/3/2020 0:00:00           2  ...                5.0                      NaN\n",
              "2    9/3/2020 0:00:00           3  ...                6.0                      NaN\n",
              "3   11/3/2020 0:00:00           4  ...                6.0                      NaN\n",
              "4   11/3/2020 0:00:00           5  ...                6.0                      NaN\n",
              "5   11/3/2020 0:00:00           6  ...                6.0                      NaN\n",
              "6   11/3/2020 0:00:00           7  ...                6.0                      NaN\n",
              "7   11/3/2020 0:00:00           8  ...                6.0                      NaN\n",
              "8   11/3/2020 0:00:00           9  ...                6.0                      NaN\n",
              "9   12/3/2020 0:00:00          10  ...                6.0                      NaN\n",
              "10  12/3/2020 0:00:00          11  ...                6.0                      NaN\n",
              "11  12/3/2020 0:00:00          12  ...                6.0                      NaN\n",
              "12  12/3/2020 0:00:00          13  ...                6.0                      NaN\n",
              "13  13/3/2020 0:00:00          14  ...                5.0                      NaN\n",
              "14  13/3/2020 0:00:00          15  ...                6.0                      NaN\n",
              "15  13/3/2020 0:00:00          16  ...                5.0                      NaN\n",
              "16  14/3/2020 0:00:00          17  ...                6.0                      NaN\n",
              "17  14/3/2020 0:00:00          18  ...                6.0                      NaN\n",
              "18  14/3/2020 0:00:00          19  ...                6.0                      NaN\n",
              "19  14/3/2020 0:00:00          20  ...                6.0                      NaN\n",
              "\n",
              "[20 rows x 23 columns]"
            ]
          },
          "metadata": {
            "tags": []
          },
          "execution_count": 6
        }
      ]
    },
    {
      "cell_type": "code",
      "metadata": {
        "id": "S_gn7jCllaRJ",
        "colab": {
          "base_uri": "https://localhost:8080/"
        },
        "outputId": "2f882536-73a5-4394-c241-247b09a57526"
      },
      "source": [
        "print(df.columns)\n",
        "english_columns = list()\n",
        "english_columns = [\n",
        "  'web_date_report',\n",
        "  'case_id',\n",
        "  'notification_date',\n",
        "  'davipola_departament_code',\n",
        "  'department_name',\n",
        "  'davipola_municipality_code',\n",
        "  'municipality_name',\n",
        "  'age',\n",
        "  'age_measurement_unit',\n",
        "  'sex',\n",
        "  'contagion_type',\n",
        "  'case_location',\n",
        "  'state',\n",
        "  'iso_country_code',\n",
        "  'country_name',\n",
        "  'recuperated',\n",
        "  'beginning_symptoms_date',\n",
        "  'date_of_death',\n",
        "  'date_of_diagnosis',\n",
        "  'date_of_recovery',\n",
        "  'recovery_type',\n",
        "  'ethnicity',\n",
        "  'ethnic_group_name',\n",
        "]\n",
        "\n",
        "df.columns = english_columns\n",
        "print(\"-----\")\n",
        "print(df.columns)"
      ],
      "execution_count": 7,
      "outputs": [
        {
          "output_type": "stream",
          "text": [
            "Index(['fecha reporte web', 'ID de caso', 'Fecha de notificación',\n",
            "       'Código DIVIPOLA departamento', 'Nombre departamento',\n",
            "       'Código DIVIPOLA municipio', 'Nombre municipio', 'Edad',\n",
            "       'Unidad de medida de edad', 'Sexo', 'Tipo de contagio',\n",
            "       'Ubicación del caso', 'Estado', 'Código ISO del país',\n",
            "       'Nombre del país', 'Recuperado', 'Fecha de inicio de síntomas',\n",
            "       'Fecha de muerte', 'Fecha de diagnóstico', 'Fecha de recuperación',\n",
            "       'Tipo de recuperación', 'Pertenencia étnica',\n",
            "       'Nombre del grupo étnico'],\n",
            "      dtype='object')\n",
            "-----\n",
            "Index(['web_date_report', 'case_id', 'notification_date',\n",
            "       'davipola_departament_code', 'department_name',\n",
            "       'davipola_municipality_code', 'municipality_name', 'age',\n",
            "       'age_measurement_unit', 'sex', 'contagion_type', 'case_location',\n",
            "       'state', 'iso_country_code', 'country_name', 'recuperated',\n",
            "       'beginning_symptoms_date', 'date_of_death', 'date_of_diagnosis',\n",
            "       'date_of_recovery', 'recovery_type', 'ethnicity', 'ethnic_group_name'],\n",
            "      dtype='object')\n"
          ],
          "name": "stdout"
        }
      ]
    },
    {
      "cell_type": "code",
      "metadata": {
        "colab": {
          "base_uri": "https://localhost:8080/",
          "height": 226
        },
        "id": "Jm1DuQvKBRWo",
        "outputId": "03d87588-88a8-4fdf-b233-8f9ccae659fd"
      },
      "source": [
        "df.head()"
      ],
      "execution_count": 8,
      "outputs": [
        {
          "output_type": "execute_result",
          "data": {
            "text/html": [
              "<div>\n",
              "<style scoped>\n",
              "    .dataframe tbody tr th:only-of-type {\n",
              "        vertical-align: middle;\n",
              "    }\n",
              "\n",
              "    .dataframe tbody tr th {\n",
              "        vertical-align: top;\n",
              "    }\n",
              "\n",
              "    .dataframe thead th {\n",
              "        text-align: right;\n",
              "    }\n",
              "</style>\n",
              "<table border=\"1\" class=\"dataframe\">\n",
              "  <thead>\n",
              "    <tr style=\"text-align: right;\">\n",
              "      <th></th>\n",
              "      <th>web_date_report</th>\n",
              "      <th>case_id</th>\n",
              "      <th>notification_date</th>\n",
              "      <th>davipola_departament_code</th>\n",
              "      <th>department_name</th>\n",
              "      <th>davipola_municipality_code</th>\n",
              "      <th>municipality_name</th>\n",
              "      <th>age</th>\n",
              "      <th>age_measurement_unit</th>\n",
              "      <th>sex</th>\n",
              "      <th>contagion_type</th>\n",
              "      <th>case_location</th>\n",
              "      <th>state</th>\n",
              "      <th>iso_country_code</th>\n",
              "      <th>country_name</th>\n",
              "      <th>recuperated</th>\n",
              "      <th>beginning_symptoms_date</th>\n",
              "      <th>date_of_death</th>\n",
              "      <th>date_of_diagnosis</th>\n",
              "      <th>date_of_recovery</th>\n",
              "      <th>recovery_type</th>\n",
              "      <th>ethnicity</th>\n",
              "      <th>ethnic_group_name</th>\n",
              "    </tr>\n",
              "  </thead>\n",
              "  <tbody>\n",
              "    <tr>\n",
              "      <th>0</th>\n",
              "      <td>6/3/2020 0:00:00</td>\n",
              "      <td>1</td>\n",
              "      <td>2/3/2020 0:00:00</td>\n",
              "      <td>11</td>\n",
              "      <td>BOGOTA</td>\n",
              "      <td>11001</td>\n",
              "      <td>BOGOTA</td>\n",
              "      <td>19</td>\n",
              "      <td>1</td>\n",
              "      <td>F</td>\n",
              "      <td>Importado</td>\n",
              "      <td>Casa</td>\n",
              "      <td>Leve</td>\n",
              "      <td>380.0</td>\n",
              "      <td>ITALIA</td>\n",
              "      <td>Recuperado</td>\n",
              "      <td>27/2/2020 0:00:00</td>\n",
              "      <td>NaN</td>\n",
              "      <td>6/3/2020 0:00:00</td>\n",
              "      <td>13/3/2020 0:00:00</td>\n",
              "      <td>PCR</td>\n",
              "      <td>6.0</td>\n",
              "      <td>NaN</td>\n",
              "    </tr>\n",
              "    <tr>\n",
              "      <th>1</th>\n",
              "      <td>9/3/2020 0:00:00</td>\n",
              "      <td>2</td>\n",
              "      <td>6/3/2020 0:00:00</td>\n",
              "      <td>76</td>\n",
              "      <td>VALLE</td>\n",
              "      <td>76111</td>\n",
              "      <td>BUGA</td>\n",
              "      <td>34</td>\n",
              "      <td>1</td>\n",
              "      <td>M</td>\n",
              "      <td>Importado</td>\n",
              "      <td>Casa</td>\n",
              "      <td>Leve</td>\n",
              "      <td>724.0</td>\n",
              "      <td>ESPAÑA</td>\n",
              "      <td>Recuperado</td>\n",
              "      <td>4/3/2020 0:00:00</td>\n",
              "      <td>NaN</td>\n",
              "      <td>9/3/2020 0:00:00</td>\n",
              "      <td>19/3/2020 0:00:00</td>\n",
              "      <td>PCR</td>\n",
              "      <td>5.0</td>\n",
              "      <td>NaN</td>\n",
              "    </tr>\n",
              "    <tr>\n",
              "      <th>2</th>\n",
              "      <td>9/3/2020 0:00:00</td>\n",
              "      <td>3</td>\n",
              "      <td>7/3/2020 0:00:00</td>\n",
              "      <td>5</td>\n",
              "      <td>ANTIOQUIA</td>\n",
              "      <td>5001</td>\n",
              "      <td>MEDELLIN</td>\n",
              "      <td>50</td>\n",
              "      <td>1</td>\n",
              "      <td>F</td>\n",
              "      <td>Importado</td>\n",
              "      <td>Casa</td>\n",
              "      <td>Leve</td>\n",
              "      <td>724.0</td>\n",
              "      <td>ESPAÑA</td>\n",
              "      <td>Recuperado</td>\n",
              "      <td>29/2/2020 0:00:00</td>\n",
              "      <td>NaN</td>\n",
              "      <td>9/3/2020 0:00:00</td>\n",
              "      <td>15/3/2020 0:00:00</td>\n",
              "      <td>PCR</td>\n",
              "      <td>6.0</td>\n",
              "      <td>NaN</td>\n",
              "    </tr>\n",
              "    <tr>\n",
              "      <th>3</th>\n",
              "      <td>11/3/2020 0:00:00</td>\n",
              "      <td>4</td>\n",
              "      <td>9/3/2020 0:00:00</td>\n",
              "      <td>5</td>\n",
              "      <td>ANTIOQUIA</td>\n",
              "      <td>5001</td>\n",
              "      <td>MEDELLIN</td>\n",
              "      <td>55</td>\n",
              "      <td>1</td>\n",
              "      <td>M</td>\n",
              "      <td>Relacionado</td>\n",
              "      <td>Casa</td>\n",
              "      <td>Leve</td>\n",
              "      <td>NaN</td>\n",
              "      <td>NaN</td>\n",
              "      <td>Recuperado</td>\n",
              "      <td>6/3/2020 0:00:00</td>\n",
              "      <td>NaN</td>\n",
              "      <td>11/3/2020 0:00:00</td>\n",
              "      <td>26/3/2020 0:00:00</td>\n",
              "      <td>PCR</td>\n",
              "      <td>6.0</td>\n",
              "      <td>NaN</td>\n",
              "    </tr>\n",
              "    <tr>\n",
              "      <th>4</th>\n",
              "      <td>11/3/2020 0:00:00</td>\n",
              "      <td>5</td>\n",
              "      <td>9/3/2020 0:00:00</td>\n",
              "      <td>5</td>\n",
              "      <td>ANTIOQUIA</td>\n",
              "      <td>5001</td>\n",
              "      <td>MEDELLIN</td>\n",
              "      <td>25</td>\n",
              "      <td>1</td>\n",
              "      <td>M</td>\n",
              "      <td>Relacionado</td>\n",
              "      <td>Casa</td>\n",
              "      <td>Leve</td>\n",
              "      <td>NaN</td>\n",
              "      <td>NaN</td>\n",
              "      <td>Recuperado</td>\n",
              "      <td>8/3/2020 0:00:00</td>\n",
              "      <td>NaN</td>\n",
              "      <td>11/3/2020 0:00:00</td>\n",
              "      <td>23/3/2020 0:00:00</td>\n",
              "      <td>PCR</td>\n",
              "      <td>6.0</td>\n",
              "      <td>NaN</td>\n",
              "    </tr>\n",
              "  </tbody>\n",
              "</table>\n",
              "</div>"
            ],
            "text/plain": [
              "     web_date_report  case_id  ... ethnicity  ethnic_group_name\n",
              "0   6/3/2020 0:00:00        1  ...       6.0                NaN\n",
              "1   9/3/2020 0:00:00        2  ...       5.0                NaN\n",
              "2   9/3/2020 0:00:00        3  ...       6.0                NaN\n",
              "3  11/3/2020 0:00:00        4  ...       6.0                NaN\n",
              "4  11/3/2020 0:00:00        5  ...       6.0                NaN\n",
              "\n",
              "[5 rows x 23 columns]"
            ]
          },
          "metadata": {
            "tags": []
          },
          "execution_count": 8
        }
      ]
    },
    {
      "cell_type": "code",
      "metadata": {
        "id": "pAMa-iZYkVQ8"
      },
      "source": [
        "df.astype = {\n",
        "  \"web_date_report\": np.str,\n",
        "  \"case_id\": np.str, #ordinal\n",
        "  \"notification_date\": np.str,\n",
        "  \"davipola_departament_code\": np.int, #categorical\n",
        "  \"department_name\": np.str, #categorical\n",
        "  \"davipola_municipality_code\": np.str, #categorical\n",
        "  \"municipality_name\": np.str, #categorical\n",
        "  \"age\": np.int,\n",
        "  \"age_measurement_unit\": np.int,\n",
        "  \"sex\": np.str, #nominal\n",
        "  \"contagion_type\": np.str, #categorical\n",
        "  \"case_location\": np.str, #categorical\n",
        "  \"state\": np.str, #ordinal\n",
        "  \"iso_country_code\": np.int, #categorical\n",
        "  \"country_name\": np.str, #categorical\n",
        "  \"recuperated\": np.str, ##categorical\n",
        "  \"beginning_symptoms_date\": np.str, #\n",
        "  \"date_of_diagnosis\": np.str,\n",
        "  \"date_of_recovery\": np.str,\n",
        "  \"recovery_type\": np.str, #categorica\n",
        "  \"ethnicity\": np.int, #nominal\n",
        "  \"ethnic_group_name\": np.str, #nominal\n",
        "  \"date_of_death\": np.str,\n",
        "}\n",
        "\n",
        "#change column type in df"
      ],
      "execution_count": 9,
      "outputs": []
    },
    {
      "cell_type": "code",
      "metadata": {
        "id": "uWw8ufEwjs92",
        "colab": {
          "base_uri": "https://localhost:8080/"
        },
        "outputId": "0ad895fa-8713-45b6-8686-c54f27718ea7"
      },
      "source": [
        "df.info()"
      ],
      "execution_count": 10,
      "outputs": [
        {
          "output_type": "stream",
          "text": [
            "<class 'pandas.core.frame.DataFrame'>\n",
            "RangeIndex: 4530610 entries, 0 to 4530609\n",
            "Data columns (total 23 columns):\n",
            " #   Column                      Dtype  \n",
            "---  ------                      -----  \n",
            " 0   web_date_report             object \n",
            " 1   case_id                     int64  \n",
            " 2   notification_date           object \n",
            " 3   davipola_departament_code   int64  \n",
            " 4   department_name             object \n",
            " 5   davipola_municipality_code  int64  \n",
            " 6   municipality_name           object \n",
            " 7   age                         int64  \n",
            " 8   age_measurement_unit        int64  \n",
            " 9   sex                         object \n",
            " 10  contagion_type              object \n",
            " 11  case_location               object \n",
            " 12  state                       object \n",
            " 13  iso_country_code            float64\n",
            " 14  country_name                object \n",
            " 15  recuperated                 object \n",
            " 16  beginning_symptoms_date     object \n",
            " 17  date_of_death               object \n",
            " 18  date_of_diagnosis           object \n",
            " 19  date_of_recovery            object \n",
            " 20  recovery_type               object \n",
            " 21  ethnicity                   float64\n",
            " 22  ethnic_group_name           object \n",
            "dtypes: float64(2), int64(5), object(16)\n",
            "memory usage: 795.0+ MB\n"
          ],
          "name": "stdout"
        }
      ]
    },
    {
      "cell_type": "code",
      "metadata": {
        "id": "PNekwrfDin8u",
        "colab": {
          "base_uri": "https://localhost:8080/",
          "height": 300
        },
        "outputId": "bb98ff7b-1b30-4042-ee90-801d8e9160bd"
      },
      "source": [
        "df.describe()"
      ],
      "execution_count": 11,
      "outputs": [
        {
          "output_type": "execute_result",
          "data": {
            "text/html": [
              "<div>\n",
              "<style scoped>\n",
              "    .dataframe tbody tr th:only-of-type {\n",
              "        vertical-align: middle;\n",
              "    }\n",
              "\n",
              "    .dataframe tbody tr th {\n",
              "        vertical-align: top;\n",
              "    }\n",
              "\n",
              "    .dataframe thead th {\n",
              "        text-align: right;\n",
              "    }\n",
              "</style>\n",
              "<table border=\"1\" class=\"dataframe\">\n",
              "  <thead>\n",
              "    <tr style=\"text-align: right;\">\n",
              "      <th></th>\n",
              "      <th>case_id</th>\n",
              "      <th>davipola_departament_code</th>\n",
              "      <th>davipola_municipality_code</th>\n",
              "      <th>age</th>\n",
              "      <th>age_measurement_unit</th>\n",
              "      <th>iso_country_code</th>\n",
              "      <th>ethnicity</th>\n",
              "    </tr>\n",
              "  </thead>\n",
              "  <tbody>\n",
              "    <tr>\n",
              "      <th>count</th>\n",
              "      <td>4.530610e+06</td>\n",
              "      <td>4.530610e+06</td>\n",
              "      <td>4.530610e+06</td>\n",
              "      <td>4.530610e+06</td>\n",
              "      <td>4.530610e+06</td>\n",
              "      <td>3057.000000</td>\n",
              "      <td>4.471622e+06</td>\n",
              "    </tr>\n",
              "    <tr>\n",
              "      <th>mean</th>\n",
              "      <td>2.265345e+06</td>\n",
              "      <td>1.302291e+03</td>\n",
              "      <td>2.804815e+04</td>\n",
              "      <td>3.969038e+01</td>\n",
              "      <td>1.003440e+00</td>\n",
              "      <td>597.879293</td>\n",
              "      <td>5.907317e+00</td>\n",
              "    </tr>\n",
              "    <tr>\n",
              "      <th>std</th>\n",
              "      <td>1.307875e+06</td>\n",
              "      <td>5.853340e+03</td>\n",
              "      <td>2.598089e+04</td>\n",
              "      <td>1.788452e+01</td>\n",
              "      <td>6.372697e-02</td>\n",
              "      <td>285.800759</td>\n",
              "      <td>6.064583e-01</td>\n",
              "    </tr>\n",
              "    <tr>\n",
              "      <th>min</th>\n",
              "      <td>1.000000e+00</td>\n",
              "      <td>5.000000e+00</td>\n",
              "      <td>5.001000e+03</td>\n",
              "      <td>1.000000e+00</td>\n",
              "      <td>1.000000e+00</td>\n",
              "      <td>4.000000</td>\n",
              "      <td>1.000000e+00</td>\n",
              "    </tr>\n",
              "    <tr>\n",
              "      <th>25%</th>\n",
              "      <td>1.132693e+06</td>\n",
              "      <td>1.100000e+01</td>\n",
              "      <td>1.100100e+04</td>\n",
              "      <td>2.700000e+01</td>\n",
              "      <td>1.000000e+00</td>\n",
              "      <td>380.000000</td>\n",
              "      <td>6.000000e+00</td>\n",
              "    </tr>\n",
              "    <tr>\n",
              "      <th>50%</th>\n",
              "      <td>2.265346e+06</td>\n",
              "      <td>1.700000e+01</td>\n",
              "      <td>1.100100e+04</td>\n",
              "      <td>3.700000e+01</td>\n",
              "      <td>1.000000e+00</td>\n",
              "      <td>724.000000</td>\n",
              "      <td>6.000000e+00</td>\n",
              "    </tr>\n",
              "    <tr>\n",
              "      <th>75%</th>\n",
              "      <td>3.397998e+06</td>\n",
              "      <td>6.800000e+01</td>\n",
              "      <td>5.000100e+04</td>\n",
              "      <td>5.200000e+01</td>\n",
              "      <td>1.000000e+00</td>\n",
              "      <td>840.000000</td>\n",
              "      <td>6.000000e+00</td>\n",
              "    </tr>\n",
              "    <tr>\n",
              "      <th>max</th>\n",
              "      <td>4.530650e+06</td>\n",
              "      <td>4.700100e+04</td>\n",
              "      <td>9.977300e+04</td>\n",
              "      <td>1.140000e+02</td>\n",
              "      <td>3.000000e+00</td>\n",
              "      <td>1724.000000</td>\n",
              "      <td>6.000000e+00</td>\n",
              "    </tr>\n",
              "  </tbody>\n",
              "</table>\n",
              "</div>"
            ],
            "text/plain": [
              "            case_id  davipola_departament_code  ...  iso_country_code     ethnicity\n",
              "count  4.530610e+06               4.530610e+06  ...       3057.000000  4.471622e+06\n",
              "mean   2.265345e+06               1.302291e+03  ...        597.879293  5.907317e+00\n",
              "std    1.307875e+06               5.853340e+03  ...        285.800759  6.064583e-01\n",
              "min    1.000000e+00               5.000000e+00  ...          4.000000  1.000000e+00\n",
              "25%    1.132693e+06               1.100000e+01  ...        380.000000  6.000000e+00\n",
              "50%    2.265346e+06               1.700000e+01  ...        724.000000  6.000000e+00\n",
              "75%    3.397998e+06               6.800000e+01  ...        840.000000  6.000000e+00\n",
              "max    4.530650e+06               4.700100e+04  ...       1724.000000  6.000000e+00\n",
              "\n",
              "[8 rows x 7 columns]"
            ]
          },
          "metadata": {
            "tags": []
          },
          "execution_count": 11
        }
      ]
    },
    {
      "cell_type": "code",
      "metadata": {
        "id": "N4cG8R8jqH5O",
        "colab": {
          "base_uri": "https://localhost:8080/"
        },
        "outputId": "59e377f0-3618-4c91-8202-0e4dcaaac9c8"
      },
      "source": [
        "np.shape(df)"
      ],
      "execution_count": 12,
      "outputs": [
        {
          "output_type": "execute_result",
          "data": {
            "text/plain": [
              "(4530610, 23)"
            ]
          },
          "metadata": {
            "tags": []
          },
          "execution_count": 12
        }
      ]
    },
    {
      "cell_type": "code",
      "metadata": {
        "id": "bYWhEm1ETIGR",
        "colab": {
          "base_uri": "https://localhost:8080/"
        },
        "outputId": "54fa742d-6f6f-4fc9-a4c4-64ee595b7276"
      },
      "source": [
        "df.columns"
      ],
      "execution_count": 13,
      "outputs": [
        {
          "output_type": "execute_result",
          "data": {
            "text/plain": [
              "Index(['web_date_report', 'case_id', 'notification_date',\n",
              "       'davipola_departament_code', 'department_name',\n",
              "       'davipola_municipality_code', 'municipality_name', 'age',\n",
              "       'age_measurement_unit', 'sex', 'contagion_type', 'case_location',\n",
              "       'state', 'iso_country_code', 'country_name', 'recuperated',\n",
              "       'beginning_symptoms_date', 'date_of_death', 'date_of_diagnosis',\n",
              "       'date_of_recovery', 'recovery_type', 'ethnicity', 'ethnic_group_name'],\n",
              "      dtype='object')"
            ]
          },
          "metadata": {
            "tags": []
          },
          "execution_count": 13
        }
      ]
    },
    {
      "cell_type": "markdown",
      "metadata": {
        "id": "E0Yj_EMOkPqX"
      },
      "source": [
        "uppercase to each str row"
      ]
    },
    {
      "cell_type": "code",
      "metadata": {
        "id": "8d-WoPAmkTio",
        "colab": {
          "base_uri": "https://localhost:8080/",
          "height": 513
        },
        "outputId": "d9cc77a2-f8d2-468d-fc49-27eaf174d573"
      },
      "source": [
        "df.select_dtypes(include='object')"
      ],
      "execution_count": 14,
      "outputs": [
        {
          "output_type": "execute_result",
          "data": {
            "text/html": [
              "<div>\n",
              "<style scoped>\n",
              "    .dataframe tbody tr th:only-of-type {\n",
              "        vertical-align: middle;\n",
              "    }\n",
              "\n",
              "    .dataframe tbody tr th {\n",
              "        vertical-align: top;\n",
              "    }\n",
              "\n",
              "    .dataframe thead th {\n",
              "        text-align: right;\n",
              "    }\n",
              "</style>\n",
              "<table border=\"1\" class=\"dataframe\">\n",
              "  <thead>\n",
              "    <tr style=\"text-align: right;\">\n",
              "      <th></th>\n",
              "      <th>web_date_report</th>\n",
              "      <th>notification_date</th>\n",
              "      <th>department_name</th>\n",
              "      <th>municipality_name</th>\n",
              "      <th>sex</th>\n",
              "      <th>contagion_type</th>\n",
              "      <th>case_location</th>\n",
              "      <th>state</th>\n",
              "      <th>country_name</th>\n",
              "      <th>recuperated</th>\n",
              "      <th>beginning_symptoms_date</th>\n",
              "      <th>date_of_death</th>\n",
              "      <th>date_of_diagnosis</th>\n",
              "      <th>date_of_recovery</th>\n",
              "      <th>recovery_type</th>\n",
              "      <th>ethnic_group_name</th>\n",
              "    </tr>\n",
              "  </thead>\n",
              "  <tbody>\n",
              "    <tr>\n",
              "      <th>0</th>\n",
              "      <td>6/3/2020 0:00:00</td>\n",
              "      <td>2/3/2020 0:00:00</td>\n",
              "      <td>BOGOTA</td>\n",
              "      <td>BOGOTA</td>\n",
              "      <td>F</td>\n",
              "      <td>Importado</td>\n",
              "      <td>Casa</td>\n",
              "      <td>Leve</td>\n",
              "      <td>ITALIA</td>\n",
              "      <td>Recuperado</td>\n",
              "      <td>27/2/2020 0:00:00</td>\n",
              "      <td>NaN</td>\n",
              "      <td>6/3/2020 0:00:00</td>\n",
              "      <td>13/3/2020 0:00:00</td>\n",
              "      <td>PCR</td>\n",
              "      <td>NaN</td>\n",
              "    </tr>\n",
              "    <tr>\n",
              "      <th>1</th>\n",
              "      <td>9/3/2020 0:00:00</td>\n",
              "      <td>6/3/2020 0:00:00</td>\n",
              "      <td>VALLE</td>\n",
              "      <td>BUGA</td>\n",
              "      <td>M</td>\n",
              "      <td>Importado</td>\n",
              "      <td>Casa</td>\n",
              "      <td>Leve</td>\n",
              "      <td>ESPAÑA</td>\n",
              "      <td>Recuperado</td>\n",
              "      <td>4/3/2020 0:00:00</td>\n",
              "      <td>NaN</td>\n",
              "      <td>9/3/2020 0:00:00</td>\n",
              "      <td>19/3/2020 0:00:00</td>\n",
              "      <td>PCR</td>\n",
              "      <td>NaN</td>\n",
              "    </tr>\n",
              "    <tr>\n",
              "      <th>2</th>\n",
              "      <td>9/3/2020 0:00:00</td>\n",
              "      <td>7/3/2020 0:00:00</td>\n",
              "      <td>ANTIOQUIA</td>\n",
              "      <td>MEDELLIN</td>\n",
              "      <td>F</td>\n",
              "      <td>Importado</td>\n",
              "      <td>Casa</td>\n",
              "      <td>Leve</td>\n",
              "      <td>ESPAÑA</td>\n",
              "      <td>Recuperado</td>\n",
              "      <td>29/2/2020 0:00:00</td>\n",
              "      <td>NaN</td>\n",
              "      <td>9/3/2020 0:00:00</td>\n",
              "      <td>15/3/2020 0:00:00</td>\n",
              "      <td>PCR</td>\n",
              "      <td>NaN</td>\n",
              "    </tr>\n",
              "    <tr>\n",
              "      <th>3</th>\n",
              "      <td>11/3/2020 0:00:00</td>\n",
              "      <td>9/3/2020 0:00:00</td>\n",
              "      <td>ANTIOQUIA</td>\n",
              "      <td>MEDELLIN</td>\n",
              "      <td>M</td>\n",
              "      <td>Relacionado</td>\n",
              "      <td>Casa</td>\n",
              "      <td>Leve</td>\n",
              "      <td>NaN</td>\n",
              "      <td>Recuperado</td>\n",
              "      <td>6/3/2020 0:00:00</td>\n",
              "      <td>NaN</td>\n",
              "      <td>11/3/2020 0:00:00</td>\n",
              "      <td>26/3/2020 0:00:00</td>\n",
              "      <td>PCR</td>\n",
              "      <td>NaN</td>\n",
              "    </tr>\n",
              "    <tr>\n",
              "      <th>4</th>\n",
              "      <td>11/3/2020 0:00:00</td>\n",
              "      <td>9/3/2020 0:00:00</td>\n",
              "      <td>ANTIOQUIA</td>\n",
              "      <td>MEDELLIN</td>\n",
              "      <td>M</td>\n",
              "      <td>Relacionado</td>\n",
              "      <td>Casa</td>\n",
              "      <td>Leve</td>\n",
              "      <td>NaN</td>\n",
              "      <td>Recuperado</td>\n",
              "      <td>8/3/2020 0:00:00</td>\n",
              "      <td>NaN</td>\n",
              "      <td>11/3/2020 0:00:00</td>\n",
              "      <td>23/3/2020 0:00:00</td>\n",
              "      <td>PCR</td>\n",
              "      <td>NaN</td>\n",
              "    </tr>\n",
              "    <tr>\n",
              "      <th>...</th>\n",
              "      <td>...</td>\n",
              "      <td>...</td>\n",
              "      <td>...</td>\n",
              "      <td>...</td>\n",
              "      <td>...</td>\n",
              "      <td>...</td>\n",
              "      <td>...</td>\n",
              "      <td>...</td>\n",
              "      <td>...</td>\n",
              "      <td>...</td>\n",
              "      <td>...</td>\n",
              "      <td>...</td>\n",
              "      <td>...</td>\n",
              "      <td>...</td>\n",
              "      <td>...</td>\n",
              "      <td>...</td>\n",
              "    </tr>\n",
              "    <tr>\n",
              "      <th>4530605</th>\n",
              "      <td>12/7/2021 0:00:00</td>\n",
              "      <td>29/6/2021 0:00:00</td>\n",
              "      <td>NORTE SANTANDER</td>\n",
              "      <td>CUCUTA</td>\n",
              "      <td>M</td>\n",
              "      <td>En estudio</td>\n",
              "      <td>Casa</td>\n",
              "      <td>Leve</td>\n",
              "      <td>NaN</td>\n",
              "      <td>Activo</td>\n",
              "      <td>25/6/2021 0:00:00</td>\n",
              "      <td>NaN</td>\n",
              "      <td>10/7/2021 0:00:00</td>\n",
              "      <td>NaN</td>\n",
              "      <td>NaN</td>\n",
              "      <td>NaN</td>\n",
              "    </tr>\n",
              "    <tr>\n",
              "      <th>4530606</th>\n",
              "      <td>12/7/2021 0:00:00</td>\n",
              "      <td>29/6/2021 0:00:00</td>\n",
              "      <td>BOLIVAR</td>\n",
              "      <td>SAN JUAN NEPOMUCENO</td>\n",
              "      <td>M</td>\n",
              "      <td>En estudio</td>\n",
              "      <td>Casa</td>\n",
              "      <td>Leve</td>\n",
              "      <td>NaN</td>\n",
              "      <td>Activo</td>\n",
              "      <td>25/6/2021 0:00:00</td>\n",
              "      <td>NaN</td>\n",
              "      <td>10/7/2021 0:00:00</td>\n",
              "      <td>NaN</td>\n",
              "      <td>NaN</td>\n",
              "      <td>NaN</td>\n",
              "    </tr>\n",
              "    <tr>\n",
              "      <th>4530607</th>\n",
              "      <td>12/7/2021 0:00:00</td>\n",
              "      <td>29/6/2021 0:00:00</td>\n",
              "      <td>NORTE SANTANDER</td>\n",
              "      <td>VILLA DEL ROSARIO</td>\n",
              "      <td>M</td>\n",
              "      <td>En estudio</td>\n",
              "      <td>Casa</td>\n",
              "      <td>Leve</td>\n",
              "      <td>NaN</td>\n",
              "      <td>Activo</td>\n",
              "      <td>25/6/2021 0:00:00</td>\n",
              "      <td>NaN</td>\n",
              "      <td>10/7/2021 0:00:00</td>\n",
              "      <td>NaN</td>\n",
              "      <td>NaN</td>\n",
              "      <td>NaN</td>\n",
              "    </tr>\n",
              "    <tr>\n",
              "      <th>4530608</th>\n",
              "      <td>12/7/2021 0:00:00</td>\n",
              "      <td>29/6/2021 0:00:00</td>\n",
              "      <td>NORTE SANTANDER</td>\n",
              "      <td>CUCUTA</td>\n",
              "      <td>M</td>\n",
              "      <td>En estudio</td>\n",
              "      <td>Casa</td>\n",
              "      <td>Leve</td>\n",
              "      <td>NaN</td>\n",
              "      <td>Activo</td>\n",
              "      <td>25/6/2021 0:00:00</td>\n",
              "      <td>NaN</td>\n",
              "      <td>10/7/2021 0:00:00</td>\n",
              "      <td>NaN</td>\n",
              "      <td>NaN</td>\n",
              "      <td>NaN</td>\n",
              "    </tr>\n",
              "    <tr>\n",
              "      <th>4530609</th>\n",
              "      <td>12/7/2021 0:00:00</td>\n",
              "      <td>30/6/2021 0:00:00</td>\n",
              "      <td>CARTAGENA</td>\n",
              "      <td>CARTAGENA</td>\n",
              "      <td>F</td>\n",
              "      <td>En estudio</td>\n",
              "      <td>Casa</td>\n",
              "      <td>Leve</td>\n",
              "      <td>NaN</td>\n",
              "      <td>Activo</td>\n",
              "      <td>26/6/2021 0:00:00</td>\n",
              "      <td>NaN</td>\n",
              "      <td>11/7/2021 0:00:00</td>\n",
              "      <td>NaN</td>\n",
              "      <td>NaN</td>\n",
              "      <td>NaN</td>\n",
              "    </tr>\n",
              "  </tbody>\n",
              "</table>\n",
              "<p>4530610 rows × 16 columns</p>\n",
              "</div>"
            ],
            "text/plain": [
              "           web_date_report  notification_date  ... recovery_type ethnic_group_name\n",
              "0         6/3/2020 0:00:00   2/3/2020 0:00:00  ...           PCR               NaN\n",
              "1         9/3/2020 0:00:00   6/3/2020 0:00:00  ...           PCR               NaN\n",
              "2         9/3/2020 0:00:00   7/3/2020 0:00:00  ...           PCR               NaN\n",
              "3        11/3/2020 0:00:00   9/3/2020 0:00:00  ...           PCR               NaN\n",
              "4        11/3/2020 0:00:00   9/3/2020 0:00:00  ...           PCR               NaN\n",
              "...                    ...                ...  ...           ...               ...\n",
              "4530605  12/7/2021 0:00:00  29/6/2021 0:00:00  ...           NaN               NaN\n",
              "4530606  12/7/2021 0:00:00  29/6/2021 0:00:00  ...           NaN               NaN\n",
              "4530607  12/7/2021 0:00:00  29/6/2021 0:00:00  ...           NaN               NaN\n",
              "4530608  12/7/2021 0:00:00  29/6/2021 0:00:00  ...           NaN               NaN\n",
              "4530609  12/7/2021 0:00:00  30/6/2021 0:00:00  ...           NaN               NaN\n",
              "\n",
              "[4530610 rows x 16 columns]"
            ]
          },
          "metadata": {
            "tags": []
          },
          "execution_count": 14
        }
      ]
    },
    {
      "cell_type": "markdown",
      "metadata": {
        "id": "J1EbCKOHA50G"
      },
      "source": [
        "verifying nulls\n",
        "\n",
        "\n",
        "```\n",
        "print(df.isnull().values.any())\n",
        "```\n",
        "[source](https://towardsdatascience.com/a-complete-guide-to-principal-component-analysis-pca-in-machine-learning-664f34fc3e5a)\n",
        "\n",
        "After use this function, the result of the code is false.\n"
      ]
    },
    {
      "cell_type": "code",
      "metadata": {
        "id": "5DZ6zuozBE1u",
        "colab": {
          "base_uri": "https://localhost:8080/"
        },
        "outputId": "500f912f-ffed-44bb-b89e-9fe79c476200"
      },
      "source": [
        "print(df.isnull().values.any())"
      ],
      "execution_count": 15,
      "outputs": [
        {
          "output_type": "stream",
          "text": [
            "True\n"
          ],
          "name": "stdout"
        }
      ]
    },
    {
      "cell_type": "code",
      "metadata": {
        "id": "mn6u-_6NiPqp",
        "colab": {
          "base_uri": "https://localhost:8080/"
        },
        "outputId": "5fd6bda3-2df7-4649-f6ea-24eb1a312849"
      },
      "source": [
        "df.info()"
      ],
      "execution_count": 16,
      "outputs": [
        {
          "output_type": "stream",
          "text": [
            "<class 'pandas.core.frame.DataFrame'>\n",
            "RangeIndex: 4530610 entries, 0 to 4530609\n",
            "Data columns (total 23 columns):\n",
            " #   Column                      Dtype  \n",
            "---  ------                      -----  \n",
            " 0   web_date_report             object \n",
            " 1   case_id                     int64  \n",
            " 2   notification_date           object \n",
            " 3   davipola_departament_code   int64  \n",
            " 4   department_name             object \n",
            " 5   davipola_municipality_code  int64  \n",
            " 6   municipality_name           object \n",
            " 7   age                         int64  \n",
            " 8   age_measurement_unit        int64  \n",
            " 9   sex                         object \n",
            " 10  contagion_type              object \n",
            " 11  case_location               object \n",
            " 12  state                       object \n",
            " 13  iso_country_code            float64\n",
            " 14  country_name                object \n",
            " 15  recuperated                 object \n",
            " 16  beginning_symptoms_date     object \n",
            " 17  date_of_death               object \n",
            " 18  date_of_diagnosis           object \n",
            " 19  date_of_recovery            object \n",
            " 20  recovery_type               object \n",
            " 21  ethnicity                   float64\n",
            " 22  ethnic_group_name           object \n",
            "dtypes: float64(2), int64(5), object(16)\n",
            "memory usage: 795.0+ MB\n"
          ],
          "name": "stdout"
        }
      ]
    },
    {
      "cell_type": "markdown",
      "metadata": {
        "id": "ZzevG-kZIBgA"
      },
      "source": [
        "Similarity mesurement (radio basics funciotn)\n",
        "1.  \n",
        "*   ML / rbf -| knn graph / \n",
        "*   train to know about who would most highly survive\n",
        "*   KNN graph (find the most near neibough\n",
        "2.  \n",
        "*   svm (support vector machine)\n",
        "\n",
        "\n",
        "\n",
        "\n",
        "\n",
        "Adjency matrix. to build a graph after apply rbf and knn aproach?\n",
        "\n"
      ]
    },
    {
      "cell_type": "code",
      "metadata": {
        "id": "nPM7orWqgfIE"
      },
      "source": [
        "df[\"beginning_symptoms_date\"] = pd.to_datetime(df[\"beginning_symptoms_date\"],format='%d/%m/%Y %H:%M:%S')\n",
        "df[\"date_of_death\"] = pd.to_datetime(df[\"date_of_death\"],format='%d/%m/%Y %H:%M:%S')\n",
        "df[\"web_date_report\"] = pd.to_datetime(df[\"web_date_report\"],format='%d/%m/%Y %H:%M:%S')\n",
        "df[\"date_of_recovery\"] = pd.to_datetime(df[\"date_of_recovery\"],format='%d/%m/%Y %H:%M:%S')\n",
        "df[\"date_of_diagnosis\"] = pd.to_datetime(df[\"date_of_diagnosis\"],format='%d/%m/%Y %H:%M:%S')\n",
        "df[\"notification_date\"] = pd.to_datetime(df[\"notification_date\"],format='%d/%m/%Y %H:%M:%S')"
      ],
      "execution_count": 17,
      "outputs": []
    },
    {
      "cell_type": "code",
      "metadata": {
        "id": "wUSTcIIk5UY9"
      },
      "source": [
        ""
      ],
      "execution_count": 17,
      "outputs": []
    },
    {
      "cell_type": "markdown",
      "metadata": {
        "id": "V2hKjT1D750o"
      },
      "source": [
        "Does is first greather than second?"
      ]
    },
    {
      "cell_type": "code",
      "metadata": {
        "colab": {
          "base_uri": "https://localhost:8080/"
        },
        "id": "OniBUS0LyT_V",
        "outputId": "906cdf2d-52bb-455a-c4ab-2acc1ac2f138"
      },
      "source": [
        "df[\"beginning_symptoms_date\"][0] > df[\"beginning_symptoms_date\"][1]"
      ],
      "execution_count": 18,
      "outputs": [
        {
          "output_type": "execute_result",
          "data": {
            "text/plain": [
              "False"
            ]
          },
          "metadata": {
            "tags": []
          },
          "execution_count": 18
        }
      ]
    },
    {
      "cell_type": "markdown",
      "metadata": {
        "id": "_TS07MeQFPtc"
      },
      "source": [
        "This let find categories, regardless upper or lower case."
      ]
    },
    {
      "cell_type": "code",
      "metadata": {
        "id": "r6lbFCjoVeYm"
      },
      "source": [
        "for i in df.select_dtypes(include='object'):\n",
        "  df[i] = df[i].str.upper()"
      ],
      "execution_count": 19,
      "outputs": []
    },
    {
      "cell_type": "markdown",
      "metadata": {
        "id": "TAnau-WwoaT2"
      },
      "source": [
        "Analisis de componentes principales (APC)\n",
        "\n",
        "quitar lo que se puede.\n",
        "\n"
      ]
    },
    {
      "cell_type": "markdown",
      "metadata": {
        "id": "8R_mL1pUp_Cp"
      },
      "source": [
        "desviación estandar de  para analizar causas de muerte"
      ]
    },
    {
      "cell_type": "markdown",
      "metadata": {
        "id": "40F9oHJIdgcL"
      },
      "source": [
        "*italicized text*.fit\n",
        "\n",
        "se realiza conversión a todos los que tengan"
      ]
    },
    {
      "cell_type": "markdown",
      "metadata": {
        "id": "s-ayFfxrMmEh"
      },
      "source": [
        ""
      ]
    },
    {
      "cell_type": "code",
      "metadata": {
        "id": "fkydYBByUQDC"
      },
      "source": [
        "#////////////////////////////////////////////////////////#\n",
        "#                                                        /\n",
        "#      Binarize Sex column values to avoid errors        /\n",
        "#                                                        /\n",
        "#////////////////////////////////////////////////////////#\n",
        "from sklearn.preprocessing import Binarizer\n",
        "\n",
        "#/-////////////////////////////////////////////////////////#\n",
        "#                                                         /\n",
        "#              average of recovery time per genre         /\n",
        "#                                                         /\n",
        "#/////////////////////////////////////////////////////////#\n",
        "\n",
        "#////////////////////////////////////////////////////////#\n",
        "#                                                        /\n",
        "#     Capitalize Sex column values to avoid errors       /\n",
        "#                                                        /\n",
        "#////////////////////////////////////////////////////////#\n",
        "\n",
        "#////////////////////////////////////////////////////////#\n",
        "#                                                        /\n",
        "#  substract betweeen two dates and store it the answer  /\n",
        "#                                                        /\n",
        "#////////////////////////////////////////////////////////#\n",
        "\n",
        "def get_duration_of_illness(x:any):\n",
        "  time = 0\n",
        "  z = list()\n",
        "  count = 0\n",
        "  for e in x.index:\n",
        "    count += 1\n",
        "    if x.date_of_recovery[e]:\n",
        "      #time delta - .dt.days to integer\n",
        "      z.append(x.date_of_recovery[e] - x.beginning_symptoms_date[e])\n",
        "    elif x.date_of_death[e]:\n",
        "      z.append(x.date_of_death[e] - x.beginning_symptoms_date[e])\n",
        "    elif x.date_of_death[e] == 0 and x.date_of_recovery[e] == 0:\n",
        "      print(\"Unknown\")\n",
        "      x.loc[e, \"illness_time\"] = None\n",
        "\n",
        "  print(\"The total of patients is: \"+ str(count))\n",
        "\n",
        "  return x\n",
        "  \n",
        "#array_dates_new_dates = get_duration_of_illness(df)"
      ],
      "execution_count": 20,
      "outputs": []
    },
    {
      "cell_type": "markdown",
      "metadata": {
        "id": "fQm-H4C3IPhL"
      },
      "source": [
        "Replacing\n"
      ]
    },
    {
      "cell_type": "code",
      "metadata": {
        "id": "ytLrt03f_Zgn"
      },
      "source": [
        "#df.boxplot('age','contagion_type',rot = 0,figsize=(5,6))"
      ],
      "execution_count": 21,
      "outputs": []
    },
    {
      "cell_type": "markdown",
      "metadata": {
        "id": "IE4mOkukhxNS"
      },
      "source": [
        "# Data Cleaning\n",
        "Label or one hot enconding or replacing\n",
        "\n"
      ]
    },
    {
      "cell_type": "code",
      "metadata": {
        "id": "pY3J6Y0vrszr",
        "colab": {
          "base_uri": "https://localhost:8080/"
        },
        "outputId": "6eec6ae1-e168-4fff-b208-69c093ff70e6"
      },
      "source": [
        "df.dtypes.value_counts()"
      ],
      "execution_count": 22,
      "outputs": [
        {
          "output_type": "execute_result",
          "data": {
            "text/plain": [
              "object            10\n",
              "datetime64[ns]     6\n",
              "int64              5\n",
              "float64            2\n",
              "dtype: int64"
            ]
          },
          "metadata": {
            "tags": []
          },
          "execution_count": 22
        }
      ]
    },
    {
      "cell_type": "code",
      "metadata": {
        "colab": {
          "base_uri": "https://localhost:8080/"
        },
        "id": "k36LrmMwUUVx",
        "outputId": "226d7d8e-4759-485b-fb94-aaef0a68545d"
      },
      "source": [
        "df['sex'].describe()"
      ],
      "execution_count": 23,
      "outputs": [
        {
          "output_type": "execute_result",
          "data": {
            "text/plain": [
              "count     4530610\n",
              "unique          2\n",
              "top             F\n",
              "freq      2372713\n",
              "Name: sex, dtype: object"
            ]
          },
          "metadata": {
            "tags": []
          },
          "execution_count": 23
        }
      ]
    },
    {
      "cell_type": "markdown",
      "metadata": {
        "id": "zlO8tbkQoQV2"
      },
      "source": [
        "*  Fill empty spaces with 0.\n",
        "*  Determine unneccessary feateres (columns).\n",
        "*  Delete departament name && municipality name.\n",
        "*  Binarize sex column.\n",
        "*  Delete country name.\n",
        "*  Normalize recovery type.\n",
        "*  Write documentation.\n"
      ]
    },
    {
      "cell_type": "markdown",
      "metadata": {
        "id": "50YQp67DfC6L"
      },
      "source": [
        "## Fill empty spaces with 0.\n"
      ]
    },
    {
      "cell_type": "code",
      "metadata": {
        "id": "lE709nOU5wLG",
        "colab": {
          "base_uri": "https://localhost:8080/"
        },
        "outputId": "dd46afdd-caa1-47fd-c22e-088dbf4c68e7"
      },
      "source": [
        "df.isnull().sum()"
      ],
      "execution_count": 24,
      "outputs": [
        {
          "output_type": "execute_result",
          "data": {
            "text/plain": [
              "web_date_report                     0\n",
              "case_id                             0\n",
              "notification_date                   0\n",
              "davipola_departament_code           0\n",
              "department_name                     0\n",
              "davipola_municipality_code          0\n",
              "municipality_name                   0\n",
              "age                                 0\n",
              "age_measurement_unit                0\n",
              "sex                                 0\n",
              "contagion_type                      0\n",
              "case_location                   15212\n",
              "state                           15212\n",
              "iso_country_code              4527553\n",
              "country_name                  4527545\n",
              "recuperated                     12806\n",
              "beginning_symptoms_date        516910\n",
              "date_of_death                 4402058\n",
              "date_of_diagnosis                4106\n",
              "date_of_recovery               254145\n",
              "recovery_type                  254145\n",
              "ethnicity                       58988\n",
              "ethnic_group_name             4467698\n",
              "dtype: int64"
            ]
          },
          "metadata": {
            "tags": []
          },
          "execution_count": 24
        }
      ]
    },
    {
      "cell_type": "code",
      "metadata": {
        "id": "1RQxCRMmAsfO",
        "colab": {
          "base_uri": "https://localhost:8080/",
          "height": 418
        },
        "outputId": "739e48d2-5913-433b-86bd-34053b16152d"
      },
      "source": [
        "df.head(10)"
      ],
      "execution_count": 25,
      "outputs": [
        {
          "output_type": "execute_result",
          "data": {
            "text/html": [
              "<div>\n",
              "<style scoped>\n",
              "    .dataframe tbody tr th:only-of-type {\n",
              "        vertical-align: middle;\n",
              "    }\n",
              "\n",
              "    .dataframe tbody tr th {\n",
              "        vertical-align: top;\n",
              "    }\n",
              "\n",
              "    .dataframe thead th {\n",
              "        text-align: right;\n",
              "    }\n",
              "</style>\n",
              "<table border=\"1\" class=\"dataframe\">\n",
              "  <thead>\n",
              "    <tr style=\"text-align: right;\">\n",
              "      <th></th>\n",
              "      <th>web_date_report</th>\n",
              "      <th>case_id</th>\n",
              "      <th>notification_date</th>\n",
              "      <th>davipola_departament_code</th>\n",
              "      <th>department_name</th>\n",
              "      <th>davipola_municipality_code</th>\n",
              "      <th>municipality_name</th>\n",
              "      <th>age</th>\n",
              "      <th>age_measurement_unit</th>\n",
              "      <th>sex</th>\n",
              "      <th>contagion_type</th>\n",
              "      <th>case_location</th>\n",
              "      <th>state</th>\n",
              "      <th>iso_country_code</th>\n",
              "      <th>country_name</th>\n",
              "      <th>recuperated</th>\n",
              "      <th>beginning_symptoms_date</th>\n",
              "      <th>date_of_death</th>\n",
              "      <th>date_of_diagnosis</th>\n",
              "      <th>date_of_recovery</th>\n",
              "      <th>recovery_type</th>\n",
              "      <th>ethnicity</th>\n",
              "      <th>ethnic_group_name</th>\n",
              "    </tr>\n",
              "  </thead>\n",
              "  <tbody>\n",
              "    <tr>\n",
              "      <th>0</th>\n",
              "      <td>2020-03-06</td>\n",
              "      <td>1</td>\n",
              "      <td>2020-03-02</td>\n",
              "      <td>11</td>\n",
              "      <td>BOGOTA</td>\n",
              "      <td>11001</td>\n",
              "      <td>BOGOTA</td>\n",
              "      <td>19</td>\n",
              "      <td>1</td>\n",
              "      <td>F</td>\n",
              "      <td>IMPORTADO</td>\n",
              "      <td>CASA</td>\n",
              "      <td>LEVE</td>\n",
              "      <td>380.0</td>\n",
              "      <td>ITALIA</td>\n",
              "      <td>RECUPERADO</td>\n",
              "      <td>2020-02-27</td>\n",
              "      <td>NaT</td>\n",
              "      <td>2020-03-06</td>\n",
              "      <td>2020-03-13</td>\n",
              "      <td>PCR</td>\n",
              "      <td>6.0</td>\n",
              "      <td>NaN</td>\n",
              "    </tr>\n",
              "    <tr>\n",
              "      <th>1</th>\n",
              "      <td>2020-03-09</td>\n",
              "      <td>2</td>\n",
              "      <td>2020-03-06</td>\n",
              "      <td>76</td>\n",
              "      <td>VALLE</td>\n",
              "      <td>76111</td>\n",
              "      <td>BUGA</td>\n",
              "      <td>34</td>\n",
              "      <td>1</td>\n",
              "      <td>M</td>\n",
              "      <td>IMPORTADO</td>\n",
              "      <td>CASA</td>\n",
              "      <td>LEVE</td>\n",
              "      <td>724.0</td>\n",
              "      <td>ESPAÑA</td>\n",
              "      <td>RECUPERADO</td>\n",
              "      <td>2020-03-04</td>\n",
              "      <td>NaT</td>\n",
              "      <td>2020-03-09</td>\n",
              "      <td>2020-03-19</td>\n",
              "      <td>PCR</td>\n",
              "      <td>5.0</td>\n",
              "      <td>NaN</td>\n",
              "    </tr>\n",
              "    <tr>\n",
              "      <th>2</th>\n",
              "      <td>2020-03-09</td>\n",
              "      <td>3</td>\n",
              "      <td>2020-03-07</td>\n",
              "      <td>5</td>\n",
              "      <td>ANTIOQUIA</td>\n",
              "      <td>5001</td>\n",
              "      <td>MEDELLIN</td>\n",
              "      <td>50</td>\n",
              "      <td>1</td>\n",
              "      <td>F</td>\n",
              "      <td>IMPORTADO</td>\n",
              "      <td>CASA</td>\n",
              "      <td>LEVE</td>\n",
              "      <td>724.0</td>\n",
              "      <td>ESPAÑA</td>\n",
              "      <td>RECUPERADO</td>\n",
              "      <td>2020-02-29</td>\n",
              "      <td>NaT</td>\n",
              "      <td>2020-03-09</td>\n",
              "      <td>2020-03-15</td>\n",
              "      <td>PCR</td>\n",
              "      <td>6.0</td>\n",
              "      <td>NaN</td>\n",
              "    </tr>\n",
              "    <tr>\n",
              "      <th>3</th>\n",
              "      <td>2020-03-11</td>\n",
              "      <td>4</td>\n",
              "      <td>2020-03-09</td>\n",
              "      <td>5</td>\n",
              "      <td>ANTIOQUIA</td>\n",
              "      <td>5001</td>\n",
              "      <td>MEDELLIN</td>\n",
              "      <td>55</td>\n",
              "      <td>1</td>\n",
              "      <td>M</td>\n",
              "      <td>RELACIONADO</td>\n",
              "      <td>CASA</td>\n",
              "      <td>LEVE</td>\n",
              "      <td>NaN</td>\n",
              "      <td>NaN</td>\n",
              "      <td>RECUPERADO</td>\n",
              "      <td>2020-03-06</td>\n",
              "      <td>NaT</td>\n",
              "      <td>2020-03-11</td>\n",
              "      <td>2020-03-26</td>\n",
              "      <td>PCR</td>\n",
              "      <td>6.0</td>\n",
              "      <td>NaN</td>\n",
              "    </tr>\n",
              "    <tr>\n",
              "      <th>4</th>\n",
              "      <td>2020-03-11</td>\n",
              "      <td>5</td>\n",
              "      <td>2020-03-09</td>\n",
              "      <td>5</td>\n",
              "      <td>ANTIOQUIA</td>\n",
              "      <td>5001</td>\n",
              "      <td>MEDELLIN</td>\n",
              "      <td>25</td>\n",
              "      <td>1</td>\n",
              "      <td>M</td>\n",
              "      <td>RELACIONADO</td>\n",
              "      <td>CASA</td>\n",
              "      <td>LEVE</td>\n",
              "      <td>NaN</td>\n",
              "      <td>NaN</td>\n",
              "      <td>RECUPERADO</td>\n",
              "      <td>2020-03-08</td>\n",
              "      <td>NaT</td>\n",
              "      <td>2020-03-11</td>\n",
              "      <td>2020-03-23</td>\n",
              "      <td>PCR</td>\n",
              "      <td>6.0</td>\n",
              "      <td>NaN</td>\n",
              "    </tr>\n",
              "    <tr>\n",
              "      <th>5</th>\n",
              "      <td>2020-03-11</td>\n",
              "      <td>6</td>\n",
              "      <td>2020-03-10</td>\n",
              "      <td>5</td>\n",
              "      <td>ANTIOQUIA</td>\n",
              "      <td>5360</td>\n",
              "      <td>ITAGUI</td>\n",
              "      <td>27</td>\n",
              "      <td>1</td>\n",
              "      <td>F</td>\n",
              "      <td>RELACIONADO</td>\n",
              "      <td>CASA</td>\n",
              "      <td>LEVE</td>\n",
              "      <td>NaN</td>\n",
              "      <td>NaN</td>\n",
              "      <td>RECUPERADO</td>\n",
              "      <td>2020-03-06</td>\n",
              "      <td>NaT</td>\n",
              "      <td>2020-03-11</td>\n",
              "      <td>2020-03-26</td>\n",
              "      <td>PCR</td>\n",
              "      <td>6.0</td>\n",
              "      <td>NaN</td>\n",
              "    </tr>\n",
              "    <tr>\n",
              "      <th>6</th>\n",
              "      <td>2020-03-11</td>\n",
              "      <td>7</td>\n",
              "      <td>2020-03-08</td>\n",
              "      <td>13001</td>\n",
              "      <td>CARTAGENA</td>\n",
              "      <td>13001</td>\n",
              "      <td>CARTAGENA</td>\n",
              "      <td>85</td>\n",
              "      <td>1</td>\n",
              "      <td>F</td>\n",
              "      <td>IMPORTADO</td>\n",
              "      <td>CASA</td>\n",
              "      <td>LEVE</td>\n",
              "      <td>840.0</td>\n",
              "      <td>ESTADOS UNIDOS DE AMÉRICA</td>\n",
              "      <td>RECUPERADO</td>\n",
              "      <td>2020-03-02</td>\n",
              "      <td>NaT</td>\n",
              "      <td>2020-03-11</td>\n",
              "      <td>2020-03-17</td>\n",
              "      <td>PCR</td>\n",
              "      <td>6.0</td>\n",
              "      <td>NaN</td>\n",
              "    </tr>\n",
              "    <tr>\n",
              "      <th>7</th>\n",
              "      <td>2020-03-11</td>\n",
              "      <td>8</td>\n",
              "      <td>2020-03-09</td>\n",
              "      <td>11</td>\n",
              "      <td>BOGOTA</td>\n",
              "      <td>11001</td>\n",
              "      <td>BOGOTA</td>\n",
              "      <td>22</td>\n",
              "      <td>1</td>\n",
              "      <td>F</td>\n",
              "      <td>IMPORTADO</td>\n",
              "      <td>CASA</td>\n",
              "      <td>LEVE</td>\n",
              "      <td>724.0</td>\n",
              "      <td>ESPAÑA</td>\n",
              "      <td>RECUPERADO</td>\n",
              "      <td>2020-03-06</td>\n",
              "      <td>NaT</td>\n",
              "      <td>2020-03-11</td>\n",
              "      <td>2020-03-21</td>\n",
              "      <td>PCR</td>\n",
              "      <td>6.0</td>\n",
              "      <td>NaN</td>\n",
              "    </tr>\n",
              "    <tr>\n",
              "      <th>8</th>\n",
              "      <td>2020-03-11</td>\n",
              "      <td>9</td>\n",
              "      <td>2020-03-08</td>\n",
              "      <td>11</td>\n",
              "      <td>BOGOTA</td>\n",
              "      <td>11001</td>\n",
              "      <td>BOGOTA</td>\n",
              "      <td>28</td>\n",
              "      <td>1</td>\n",
              "      <td>F</td>\n",
              "      <td>IMPORTADO</td>\n",
              "      <td>CASA</td>\n",
              "      <td>LEVE</td>\n",
              "      <td>724.0</td>\n",
              "      <td>ESPAÑA</td>\n",
              "      <td>RECUPERADO</td>\n",
              "      <td>2020-03-07</td>\n",
              "      <td>NaT</td>\n",
              "      <td>2020-03-11</td>\n",
              "      <td>2020-03-23</td>\n",
              "      <td>PCR</td>\n",
              "      <td>6.0</td>\n",
              "      <td>NaN</td>\n",
              "    </tr>\n",
              "    <tr>\n",
              "      <th>9</th>\n",
              "      <td>2020-03-12</td>\n",
              "      <td>10</td>\n",
              "      <td>2020-03-12</td>\n",
              "      <td>11</td>\n",
              "      <td>BOGOTA</td>\n",
              "      <td>11001</td>\n",
              "      <td>BOGOTA</td>\n",
              "      <td>36</td>\n",
              "      <td>1</td>\n",
              "      <td>F</td>\n",
              "      <td>IMPORTADO</td>\n",
              "      <td>CASA</td>\n",
              "      <td>LEVE</td>\n",
              "      <td>724.0</td>\n",
              "      <td>ESPAÑA</td>\n",
              "      <td>RECUPERADO</td>\n",
              "      <td>2020-03-06</td>\n",
              "      <td>NaT</td>\n",
              "      <td>2020-03-12</td>\n",
              "      <td>2020-03-21</td>\n",
              "      <td>PCR</td>\n",
              "      <td>6.0</td>\n",
              "      <td>NaN</td>\n",
              "    </tr>\n",
              "  </tbody>\n",
              "</table>\n",
              "</div>"
            ],
            "text/plain": [
              "  web_date_report  case_id  ... ethnicity  ethnic_group_name\n",
              "0      2020-03-06        1  ...       6.0                NaN\n",
              "1      2020-03-09        2  ...       5.0                NaN\n",
              "2      2020-03-09        3  ...       6.0                NaN\n",
              "3      2020-03-11        4  ...       6.0                NaN\n",
              "4      2020-03-11        5  ...       6.0                NaN\n",
              "5      2020-03-11        6  ...       6.0                NaN\n",
              "6      2020-03-11        7  ...       6.0                NaN\n",
              "7      2020-03-11        8  ...       6.0                NaN\n",
              "8      2020-03-11        9  ...       6.0                NaN\n",
              "9      2020-03-12       10  ...       6.0                NaN\n",
              "\n",
              "[10 rows x 23 columns]"
            ]
          },
          "metadata": {
            "tags": []
          },
          "execution_count": 25
        }
      ]
    },
    {
      "cell_type": "markdown",
      "metadata": {
        "id": "EUXKWPd4RoPS"
      },
      "source": [
        "#Data Transformation"
      ]
    },
    {
      "cell_type": "code",
      "metadata": {
        "id": "aolMCqlu0sVq"
      },
      "source": [
        "from sklearn.preprocessing import Binarizer\n",
        "from sklearn.preprocessing import StandardScaler\n",
        "\n",
        "import xgboost\n",
        "from sklearn.metrics import accuracy_score, confusion_matrix\n",
        "from sklearn.preprocessing import LabelEncoder\n",
        "from math import sqrt\n",
        "\n",
        "from sklearn.compose import make_column_transformer\n",
        "from sklearn.preprocessing import OneHotEncoder, StandardScaler #,OrdinalEncoder"
      ],
      "execution_count": 26,
      "outputs": []
    },
    {
      "cell_type": "code",
      "metadata": {
        "id": "WEvDBQjRCe_v"
      },
      "source": [
        "from sklearn.compose import ColumnTransformer\n",
        "from sklearn.pipeline import Pipeline\n",
        "from sklearn.impute import SimpleImputer\n",
        "# from sklearn.preprocessing import StandardScaler, OneHotEncoder\n",
        "from sklearn.linear_model import LogisticRegression\n",
        "from sklearn.model_selection import train_test_split, GridSearchCV"
      ],
      "execution_count": 27,
      "outputs": []
    },
    {
      "cell_type": "markdown",
      "metadata": {
        "id": "-TAolkndhrXX"
      },
      "source": [
        "##Categorical Variables\n",
        "\n"
      ]
    },
    {
      "cell_type": "markdown",
      "metadata": {
        "id": "WUc9Afx6bUGu"
      },
      "source": [
        "\n",
        "\n",
        "> Information about: Dinesh Yadav, https://towardsdatascience.com/categorical-encoding-using-label-encoding-and-one-hot-encoder-911ef77fb5bd.\n",
        "\n"
      ]
    },
    {
      "cell_type": "markdown",
      "metadata": {
        "id": "xkGsiwK3Bubi"
      },
      "source": [
        "Posible ways to replace\n",
        "[Pandas Documentation \n",
        "](https://pandas.pydata.org/docs/reference/api/pandas.DataFrame.replace.html)\n",
        "```\n",
        "df.replace({'A': {0: 100, 4: 400}})\n",
        "Result:\n",
        "        A  B  C\n",
        "0  100  5  a\n",
        "1    1  6  b\n",
        "2    2  7  c\n",
        "3    3  8  d\n",
        "4  400  9  e\n",
        "```\n",
        "\n"
      ]
    },
    {
      "cell_type": "markdown",
      "metadata": {
        "id": "2htjEN9NaAhY"
      },
      "source": [
        "standarization"
      ]
    },
    {
      "cell_type": "markdown",
      "metadata": {
        "id": "otss_huJ6-v5"
      },
      "source": [
        "## Data import for test\n"
      ]
    },
    {
      "cell_type": "code",
      "metadata": {
        "id": "JSVQ8OA0z2hz"
      },
      "source": [
        "#storage test data\n",
        "path = '/content/drive/MyDrive/Salisbury/data/covid_downloaded_1000.csv'\n",
        "train_csv_url = 'https://www.datos.gov.co/resource/gt2j-8ykr.csv'\n",
        "# downloadDataCsv(train_csv_url,path)"
      ],
      "execution_count": 28,
      "outputs": []
    },
    {
      "cell_type": "code",
      "metadata": {
        "id": "bwzSV-QCxX3X"
      },
      "source": [
        "#reading storaged test data\n",
        "df_to_test = getCsvDataSet(path)\n",
        "df_to_test.columns = english_columns\n",
        "df_to_test = df_to_test.iloc[:, lambda df_to_test: [7,9,10,11,12,13,15,16,17,18,20,21]].copy()"
      ],
      "execution_count": 29,
      "outputs": []
    },
    {
      "cell_type": "code",
      "metadata": {
        "colab": {
          "base_uri": "https://localhost:8080/",
          "height": 0
        },
        "id": "xcMJ31BA0TEz",
        "outputId": "bb288264-f270-4e01-c559-e263c53f0025"
      },
      "source": [
        "print(df_to_test.info)\n",
        "df_to_test.head()"
      ],
      "execution_count": 30,
      "outputs": [
        {
          "output_type": "stream",
          "text": [
            "<bound method DataFrame.info of      age sex contagion_type  ...  date_of_diagnosis recovery_type  ethnicity\n",
            "0     19   F      Importado  ...   6/3/2020 0:00:00           PCR          6\n",
            "1     34   M      Importado  ...   9/3/2020 0:00:00           PCR          5\n",
            "2     50   F      Importado  ...   9/3/2020 0:00:00           PCR          6\n",
            "3     55   M    Relacionado  ...  11/3/2020 0:00:00           PCR          6\n",
            "4     25   M    Relacionado  ...  11/3/2020 0:00:00           PCR          6\n",
            "..   ...  ..            ...  ...                ...           ...        ...\n",
            "995   30   F    Comunitaria  ...   1/4/2020 0:00:00           PCR          6\n",
            "996   44   F    Comunitaria  ...   1/4/2020 0:00:00           PCR          6\n",
            "997   17   F    Comunitaria  ...   1/4/2020 0:00:00           PCR          6\n",
            "998   39   F    Comunitaria  ...   1/4/2020 0:00:00           PCR          6\n",
            "999   30   F    Comunitaria  ...   1/4/2020 0:00:00           PCR          6\n",
            "\n",
            "[1000 rows x 12 columns]>\n"
          ],
          "name": "stdout"
        },
        {
          "output_type": "execute_result",
          "data": {
            "text/html": [
              "<div>\n",
              "<style scoped>\n",
              "    .dataframe tbody tr th:only-of-type {\n",
              "        vertical-align: middle;\n",
              "    }\n",
              "\n",
              "    .dataframe tbody tr th {\n",
              "        vertical-align: top;\n",
              "    }\n",
              "\n",
              "    .dataframe thead th {\n",
              "        text-align: right;\n",
              "    }\n",
              "</style>\n",
              "<table border=\"1\" class=\"dataframe\">\n",
              "  <thead>\n",
              "    <tr style=\"text-align: right;\">\n",
              "      <th></th>\n",
              "      <th>age</th>\n",
              "      <th>sex</th>\n",
              "      <th>contagion_type</th>\n",
              "      <th>case_location</th>\n",
              "      <th>state</th>\n",
              "      <th>iso_country_code</th>\n",
              "      <th>recuperated</th>\n",
              "      <th>beginning_symptoms_date</th>\n",
              "      <th>date_of_death</th>\n",
              "      <th>date_of_diagnosis</th>\n",
              "      <th>recovery_type</th>\n",
              "      <th>ethnicity</th>\n",
              "    </tr>\n",
              "  </thead>\n",
              "  <tbody>\n",
              "    <tr>\n",
              "      <th>0</th>\n",
              "      <td>19</td>\n",
              "      <td>F</td>\n",
              "      <td>Importado</td>\n",
              "      <td>Casa</td>\n",
              "      <td>Leve</td>\n",
              "      <td>380.0</td>\n",
              "      <td>Recuperado</td>\n",
              "      <td>27/2/2020 0:00:00</td>\n",
              "      <td>NaN</td>\n",
              "      <td>6/3/2020 0:00:00</td>\n",
              "      <td>PCR</td>\n",
              "      <td>6</td>\n",
              "    </tr>\n",
              "    <tr>\n",
              "      <th>1</th>\n",
              "      <td>34</td>\n",
              "      <td>M</td>\n",
              "      <td>Importado</td>\n",
              "      <td>Casa</td>\n",
              "      <td>Leve</td>\n",
              "      <td>724.0</td>\n",
              "      <td>Recuperado</td>\n",
              "      <td>4/3/2020 0:00:00</td>\n",
              "      <td>NaN</td>\n",
              "      <td>9/3/2020 0:00:00</td>\n",
              "      <td>PCR</td>\n",
              "      <td>5</td>\n",
              "    </tr>\n",
              "    <tr>\n",
              "      <th>2</th>\n",
              "      <td>50</td>\n",
              "      <td>F</td>\n",
              "      <td>Importado</td>\n",
              "      <td>Casa</td>\n",
              "      <td>Leve</td>\n",
              "      <td>724.0</td>\n",
              "      <td>Recuperado</td>\n",
              "      <td>29/2/2020 0:00:00</td>\n",
              "      <td>NaN</td>\n",
              "      <td>9/3/2020 0:00:00</td>\n",
              "      <td>PCR</td>\n",
              "      <td>6</td>\n",
              "    </tr>\n",
              "    <tr>\n",
              "      <th>3</th>\n",
              "      <td>55</td>\n",
              "      <td>M</td>\n",
              "      <td>Relacionado</td>\n",
              "      <td>Casa</td>\n",
              "      <td>Leve</td>\n",
              "      <td>NaN</td>\n",
              "      <td>Recuperado</td>\n",
              "      <td>6/3/2020 0:00:00</td>\n",
              "      <td>NaN</td>\n",
              "      <td>11/3/2020 0:00:00</td>\n",
              "      <td>PCR</td>\n",
              "      <td>6</td>\n",
              "    </tr>\n",
              "    <tr>\n",
              "      <th>4</th>\n",
              "      <td>25</td>\n",
              "      <td>M</td>\n",
              "      <td>Relacionado</td>\n",
              "      <td>Casa</td>\n",
              "      <td>Leve</td>\n",
              "      <td>NaN</td>\n",
              "      <td>Recuperado</td>\n",
              "      <td>8/3/2020 0:00:00</td>\n",
              "      <td>NaN</td>\n",
              "      <td>11/3/2020 0:00:00</td>\n",
              "      <td>PCR</td>\n",
              "      <td>6</td>\n",
              "    </tr>\n",
              "  </tbody>\n",
              "</table>\n",
              "</div>"
            ],
            "text/plain": [
              "   age sex contagion_type  ...  date_of_diagnosis recovery_type  ethnicity\n",
              "0   19   F      Importado  ...   6/3/2020 0:00:00           PCR          6\n",
              "1   34   M      Importado  ...   9/3/2020 0:00:00           PCR          5\n",
              "2   50   F      Importado  ...   9/3/2020 0:00:00           PCR          6\n",
              "3   55   M    Relacionado  ...  11/3/2020 0:00:00           PCR          6\n",
              "4   25   M    Relacionado  ...  11/3/2020 0:00:00           PCR          6\n",
              "\n",
              "[5 rows x 12 columns]"
            ]
          },
          "metadata": {
            "tags": []
          },
          "execution_count": 30
        }
      ]
    },
    {
      "cell_type": "code",
      "metadata": {
        "id": "9HYzrPFnPFeV"
      },
      "source": [
        "for i in df_to_test.select_dtypes(include='object'):\n",
        "  df_to_test[i] = df_to_test[i].str.upper()"
      ],
      "execution_count": 31,
      "outputs": []
    },
    {
      "cell_type": "code",
      "metadata": {
        "colab": {
          "base_uri": "https://localhost:8080/",
          "height": 0
        },
        "id": "Jps0Xs6CP5e7",
        "outputId": "6b97bc13-b228-47b1-ba71-266047dd5866"
      },
      "source": [
        "df_to_test.head()"
      ],
      "execution_count": 32,
      "outputs": [
        {
          "output_type": "execute_result",
          "data": {
            "text/html": [
              "<div>\n",
              "<style scoped>\n",
              "    .dataframe tbody tr th:only-of-type {\n",
              "        vertical-align: middle;\n",
              "    }\n",
              "\n",
              "    .dataframe tbody tr th {\n",
              "        vertical-align: top;\n",
              "    }\n",
              "\n",
              "    .dataframe thead th {\n",
              "        text-align: right;\n",
              "    }\n",
              "</style>\n",
              "<table border=\"1\" class=\"dataframe\">\n",
              "  <thead>\n",
              "    <tr style=\"text-align: right;\">\n",
              "      <th></th>\n",
              "      <th>age</th>\n",
              "      <th>sex</th>\n",
              "      <th>contagion_type</th>\n",
              "      <th>case_location</th>\n",
              "      <th>state</th>\n",
              "      <th>iso_country_code</th>\n",
              "      <th>recuperated</th>\n",
              "      <th>beginning_symptoms_date</th>\n",
              "      <th>date_of_death</th>\n",
              "      <th>date_of_diagnosis</th>\n",
              "      <th>recovery_type</th>\n",
              "      <th>ethnicity</th>\n",
              "    </tr>\n",
              "  </thead>\n",
              "  <tbody>\n",
              "    <tr>\n",
              "      <th>0</th>\n",
              "      <td>19</td>\n",
              "      <td>F</td>\n",
              "      <td>IMPORTADO</td>\n",
              "      <td>CASA</td>\n",
              "      <td>LEVE</td>\n",
              "      <td>380.0</td>\n",
              "      <td>RECUPERADO</td>\n",
              "      <td>27/2/2020 0:00:00</td>\n",
              "      <td>NaN</td>\n",
              "      <td>6/3/2020 0:00:00</td>\n",
              "      <td>PCR</td>\n",
              "      <td>6</td>\n",
              "    </tr>\n",
              "    <tr>\n",
              "      <th>1</th>\n",
              "      <td>34</td>\n",
              "      <td>M</td>\n",
              "      <td>IMPORTADO</td>\n",
              "      <td>CASA</td>\n",
              "      <td>LEVE</td>\n",
              "      <td>724.0</td>\n",
              "      <td>RECUPERADO</td>\n",
              "      <td>4/3/2020 0:00:00</td>\n",
              "      <td>NaN</td>\n",
              "      <td>9/3/2020 0:00:00</td>\n",
              "      <td>PCR</td>\n",
              "      <td>5</td>\n",
              "    </tr>\n",
              "    <tr>\n",
              "      <th>2</th>\n",
              "      <td>50</td>\n",
              "      <td>F</td>\n",
              "      <td>IMPORTADO</td>\n",
              "      <td>CASA</td>\n",
              "      <td>LEVE</td>\n",
              "      <td>724.0</td>\n",
              "      <td>RECUPERADO</td>\n",
              "      <td>29/2/2020 0:00:00</td>\n",
              "      <td>NaN</td>\n",
              "      <td>9/3/2020 0:00:00</td>\n",
              "      <td>PCR</td>\n",
              "      <td>6</td>\n",
              "    </tr>\n",
              "    <tr>\n",
              "      <th>3</th>\n",
              "      <td>55</td>\n",
              "      <td>M</td>\n",
              "      <td>RELACIONADO</td>\n",
              "      <td>CASA</td>\n",
              "      <td>LEVE</td>\n",
              "      <td>NaN</td>\n",
              "      <td>RECUPERADO</td>\n",
              "      <td>6/3/2020 0:00:00</td>\n",
              "      <td>NaN</td>\n",
              "      <td>11/3/2020 0:00:00</td>\n",
              "      <td>PCR</td>\n",
              "      <td>6</td>\n",
              "    </tr>\n",
              "    <tr>\n",
              "      <th>4</th>\n",
              "      <td>25</td>\n",
              "      <td>M</td>\n",
              "      <td>RELACIONADO</td>\n",
              "      <td>CASA</td>\n",
              "      <td>LEVE</td>\n",
              "      <td>NaN</td>\n",
              "      <td>RECUPERADO</td>\n",
              "      <td>8/3/2020 0:00:00</td>\n",
              "      <td>NaN</td>\n",
              "      <td>11/3/2020 0:00:00</td>\n",
              "      <td>PCR</td>\n",
              "      <td>6</td>\n",
              "    </tr>\n",
              "  </tbody>\n",
              "</table>\n",
              "</div>"
            ],
            "text/plain": [
              "   age sex contagion_type  ...  date_of_diagnosis recovery_type  ethnicity\n",
              "0   19   F      IMPORTADO  ...   6/3/2020 0:00:00           PCR          6\n",
              "1   34   M      IMPORTADO  ...   9/3/2020 0:00:00           PCR          5\n",
              "2   50   F      IMPORTADO  ...   9/3/2020 0:00:00           PCR          6\n",
              "3   55   M    RELACIONADO  ...  11/3/2020 0:00:00           PCR          6\n",
              "4   25   M    RELACIONADO  ...  11/3/2020 0:00:00           PCR          6\n",
              "\n",
              "[5 rows x 12 columns]"
            ]
          },
          "metadata": {
            "tags": []
          },
          "execution_count": 32
        }
      ]
    },
    {
      "cell_type": "markdown",
      "metadata": {
        "id": "BtEotC7nFMdl"
      },
      "source": [
        "##Train_data"
      ]
    },
    {
      "cell_type": "code",
      "metadata": {
        "id": "u52V2JsNEpTc",
        "colab": {
          "base_uri": "https://localhost:8080/"
        },
        "outputId": "215249a7-3c15-4b66-8c74-d0984a33c35a"
      },
      "source": [
        "df_to_train = df.iloc[:, lambda df: [7,9,10,11,12,13,15,\n",
        "                                     #16,17,18,\n",
        "                                     20,21]].copy()\n",
        "df_to_train.info()"
      ],
      "execution_count": 33,
      "outputs": [
        {
          "output_type": "stream",
          "text": [
            "<class 'pandas.core.frame.DataFrame'>\n",
            "RangeIndex: 4530610 entries, 0 to 4530609\n",
            "Data columns (total 9 columns):\n",
            " #   Column            Dtype  \n",
            "---  ------            -----  \n",
            " 0   age               int64  \n",
            " 1   sex               object \n",
            " 2   contagion_type    object \n",
            " 3   case_location     object \n",
            " 4   state             object \n",
            " 5   iso_country_code  float64\n",
            " 6   recuperated       object \n",
            " 7   recovery_type     object \n",
            " 8   ethnicity         float64\n",
            "dtypes: float64(2), int64(1), object(6)\n",
            "memory usage: 311.1+ MB\n"
          ],
          "name": "stdout"
        }
      ]
    },
    {
      "cell_type": "markdown",
      "metadata": {
        "id": "9qFRmusOP3d6"
      },
      "source": [
        "##Preprocesing\n",
        "\n",
        "\n",
        "**Take** in mind\n",
        "\n",
        "*   https://towardsdatascience.com/categorical-encoding-using-label-encoding-and-one-hot-encoder-911ef77fb5bd\n",
        "\n",
        "*   https://plotly.com/python/knn-classification/\n",
        "\n",
        "\n"
      ]
    },
    {
      "cell_type": "markdown",
      "metadata": {
        "id": "BhvLxnVPYaJf"
      },
      "source": [
        "##functions\n",
        "\n",
        "issue: It is not posible to work with NaN, so, it is neccessary to replace NaN values per something else, in order to be able to apply fit_transform to this ordinal variable."
      ]
    },
    {
      "cell_type": "code",
      "metadata": {
        "colab": {
          "base_uri": "https://localhost:8080/"
        },
        "id": "d6dRa1SzRK34",
        "outputId": "f8be9422-a384-427f-a64f-7cb8912519b0"
      },
      "source": [
        "for i in df_to_train.columns:\n",
        "  print(i)\n",
        "  df_to_train[i] = df_to_train[i].fillna(0)"
      ],
      "execution_count": 34,
      "outputs": [
        {
          "output_type": "stream",
          "text": [
            "age\n",
            "sex\n",
            "contagion_type\n",
            "case_location\n",
            "state\n",
            "iso_country_code\n",
            "recuperated\n",
            "recovery_type\n",
            "ethnicity\n"
          ],
          "name": "stdout"
        }
      ]
    },
    {
      "cell_type": "code",
      "metadata": {
        "colab": {
          "base_uri": "https://localhost:8080/"
        },
        "id": "0y-y4OHt0mOi",
        "outputId": "704453a1-2001-4003-8d8d-68f97ae1331c"
      },
      "source": [
        "df_to_train.isnull().sum()"
      ],
      "execution_count": 35,
      "outputs": [
        {
          "output_type": "execute_result",
          "data": {
            "text/plain": [
              "age                 0\n",
              "sex                 0\n",
              "contagion_type      0\n",
              "case_location       0\n",
              "state               0\n",
              "iso_country_code    0\n",
              "recuperated         0\n",
              "recovery_type       0\n",
              "ethnicity           0\n",
              "dtype: int64"
            ]
          },
          "metadata": {
            "tags": []
          },
          "execution_count": 35
        }
      ]
    },
    {
      "cell_type": "code",
      "metadata": {
        "colab": {
          "base_uri": "https://localhost:8080/",
          "height": 594
        },
        "id": "n2ZKfsVc-yny",
        "outputId": "4135d836-abd7-4ca6-b608-2a4bff57b158"
      },
      "source": [
        "# # day\n",
        "# df_to_train['date_of_death_day'] = df_to_train['date_of_death'].dt.day\n",
        "# # month\n",
        "# df_to_train['date_of_death_month'] = df_to_train['date_of_death'].dt.month\n",
        "# # year\n",
        "# df_to_train['date_of_death_year'] = df_to_train['date_of_death'].dt.year"
      ],
      "execution_count": 36,
      "outputs": [
        {
          "output_type": "error",
          "ename": "KeyError",
          "evalue": "ignored",
          "traceback": [
            "\u001b[0;31m---------------------------------------------------------------------------\u001b[0m",
            "\u001b[0;31mKeyError\u001b[0m                                  Traceback (most recent call last)",
            "\u001b[0;32m/usr/local/lib/python3.7/dist-packages/pandas/core/indexes/base.py\u001b[0m in \u001b[0;36mget_loc\u001b[0;34m(self, key, method, tolerance)\u001b[0m\n\u001b[1;32m   2897\u001b[0m             \u001b[0;32mtry\u001b[0m\u001b[0;34m:\u001b[0m\u001b[0;34m\u001b[0m\u001b[0;34m\u001b[0m\u001b[0m\n\u001b[0;32m-> 2898\u001b[0;31m                 \u001b[0;32mreturn\u001b[0m \u001b[0mself\u001b[0m\u001b[0;34m.\u001b[0m\u001b[0m_engine\u001b[0m\u001b[0;34m.\u001b[0m\u001b[0mget_loc\u001b[0m\u001b[0;34m(\u001b[0m\u001b[0mcasted_key\u001b[0m\u001b[0;34m)\u001b[0m\u001b[0;34m\u001b[0m\u001b[0;34m\u001b[0m\u001b[0m\n\u001b[0m\u001b[1;32m   2899\u001b[0m             \u001b[0;32mexcept\u001b[0m \u001b[0mKeyError\u001b[0m \u001b[0;32mas\u001b[0m \u001b[0merr\u001b[0m\u001b[0;34m:\u001b[0m\u001b[0;34m\u001b[0m\u001b[0;34m\u001b[0m\u001b[0m\n",
            "\u001b[0;32mpandas/_libs/index.pyx\u001b[0m in \u001b[0;36mpandas._libs.index.IndexEngine.get_loc\u001b[0;34m()\u001b[0m\n",
            "\u001b[0;32mpandas/_libs/index.pyx\u001b[0m in \u001b[0;36mpandas._libs.index.IndexEngine.get_loc\u001b[0;34m()\u001b[0m\n",
            "\u001b[0;32mpandas/_libs/hashtable_class_helper.pxi\u001b[0m in \u001b[0;36mpandas._libs.hashtable.PyObjectHashTable.get_item\u001b[0;34m()\u001b[0m\n",
            "\u001b[0;32mpandas/_libs/hashtable_class_helper.pxi\u001b[0m in \u001b[0;36mpandas._libs.hashtable.PyObjectHashTable.get_item\u001b[0;34m()\u001b[0m\n",
            "\u001b[0;31mKeyError\u001b[0m: 'date_of_death'",
            "\nThe above exception was the direct cause of the following exception:\n",
            "\u001b[0;31mKeyError\u001b[0m                                  Traceback (most recent call last)",
            "\u001b[0;32m<ipython-input-36-860096040a90>\u001b[0m in \u001b[0;36m<module>\u001b[0;34m()\u001b[0m\n\u001b[1;32m      1\u001b[0m \u001b[0;31m# day\u001b[0m\u001b[0;34m\u001b[0m\u001b[0;34m\u001b[0m\u001b[0;34m\u001b[0m\u001b[0m\n\u001b[0;32m----> 2\u001b[0;31m \u001b[0mdf_to_train\u001b[0m\u001b[0;34m[\u001b[0m\u001b[0;34m'date_of_death_day'\u001b[0m\u001b[0;34m]\u001b[0m \u001b[0;34m=\u001b[0m \u001b[0mdf_to_train\u001b[0m\u001b[0;34m[\u001b[0m\u001b[0;34m'date_of_death'\u001b[0m\u001b[0;34m]\u001b[0m\u001b[0;34m.\u001b[0m\u001b[0mdt\u001b[0m\u001b[0;34m.\u001b[0m\u001b[0mday\u001b[0m\u001b[0;34m\u001b[0m\u001b[0;34m\u001b[0m\u001b[0m\n\u001b[0m\u001b[1;32m      3\u001b[0m \u001b[0;31m# month\u001b[0m\u001b[0;34m\u001b[0m\u001b[0;34m\u001b[0m\u001b[0;34m\u001b[0m\u001b[0m\n\u001b[1;32m      4\u001b[0m \u001b[0mdf_to_train\u001b[0m\u001b[0;34m[\u001b[0m\u001b[0;34m'date_of_death_month'\u001b[0m\u001b[0;34m]\u001b[0m \u001b[0;34m=\u001b[0m \u001b[0mdf_to_train\u001b[0m\u001b[0;34m[\u001b[0m\u001b[0;34m'date_of_death'\u001b[0m\u001b[0;34m]\u001b[0m\u001b[0;34m.\u001b[0m\u001b[0mdt\u001b[0m\u001b[0;34m.\u001b[0m\u001b[0mmonth\u001b[0m\u001b[0;34m\u001b[0m\u001b[0;34m\u001b[0m\u001b[0m\n\u001b[1;32m      5\u001b[0m \u001b[0;31m# year\u001b[0m\u001b[0;34m\u001b[0m\u001b[0;34m\u001b[0m\u001b[0;34m\u001b[0m\u001b[0m\n",
            "\u001b[0;32m/usr/local/lib/python3.7/dist-packages/pandas/core/frame.py\u001b[0m in \u001b[0;36m__getitem__\u001b[0;34m(self, key)\u001b[0m\n\u001b[1;32m   2904\u001b[0m             \u001b[0;32mif\u001b[0m \u001b[0mself\u001b[0m\u001b[0;34m.\u001b[0m\u001b[0mcolumns\u001b[0m\u001b[0;34m.\u001b[0m\u001b[0mnlevels\u001b[0m \u001b[0;34m>\u001b[0m \u001b[0;36m1\u001b[0m\u001b[0;34m:\u001b[0m\u001b[0;34m\u001b[0m\u001b[0;34m\u001b[0m\u001b[0m\n\u001b[1;32m   2905\u001b[0m                 \u001b[0;32mreturn\u001b[0m \u001b[0mself\u001b[0m\u001b[0;34m.\u001b[0m\u001b[0m_getitem_multilevel\u001b[0m\u001b[0;34m(\u001b[0m\u001b[0mkey\u001b[0m\u001b[0;34m)\u001b[0m\u001b[0;34m\u001b[0m\u001b[0;34m\u001b[0m\u001b[0m\n\u001b[0;32m-> 2906\u001b[0;31m             \u001b[0mindexer\u001b[0m \u001b[0;34m=\u001b[0m \u001b[0mself\u001b[0m\u001b[0;34m.\u001b[0m\u001b[0mcolumns\u001b[0m\u001b[0;34m.\u001b[0m\u001b[0mget_loc\u001b[0m\u001b[0;34m(\u001b[0m\u001b[0mkey\u001b[0m\u001b[0;34m)\u001b[0m\u001b[0;34m\u001b[0m\u001b[0;34m\u001b[0m\u001b[0m\n\u001b[0m\u001b[1;32m   2907\u001b[0m             \u001b[0;32mif\u001b[0m \u001b[0mis_integer\u001b[0m\u001b[0;34m(\u001b[0m\u001b[0mindexer\u001b[0m\u001b[0;34m)\u001b[0m\u001b[0;34m:\u001b[0m\u001b[0;34m\u001b[0m\u001b[0;34m\u001b[0m\u001b[0m\n\u001b[1;32m   2908\u001b[0m                 \u001b[0mindexer\u001b[0m \u001b[0;34m=\u001b[0m \u001b[0;34m[\u001b[0m\u001b[0mindexer\u001b[0m\u001b[0;34m]\u001b[0m\u001b[0;34m\u001b[0m\u001b[0;34m\u001b[0m\u001b[0m\n",
            "\u001b[0;32m/usr/local/lib/python3.7/dist-packages/pandas/core/indexes/base.py\u001b[0m in \u001b[0;36mget_loc\u001b[0;34m(self, key, method, tolerance)\u001b[0m\n\u001b[1;32m   2898\u001b[0m                 \u001b[0;32mreturn\u001b[0m \u001b[0mself\u001b[0m\u001b[0;34m.\u001b[0m\u001b[0m_engine\u001b[0m\u001b[0;34m.\u001b[0m\u001b[0mget_loc\u001b[0m\u001b[0;34m(\u001b[0m\u001b[0mcasted_key\u001b[0m\u001b[0;34m)\u001b[0m\u001b[0;34m\u001b[0m\u001b[0;34m\u001b[0m\u001b[0m\n\u001b[1;32m   2899\u001b[0m             \u001b[0;32mexcept\u001b[0m \u001b[0mKeyError\u001b[0m \u001b[0;32mas\u001b[0m \u001b[0merr\u001b[0m\u001b[0;34m:\u001b[0m\u001b[0;34m\u001b[0m\u001b[0;34m\u001b[0m\u001b[0m\n\u001b[0;32m-> 2900\u001b[0;31m                 \u001b[0;32mraise\u001b[0m \u001b[0mKeyError\u001b[0m\u001b[0;34m(\u001b[0m\u001b[0mkey\u001b[0m\u001b[0;34m)\u001b[0m \u001b[0;32mfrom\u001b[0m \u001b[0merr\u001b[0m\u001b[0;34m\u001b[0m\u001b[0;34m\u001b[0m\u001b[0m\n\u001b[0m\u001b[1;32m   2901\u001b[0m \u001b[0;34m\u001b[0m\u001b[0m\n\u001b[1;32m   2902\u001b[0m         \u001b[0;32mif\u001b[0m \u001b[0mtolerance\u001b[0m \u001b[0;32mis\u001b[0m \u001b[0;32mnot\u001b[0m \u001b[0;32mNone\u001b[0m\u001b[0;34m:\u001b[0m\u001b[0;34m\u001b[0m\u001b[0;34m\u001b[0m\u001b[0m\n",
            "\u001b[0;31mKeyError\u001b[0m: 'date_of_death'"
          ]
        }
      ]
    },
    {
      "cell_type": "code",
      "metadata": {
        "id": "wAoHOAqKWsLW"
      },
      "source": [
        "#(df['state'].unique())\n",
        "state_categories = [ 0,'LEVE','MODERADO', 'GRAVE', 'FALLECIDO']\n",
        "print(state_categories)"
      ],
      "execution_count": null,
      "outputs": []
    },
    {
      "cell_type": "code",
      "metadata": {
        "id": "lGMuqMI7WTBG"
      },
      "source": [
        "oe = OrdinalEncoder(categories = [state_categories])\n",
        "ohe = OneHotEncoder(sparse = False)"
      ],
      "execution_count": null,
      "outputs": []
    },
    {
      "cell_type": "code",
      "metadata": {
        "id": "skOaph7mr-rN"
      },
      "source": [
        "numeric_features = ['age']\n",
        "categorical_features = ['sex','contagion_type','case_location','state','recuperated','recovery_type','ethnicity']"
      ],
      "execution_count": null,
      "outputs": []
    },
    {
      "cell_type": "markdown",
      "metadata": {
        "id": "NFICvz0W8zH4"
      },
      "source": [
        "##applying data preprocesing"
      ]
    },
    {
      "cell_type": "code",
      "metadata": {
        "id": "b70dO_2zSpYF"
      },
      "source": [
        "X = df_to_train.drop('recovery_type', axis = 1)\n",
        "y = df_to_train['recovery_type']"
      ],
      "execution_count": 38,
      "outputs": []
    },
    {
      "cell_type": "code",
      "metadata": {
        "id": "tUFhWU4RT4wa"
      },
      "source": [
        "column_transform = make_column_transformer(\n",
        "    (ohe, ['sex','contagion_type','case_location','recuperated']), \n",
        "    (oe, ['state'])\n",
        "    )\n",
        "\n",
        "#['sex','contagion_type','case_location','state','recuperated','recovery_type']"
      ],
      "execution_count": 100,
      "outputs": []
    },
    {
      "cell_type": "code",
      "metadata": {
        "id": "r9Ui0u7ghNJ0"
      },
      "source": [
        "column_transform.fit_transform(X)"
      ],
      "execution_count": null,
      "outputs": []
    },
    {
      "cell_type": "markdown",
      "metadata": {
        "id": "GD2DImAgBjx9"
      },
      "source": [
        "##Column Transformer with Mixed Types"
      ]
    },
    {
      "cell_type": "code",
      "metadata": {
        "colab": {
          "base_uri": "https://localhost:8080/",
          "height": 243
        },
        "id": "PHi0r-YABkxQ",
        "outputId": "61bc5d2b-fb25-4488-81d9-6887330738e2"
      },
      "source": [
        "numeric_features = ['age']\n",
        "categorical_features = ['sex','contagion_type','case_location','state','recovery_type','ethnicity']\n",
        "\n",
        "X = df_to_train.drop('recuperated', axis = 1)\n",
        "y = df_to_train['recuperated']\n",
        "\n",
        "numeric_transformer = Pipeline(steps=[\n",
        "    ('imputer', SimpleImputer(strategy='median')),\n",
        "    ('scaler', StandardScaler())])\n",
        "\n",
        "categorical_transformer = OneHotEncoder(handle_unknown='ignore')\n",
        "\n",
        "preprocessor = ColumnTransformer(\n",
        "    transformers=[\n",
        "        ('num', numeric_transformer, numeric_features),\n",
        "        ('cat', categorical_transformer, categorical_features)])\n",
        "\n",
        "# Append classifier to preprocessing pipeline.\n",
        "# Now we have a full prediction pipeline.\n",
        "clf = Pipeline(steps=[('preprocessor', preprocessor),\n",
        "                      ('classifier', LogisticRegression())])\n",
        "\n",
        "X_train, X_test, y_train, y_test = train_test_split(\n",
        "    X,\n",
        "    y,\n",
        "    test_size=0.2,\n",
        "    random_state=0)\n",
        "\n",
        "clf.fit(X_train, y_train)\n",
        "print(\"model score: %.3f\" % clf.score(X_test, y_test))"
      ],
      "execution_count": 40,
      "outputs": [
        {
          "output_type": "error",
          "ename": "NameError",
          "evalue": "ignored",
          "traceback": [
            "\u001b[0;31m---------------------------------------------------------------------------\u001b[0m",
            "\u001b[0;31mNameError\u001b[0m                                 Traceback (most recent call last)",
            "\u001b[0;32m<ipython-input-40-5fbf174ab296>\u001b[0m in \u001b[0;36m<module>\u001b[0;34m()\u001b[0m\n\u001b[1;32m     20\u001b[0m clf = Pipeline(steps=[('preprocessor', preprocessor),\n\u001b[1;32m     21\u001b[0m                       ('classifier', LogisticRegression())])\n\u001b[0;32m---> 22\u001b[0;31m \u001b[0mprint\u001b[0m\u001b[0;34m(\u001b[0m\u001b[0mx\u001b[0m\u001b[0;34m.\u001b[0m\u001b[0minfo\u001b[0m\u001b[0;34m)\u001b[0m\u001b[0;34m\u001b[0m\u001b[0;34m\u001b[0m\u001b[0m\n\u001b[0m\u001b[1;32m     23\u001b[0m X_train, X_test, y_train, y_test = train_test_split(\n\u001b[1;32m     24\u001b[0m     \u001b[0mX\u001b[0m\u001b[0;34m,\u001b[0m\u001b[0;34m\u001b[0m\u001b[0;34m\u001b[0m\u001b[0m\n",
            "\u001b[0;31mNameError\u001b[0m: name 'x' is not defined"
          ]
        }
      ]
    },
    {
      "cell_type": "code",
      "metadata": {
        "colab": {
          "base_uri": "https://localhost:8080/",
          "height": 424
        },
        "id": "9aDa9pLUuNkS",
        "outputId": "6842b58a-9fe3-49dd-a4f1-c5881a005611"
      },
      "source": [
        "X\n"
      ],
      "execution_count": 47,
      "outputs": [
        {
          "output_type": "execute_result",
          "data": {
            "text/html": [
              "<div>\n",
              "<style scoped>\n",
              "    .dataframe tbody tr th:only-of-type {\n",
              "        vertical-align: middle;\n",
              "    }\n",
              "\n",
              "    .dataframe tbody tr th {\n",
              "        vertical-align: top;\n",
              "    }\n",
              "\n",
              "    .dataframe thead th {\n",
              "        text-align: right;\n",
              "    }\n",
              "</style>\n",
              "<table border=\"1\" class=\"dataframe\">\n",
              "  <thead>\n",
              "    <tr style=\"text-align: right;\">\n",
              "      <th></th>\n",
              "      <th>age</th>\n",
              "      <th>sex</th>\n",
              "      <th>contagion_type</th>\n",
              "      <th>case_location</th>\n",
              "      <th>state</th>\n",
              "      <th>iso_country_code</th>\n",
              "      <th>recovery_type</th>\n",
              "      <th>ethnicity</th>\n",
              "    </tr>\n",
              "  </thead>\n",
              "  <tbody>\n",
              "    <tr>\n",
              "      <th>0</th>\n",
              "      <td>19</td>\n",
              "      <td>F</td>\n",
              "      <td>IMPORTADO</td>\n",
              "      <td>CASA</td>\n",
              "      <td>LEVE</td>\n",
              "      <td>380.0</td>\n",
              "      <td>PCR</td>\n",
              "      <td>6.0</td>\n",
              "    </tr>\n",
              "    <tr>\n",
              "      <th>1</th>\n",
              "      <td>34</td>\n",
              "      <td>M</td>\n",
              "      <td>IMPORTADO</td>\n",
              "      <td>CASA</td>\n",
              "      <td>LEVE</td>\n",
              "      <td>724.0</td>\n",
              "      <td>PCR</td>\n",
              "      <td>5.0</td>\n",
              "    </tr>\n",
              "    <tr>\n",
              "      <th>2</th>\n",
              "      <td>50</td>\n",
              "      <td>F</td>\n",
              "      <td>IMPORTADO</td>\n",
              "      <td>CASA</td>\n",
              "      <td>LEVE</td>\n",
              "      <td>724.0</td>\n",
              "      <td>PCR</td>\n",
              "      <td>6.0</td>\n",
              "    </tr>\n",
              "    <tr>\n",
              "      <th>3</th>\n",
              "      <td>55</td>\n",
              "      <td>M</td>\n",
              "      <td>RELACIONADO</td>\n",
              "      <td>CASA</td>\n",
              "      <td>LEVE</td>\n",
              "      <td>0.0</td>\n",
              "      <td>PCR</td>\n",
              "      <td>6.0</td>\n",
              "    </tr>\n",
              "    <tr>\n",
              "      <th>4</th>\n",
              "      <td>25</td>\n",
              "      <td>M</td>\n",
              "      <td>RELACIONADO</td>\n",
              "      <td>CASA</td>\n",
              "      <td>LEVE</td>\n",
              "      <td>0.0</td>\n",
              "      <td>PCR</td>\n",
              "      <td>6.0</td>\n",
              "    </tr>\n",
              "    <tr>\n",
              "      <th>...</th>\n",
              "      <td>...</td>\n",
              "      <td>...</td>\n",
              "      <td>...</td>\n",
              "      <td>...</td>\n",
              "      <td>...</td>\n",
              "      <td>...</td>\n",
              "      <td>...</td>\n",
              "      <td>...</td>\n",
              "    </tr>\n",
              "    <tr>\n",
              "      <th>4530605</th>\n",
              "      <td>46</td>\n",
              "      <td>M</td>\n",
              "      <td>EN ESTUDIO</td>\n",
              "      <td>CASA</td>\n",
              "      <td>LEVE</td>\n",
              "      <td>0.0</td>\n",
              "      <td>0</td>\n",
              "      <td>0.0</td>\n",
              "    </tr>\n",
              "    <tr>\n",
              "      <th>4530606</th>\n",
              "      <td>30</td>\n",
              "      <td>M</td>\n",
              "      <td>EN ESTUDIO</td>\n",
              "      <td>CASA</td>\n",
              "      <td>LEVE</td>\n",
              "      <td>0.0</td>\n",
              "      <td>0</td>\n",
              "      <td>0.0</td>\n",
              "    </tr>\n",
              "    <tr>\n",
              "      <th>4530607</th>\n",
              "      <td>11</td>\n",
              "      <td>M</td>\n",
              "      <td>EN ESTUDIO</td>\n",
              "      <td>CASA</td>\n",
              "      <td>LEVE</td>\n",
              "      <td>0.0</td>\n",
              "      <td>0</td>\n",
              "      <td>0.0</td>\n",
              "    </tr>\n",
              "    <tr>\n",
              "      <th>4530608</th>\n",
              "      <td>29</td>\n",
              "      <td>M</td>\n",
              "      <td>EN ESTUDIO</td>\n",
              "      <td>CASA</td>\n",
              "      <td>LEVE</td>\n",
              "      <td>0.0</td>\n",
              "      <td>0</td>\n",
              "      <td>0.0</td>\n",
              "    </tr>\n",
              "    <tr>\n",
              "      <th>4530609</th>\n",
              "      <td>76</td>\n",
              "      <td>F</td>\n",
              "      <td>EN ESTUDIO</td>\n",
              "      <td>CASA</td>\n",
              "      <td>LEVE</td>\n",
              "      <td>0.0</td>\n",
              "      <td>0</td>\n",
              "      <td>0.0</td>\n",
              "    </tr>\n",
              "  </tbody>\n",
              "</table>\n",
              "<p>4530610 rows × 8 columns</p>\n",
              "</div>"
            ],
            "text/plain": [
              "         age sex contagion_type  ... iso_country_code recovery_type  ethnicity\n",
              "0         19   F      IMPORTADO  ...            380.0           PCR        6.0\n",
              "1         34   M      IMPORTADO  ...            724.0           PCR        5.0\n",
              "2         50   F      IMPORTADO  ...            724.0           PCR        6.0\n",
              "3         55   M    RELACIONADO  ...              0.0           PCR        6.0\n",
              "4         25   M    RELACIONADO  ...              0.0           PCR        6.0\n",
              "...      ...  ..            ...  ...              ...           ...        ...\n",
              "4530605   46   M     EN ESTUDIO  ...              0.0             0        0.0\n",
              "4530606   30   M     EN ESTUDIO  ...              0.0             0        0.0\n",
              "4530607   11   M     EN ESTUDIO  ...              0.0             0        0.0\n",
              "4530608   29   M     EN ESTUDIO  ...              0.0             0        0.0\n",
              "4530609   76   F     EN ESTUDIO  ...              0.0             0        0.0\n",
              "\n",
              "[4530610 rows x 8 columns]"
            ]
          },
          "metadata": {
            "tags": []
          },
          "execution_count": 47
        }
      ]
    },
    {
      "cell_type": "markdown",
      "metadata": {
        "id": "gGH_tJxP1auA"
      },
      "source": [
        "##Machine Learning Process"
      ]
    },
    {
      "cell_type": "code",
      "metadata": {
        "id": "SLbtX0TAuOzB"
      },
      "source": [
        "df_to_train\n",
        "merge_data = df_to_train.append(df_to_test)\n",
        "test_count = len(df_to_test)\n",
        "count = len(merge_data)-test_count\n",
        "X_cat = merge_data.copy()\n",
        "X_cat = merge_data.select_dtypes(include=['object'])\n",
        "X_enc = X_cat.copy()"
      ],
      "execution_count": null,
      "outputs": []
    },
    {
      "cell_type": "code",
      "metadata": {
        "id": "4RfxzZl8rV0j"
      },
      "source": [
        "X_cat = df_to_train.select_dtypes(include=['object'])\n",
        "X_enc = X_cat.copy()"
      ],
      "execution_count": null,
      "outputs": []
    },
    {
      "cell_type": "code",
      "metadata": {
        "id": "p06AJZhrry_T"
      },
      "source": [
        "#ONEHOT ENCODING BLOCK\n",
        "X_enc = pd.get_dummies(X_enc, columns=columns_to_hot_encoding)\n",
        "df_to_train = df_to_train.drop(columns_to_hot_encoding,axis=1)"
      ],
      "execution_count": null,
      "outputs": []
    },
    {
      "cell_type": "code",
      "metadata": {
        "colab": {
          "base_uri": "https://localhost:8080/",
          "height": 461
        },
        "id": "zGEwlKU123a9",
        "outputId": "82403d67-f8f5-4951-9a45-8badc9735937"
      },
      "source": [
        "X_enc"
      ],
      "execution_count": null,
      "outputs": [
        {
          "output_type": "execute_result",
          "data": {
            "text/html": [
              "<div>\n",
              "<style scoped>\n",
              "    .dataframe tbody tr th:only-of-type {\n",
              "        vertical-align: middle;\n",
              "    }\n",
              "\n",
              "    .dataframe tbody tr th {\n",
              "        vertical-align: top;\n",
              "    }\n",
              "\n",
              "    .dataframe thead th {\n",
              "        text-align: right;\n",
              "    }\n",
              "</style>\n",
              "<table border=\"1\" class=\"dataframe\">\n",
              "  <thead>\n",
              "    <tr style=\"text-align: right;\">\n",
              "      <th></th>\n",
              "      <th>state</th>\n",
              "      <th>beginning_symptoms_date</th>\n",
              "      <th>date_of_death</th>\n",
              "      <th>date_of_diagnosis</th>\n",
              "      <th>sex_F</th>\n",
              "      <th>sex_M</th>\n",
              "      <th>contagion_type_COMUNITARIA</th>\n",
              "      <th>contagion_type_EN ESTUDIO</th>\n",
              "      <th>contagion_type_IMPORTADO</th>\n",
              "      <th>contagion_type_RELACIONADO</th>\n",
              "      <th>case_location_CASA</th>\n",
              "      <th>case_location_FALLECIDO</th>\n",
              "      <th>case_location_HOSPITAL</th>\n",
              "      <th>case_location_HOSPITAL UCI</th>\n",
              "      <th>recuperated_ACTIVO</th>\n",
              "      <th>recuperated_FALLECIDO</th>\n",
              "      <th>recuperated_RECUPERADO</th>\n",
              "      <th>recovery_type_PCR</th>\n",
              "      <th>recovery_type_TIEMPO</th>\n",
              "    </tr>\n",
              "  </thead>\n",
              "  <tbody>\n",
              "    <tr>\n",
              "      <th>0</th>\n",
              "      <td>LEVE</td>\n",
              "      <td>2020-02-27 00:00:00</td>\n",
              "      <td>NaT</td>\n",
              "      <td>2020-03-06 00:00:00</td>\n",
              "      <td>1</td>\n",
              "      <td>0</td>\n",
              "      <td>0</td>\n",
              "      <td>0</td>\n",
              "      <td>1</td>\n",
              "      <td>0</td>\n",
              "      <td>1</td>\n",
              "      <td>0</td>\n",
              "      <td>0</td>\n",
              "      <td>0</td>\n",
              "      <td>0</td>\n",
              "      <td>0</td>\n",
              "      <td>1</td>\n",
              "      <td>1</td>\n",
              "      <td>0</td>\n",
              "    </tr>\n",
              "    <tr>\n",
              "      <th>1</th>\n",
              "      <td>LEVE</td>\n",
              "      <td>2020-03-04 00:00:00</td>\n",
              "      <td>NaT</td>\n",
              "      <td>2020-03-09 00:00:00</td>\n",
              "      <td>0</td>\n",
              "      <td>1</td>\n",
              "      <td>0</td>\n",
              "      <td>0</td>\n",
              "      <td>1</td>\n",
              "      <td>0</td>\n",
              "      <td>1</td>\n",
              "      <td>0</td>\n",
              "      <td>0</td>\n",
              "      <td>0</td>\n",
              "      <td>0</td>\n",
              "      <td>0</td>\n",
              "      <td>1</td>\n",
              "      <td>1</td>\n",
              "      <td>0</td>\n",
              "    </tr>\n",
              "    <tr>\n",
              "      <th>2</th>\n",
              "      <td>LEVE</td>\n",
              "      <td>2020-02-29 00:00:00</td>\n",
              "      <td>NaT</td>\n",
              "      <td>2020-03-09 00:00:00</td>\n",
              "      <td>1</td>\n",
              "      <td>0</td>\n",
              "      <td>0</td>\n",
              "      <td>0</td>\n",
              "      <td>1</td>\n",
              "      <td>0</td>\n",
              "      <td>1</td>\n",
              "      <td>0</td>\n",
              "      <td>0</td>\n",
              "      <td>0</td>\n",
              "      <td>0</td>\n",
              "      <td>0</td>\n",
              "      <td>1</td>\n",
              "      <td>1</td>\n",
              "      <td>0</td>\n",
              "    </tr>\n",
              "    <tr>\n",
              "      <th>3</th>\n",
              "      <td>LEVE</td>\n",
              "      <td>2020-03-06 00:00:00</td>\n",
              "      <td>NaT</td>\n",
              "      <td>2020-03-11 00:00:00</td>\n",
              "      <td>0</td>\n",
              "      <td>1</td>\n",
              "      <td>0</td>\n",
              "      <td>0</td>\n",
              "      <td>0</td>\n",
              "      <td>1</td>\n",
              "      <td>1</td>\n",
              "      <td>0</td>\n",
              "      <td>0</td>\n",
              "      <td>0</td>\n",
              "      <td>0</td>\n",
              "      <td>0</td>\n",
              "      <td>1</td>\n",
              "      <td>1</td>\n",
              "      <td>0</td>\n",
              "    </tr>\n",
              "    <tr>\n",
              "      <th>4</th>\n",
              "      <td>LEVE</td>\n",
              "      <td>2020-03-08 00:00:00</td>\n",
              "      <td>NaT</td>\n",
              "      <td>2020-03-11 00:00:00</td>\n",
              "      <td>0</td>\n",
              "      <td>1</td>\n",
              "      <td>0</td>\n",
              "      <td>0</td>\n",
              "      <td>0</td>\n",
              "      <td>1</td>\n",
              "      <td>1</td>\n",
              "      <td>0</td>\n",
              "      <td>0</td>\n",
              "      <td>0</td>\n",
              "      <td>0</td>\n",
              "      <td>0</td>\n",
              "      <td>1</td>\n",
              "      <td>1</td>\n",
              "      <td>0</td>\n",
              "    </tr>\n",
              "    <tr>\n",
              "      <th>...</th>\n",
              "      <td>...</td>\n",
              "      <td>...</td>\n",
              "      <td>...</td>\n",
              "      <td>...</td>\n",
              "      <td>...</td>\n",
              "      <td>...</td>\n",
              "      <td>...</td>\n",
              "      <td>...</td>\n",
              "      <td>...</td>\n",
              "      <td>...</td>\n",
              "      <td>...</td>\n",
              "      <td>...</td>\n",
              "      <td>...</td>\n",
              "      <td>...</td>\n",
              "      <td>...</td>\n",
              "      <td>...</td>\n",
              "      <td>...</td>\n",
              "      <td>...</td>\n",
              "      <td>...</td>\n",
              "    </tr>\n",
              "    <tr>\n",
              "      <th>995</th>\n",
              "      <td>LEVE</td>\n",
              "      <td>19/3/2020 0:00:00</td>\n",
              "      <td>NaN</td>\n",
              "      <td>1/4/2020 0:00:00</td>\n",
              "      <td>1</td>\n",
              "      <td>0</td>\n",
              "      <td>1</td>\n",
              "      <td>0</td>\n",
              "      <td>0</td>\n",
              "      <td>0</td>\n",
              "      <td>1</td>\n",
              "      <td>0</td>\n",
              "      <td>0</td>\n",
              "      <td>0</td>\n",
              "      <td>0</td>\n",
              "      <td>0</td>\n",
              "      <td>1</td>\n",
              "      <td>1</td>\n",
              "      <td>0</td>\n",
              "    </tr>\n",
              "    <tr>\n",
              "      <th>996</th>\n",
              "      <td>LEVE</td>\n",
              "      <td>21/3/2020 0:00:00</td>\n",
              "      <td>NaN</td>\n",
              "      <td>1/4/2020 0:00:00</td>\n",
              "      <td>1</td>\n",
              "      <td>0</td>\n",
              "      <td>1</td>\n",
              "      <td>0</td>\n",
              "      <td>0</td>\n",
              "      <td>0</td>\n",
              "      <td>1</td>\n",
              "      <td>0</td>\n",
              "      <td>0</td>\n",
              "      <td>0</td>\n",
              "      <td>0</td>\n",
              "      <td>0</td>\n",
              "      <td>1</td>\n",
              "      <td>1</td>\n",
              "      <td>0</td>\n",
              "    </tr>\n",
              "    <tr>\n",
              "      <th>997</th>\n",
              "      <td>LEVE</td>\n",
              "      <td>17/3/2020 0:00:00</td>\n",
              "      <td>NaN</td>\n",
              "      <td>1/4/2020 0:00:00</td>\n",
              "      <td>1</td>\n",
              "      <td>0</td>\n",
              "      <td>1</td>\n",
              "      <td>0</td>\n",
              "      <td>0</td>\n",
              "      <td>0</td>\n",
              "      <td>1</td>\n",
              "      <td>0</td>\n",
              "      <td>0</td>\n",
              "      <td>0</td>\n",
              "      <td>0</td>\n",
              "      <td>0</td>\n",
              "      <td>1</td>\n",
              "      <td>1</td>\n",
              "      <td>0</td>\n",
              "    </tr>\n",
              "    <tr>\n",
              "      <th>998</th>\n",
              "      <td>LEVE</td>\n",
              "      <td>18/3/2020 0:00:00</td>\n",
              "      <td>NaN</td>\n",
              "      <td>1/4/2020 0:00:00</td>\n",
              "      <td>1</td>\n",
              "      <td>0</td>\n",
              "      <td>1</td>\n",
              "      <td>0</td>\n",
              "      <td>0</td>\n",
              "      <td>0</td>\n",
              "      <td>1</td>\n",
              "      <td>0</td>\n",
              "      <td>0</td>\n",
              "      <td>0</td>\n",
              "      <td>0</td>\n",
              "      <td>0</td>\n",
              "      <td>1</td>\n",
              "      <td>1</td>\n",
              "      <td>0</td>\n",
              "    </tr>\n",
              "    <tr>\n",
              "      <th>999</th>\n",
              "      <td>LEVE</td>\n",
              "      <td>18/3/2020 0:00:00</td>\n",
              "      <td>NaN</td>\n",
              "      <td>1/4/2020 0:00:00</td>\n",
              "      <td>1</td>\n",
              "      <td>0</td>\n",
              "      <td>1</td>\n",
              "      <td>0</td>\n",
              "      <td>0</td>\n",
              "      <td>0</td>\n",
              "      <td>1</td>\n",
              "      <td>0</td>\n",
              "      <td>0</td>\n",
              "      <td>0</td>\n",
              "      <td>0</td>\n",
              "      <td>0</td>\n",
              "      <td>1</td>\n",
              "      <td>1</td>\n",
              "      <td>0</td>\n",
              "    </tr>\n",
              "  </tbody>\n",
              "</table>\n",
              "<p>4531610 rows × 19 columns</p>\n",
              "</div>"
            ],
            "text/plain": [
              "    state beginning_symptoms_date  ... recovery_type_PCR recovery_type_TIEMPO\n",
              "0    LEVE     2020-02-27 00:00:00  ...                 1                    0\n",
              "1    LEVE     2020-03-04 00:00:00  ...                 1                    0\n",
              "2    LEVE     2020-02-29 00:00:00  ...                 1                    0\n",
              "3    LEVE     2020-03-06 00:00:00  ...                 1                    0\n",
              "4    LEVE     2020-03-08 00:00:00  ...                 1                    0\n",
              "..    ...                     ...  ...               ...                  ...\n",
              "995  LEVE       19/3/2020 0:00:00  ...                 1                    0\n",
              "996  LEVE       21/3/2020 0:00:00  ...                 1                    0\n",
              "997  LEVE       17/3/2020 0:00:00  ...                 1                    0\n",
              "998  LEVE       18/3/2020 0:00:00  ...                 1                    0\n",
              "999  LEVE       18/3/2020 0:00:00  ...                 1                    0\n",
              "\n",
              "[4531610 rows x 19 columns]"
            ]
          },
          "metadata": {
            "tags": []
          },
          "execution_count": 68
        }
      ]
    },
    {
      "cell_type": "code",
      "metadata": {
        "id": "wlO3CkeHnvOw"
      },
      "source": [
        "#ONEHOT ENCODING BLOCK#X_enc = pd.get_dummies(X_enc, columns=['sex','region','smoker'])\n",
        "\n",
        "#mergedata = mergedata.drop(['sex','region','smoker'],axis=1)"
      ],
      "execution_count": null,
      "outputs": []
    },
    {
      "cell_type": "markdown",
      "metadata": {
        "id": "7Lv4LlE01sEF"
      },
      "source": [
        "##Pipeline\n",
        "[Using scikit-learn](https://scikit-learn.org/stable/auto_examples/compose/plot_column_transformer_mixed_types.html)"
      ]
    },
    {
      "cell_type": "markdown",
      "metadata": {
        "id": "ETrp2DtRZka3"
      },
      "source": [
        "#API"
      ]
    },
    {
      "cell_type": "markdown",
      "metadata": {
        "id": "2ezeh3drdQ6y"
      },
      "source": [
        "##Compromiso\n",
        "\n",
        "1. Servicio que colecta la data por departamento y la guarda en la base de datos\n",
        "    * Eliminar registros por departamento y volver a consultarlos y almacenarlos\n",
        "2. Servicio que recibe por parametro el id del departamento \n",
        "3. Servicio que recupera la info por municipio.\n"
      ]
    },
    {
      "cell_type": "markdown",
      "metadata": {
        "id": "HJg4HPW9Qa6j"
      },
      "source": [
        "##Commitment\n",
        "\n",
        "1. Service which collect the data from Colombia according to each departament (state)\n",
        "    * Delete records per departament and request it again\n",
        "2. Service which get by parameter the departament_id and return the information\n",
        "3. Service get municipality info\n"
      ]
    },
    {
      "cell_type": "markdown",
      "metadata": {
        "id": "oWy7AsVgd7i6"
      },
      "source": [
        "#Documentation\n"
      ]
    },
    {
      "cell_type": "markdown",
      "metadata": {
        "id": "BO2F88Rnch8C"
      },
      "source": [
        "request\n",
        "[location and count](https://datos.gov.co/resource/gt2j-8ykr.json?$select=%20count(id_de_caso),ubicacion&$group=ubicacion)\n",
        "\n",
        "Json\n",
        ">```\n",
        "count_id_de_caso\t\"11015\"\n",
        "ubicacion\t\"casa\"\n",
        "count_id_de_caso\t\"4028443\"\n",
        "ubicacion\t\"Casa\"\n",
        "count_id_de_caso\t\"7\"\n",
        "ubicacion\t\"CASA\"\n",
        "count_id_de_caso\t\"105326\"\n",
        "ubicacion\t\"Fallecido\"\n",
        "count_id_de_caso\t\"22865\"\n",
        "ubicacion\t\"Hospital\"\n",
        "count_id_de_caso\t\"4963\"\n",
        "ubicacion\t\"Hospital UCI\"\n",
        "count_id_de_caso\t\"14575\"\n",
        "ubicacion\t\"N/A\"\n",
        "```\n",
        "\n"
      ]
    },
    {
      "cell_type": "markdown",
      "metadata": {
        "id": "F069Cqmqv-TC"
      },
      "source": [
        "Patient State [request](https://datos.gov.co/resource/gt2j-8ykr.json?$select=%20estado&$group=estado)\n",
        "\n",
        "\n",
        "***Patient state *** \n",
        "\n",
        ">```\n",
        "[{\"estado\":\"Fallecido\"}\n",
        ",{\"estado\":\"Grave\"}\n",
        ",{\"estado\":\"leve\"}\n",
        ",{\"estado\":\"Leve\"}\n",
        ",{\"estado\":\"LEVE\"}\n",
        ",{\"estado\":\"Moderado\"}\n",
        ",{\"estado\":\"N/A\"}]\n",
        "```\n",
        "\n"
      ]
    },
    {
      "cell_type": "markdown",
      "metadata": {
        "id": "p8Wch07qpLlb"
      },
      "source": [
        "Contagion types\n",
        "\n",
        "\n",
        "**source contagion type**\n",
        "[request](https://datos.gov.co/resource/gt2j-8ykr.json?$select=%20fuente_tipo_contagio&$group=fuente_tipo_contagio)\n",
        "\n",
        "Json\n",
        ">```\n",
        "[\n",
        "{\"fuente_tipo_contagio\":\"Comunitaria\"}\n",
        ",{\"fuente_tipo_contagio\":\"En estudio\"}\n",
        ",{\"fuente_tipo_contagio\":\"Importado\"}\n",
        ",{\"fuente_tipo_contagio\":\"Relacionado\"}\n",
        "]\n",
        "```\n"
      ]
    },
    {
      "cell_type": "markdown",
      "metadata": {
        "id": "-U8KQcFTI7rk"
      },
      "source": [
        "#Bayesian Algoritm"
      ]
    },
    {
      "cell_type": "code",
      "metadata": {
        "id": "puqAa15EJN2y"
      },
      "source": [
        "#Clustering\n"
      ],
      "execution_count": null,
      "outputs": []
    },
    {
      "cell_type": "markdown",
      "metadata": {
        "id": "CZ0j3tLWJho9"
      },
      "source": [
        "Advising by Ian Tomas, after meeting with Michael M. and Sebastian Romero L.\n",
        "\n",
        ">A good place to start would be a similarity measure in your data, which you can implement with a radial basis function. This function inputs two records from your data set and outputs a single number between 0 and 1 which represents how similar the two records are, where a value closer to 1 means they are more similar, closer to 0 means they are different. This is a good idea to use if you want to represent your data as a graph as typically the similarity measure can work as an edge weight in a graph.\n",
        "\n",
        "```\n",
        " void vectorsubtraction(vector<float> v1, vector<float> v2, vector<float> &v3){\n",
        "\n",
        "    int i;\n",
        "    //vectors must be same size\n",
        "    if(v1.size() != v2.size()) return;\n",
        "    for(i = 0; i < v1.size(); i++){\n",
        "        //if symbolic attribute, push 1 to represent not equal, 0 to represent equal\n",
        "        if(symbolic(i)){\n",
        "          v3.push_back(v1[i] != v2[i]);\n",
        "          //if continous, subtract values\n",
        "        } else {\n",
        "          v3.push_back((v1[i] - v2[i]));\n",
        "        }\n",
        "    }\n",
        "}\n",
        "\n",
        "float normalizevector(vector<float> v){\n",
        "\n",
        "    int i;\n",
        "    float total = 0.0;\n",
        "    for(i = 0; i < v.size(); i++){\n",
        "        total += (v[i] * v[i]);\n",
        "    }\n",
        "\n",
        "    return sqrt(total);\n",
        "}\n",
        "\n",
        "double edgeweight(vector<float> v1, vector<float> v2){\n",
        "\n",
        "    vector<float> v3;\n",
        "    vectorsubtraction(v1, v2, v3);\n",
        "\n",
        "    float normalized = normalizevector(v3);\n",
        "    double base = exp(normalized);\n",
        "    return (1 / base);\n",
        "}\n",
        "```\n",
        "\n"
      ]
    },
    {
      "cell_type": "code",
      "metadata": {
        "id": "Y9-pXfRlJrCN"
      },
      "source": [
        "#Python code of barycentric clustering\n"
      ],
      "execution_count": null,
      "outputs": []
    },
    {
      "cell_type": "code",
      "metadata": {
        "id": "FGKUs1tFJ49t"
      },
      "source": [
        "#from sklearn.preprocessing import OneHotEncoder"
      ],
      "execution_count": null,
      "outputs": []
    },
    {
      "cell_type": "code",
      "metadata": {
        "id": "-TTNEw8sRGuy"
      },
      "source": [
        "#df_to_use_in_pca = df_to_use_in_pca.apply(pd.to_numeric)"
      ],
      "execution_count": null,
      "outputs": []
    },
    {
      "cell_type": "markdown",
      "metadata": {
        "id": "fj7KRFRUX_Iq"
      },
      "source": [
        "#knn"
      ]
    },
    {
      "cell_type": "markdown",
      "metadata": {
        "id": "wu1PVXW_YCRA"
      },
      "source": [
        "> Step 1: Determine the value for K\n",
        "\n",
        "> Step 2: Calculate the distances between the new input (test data) and all the training data. The most commonly used metrics for calculating distance are Euclidean, Manhattan and Minkowski\n",
        "\n",
        "> Step 3: Sort the distance and determine k nearest neighbors based on minimum distance values\n",
        "\n",
        "> Step 4: Analyze the category of those neighbors and assign the category for the test data based on majority vote\n",
        "\n",
        "> Step 5: Return the predicted class"
      ]
    },
    {
      "cell_type": "markdown",
      "metadata": {
        "id": "w_h2Wa42Na26"
      },
      "source": [
        "#Clustering"
      ]
    },
    {
      "cell_type": "code",
      "metadata": {
        "colab": {
          "base_uri": "https://localhost:8080/"
        },
        "id": "k4Tc_CwuN_En",
        "outputId": "1022fd60-e3f4-498a-8450-869916cfff73"
      },
      "source": [
        "dfn['recuperated']"
      ],
      "execution_count": null,
      "outputs": [
        {
          "output_type": "execute_result",
          "data": {
            "text/plain": [
              "0          RECUPERADO\n",
              "1          RECUPERADO\n",
              "2          RECUPERADO\n",
              "3          RECUPERADO\n",
              "4          RECUPERADO\n",
              "              ...    \n",
              "4530605        ACTIVO\n",
              "4530606        ACTIVO\n",
              "4530607        ACTIVO\n",
              "4530608        ACTIVO\n",
              "4530609        ACTIVO\n",
              "Name: recuperated, Length: 4530610, dtype: string"
            ]
          },
          "metadata": {
            "tags": []
          },
          "execution_count": 53
        }
      ]
    },
    {
      "cell_type": "code",
      "metadata": {
        "id": "EuiFP6oAJ7wP",
        "colab": {
          "base_uri": "https://localhost:8080/",
          "height": 467
        },
        "outputId": "b50e2a3c-6d56-4f4b-91f0-af862ec5dad4"
      },
      "source": [
        "#for i in df_to_use_in_pca:\n",
        "#  df_to_use_in_pca[i].astype(int)\n",
        "\n",
        "enc = OneHotEncoder(handle_unknown='ignore')\n",
        "\n",
        "enc_df = pd.DataFrame(\n",
        "    enc.fit_transform(\n",
        "        dfn['recuperated']).toarray())\n",
        "\n",
        "# converted = df_to_use_in_pca.to_numpy()\n",
        "# print(converted)\n",
        "# enc.fit(converted)"
      ],
      "execution_count": null,
      "outputs": [
        {
          "output_type": "error",
          "ename": "ValueError",
          "evalue": "ignored",
          "traceback": [
            "\u001b[0;31m---------------------------------------------------------------------------\u001b[0m",
            "\u001b[0;31mValueError\u001b[0m                                Traceback (most recent call last)",
            "\u001b[0;32m<ipython-input-54-369cc9875d9f>\u001b[0m in \u001b[0;36m<module>\u001b[0;34m()\u001b[0m\n\u001b[1;32m      6\u001b[0m enc_df = pd.DataFrame(\n\u001b[1;32m      7\u001b[0m     enc.fit_transform(\n\u001b[0;32m----> 8\u001b[0;31m         dfn['recuperated']).toarray())\n\u001b[0m\u001b[1;32m      9\u001b[0m \u001b[0;34m\u001b[0m\u001b[0m\n\u001b[1;32m     10\u001b[0m \u001b[0;31m# converted = df_to_use_in_pca.to_numpy()\u001b[0m\u001b[0;34m\u001b[0m\u001b[0;34m\u001b[0m\u001b[0;34m\u001b[0m\u001b[0m\n",
            "\u001b[0;32m/usr/local/lib/python3.7/dist-packages/sklearn/preprocessing/_encoders.py\u001b[0m in \u001b[0;36mfit_transform\u001b[0;34m(self, X, y)\u001b[0m\n\u001b[1;32m    370\u001b[0m         \"\"\"\n\u001b[1;32m    371\u001b[0m         \u001b[0mself\u001b[0m\u001b[0;34m.\u001b[0m\u001b[0m_validate_keywords\u001b[0m\u001b[0;34m(\u001b[0m\u001b[0;34m)\u001b[0m\u001b[0;34m\u001b[0m\u001b[0;34m\u001b[0m\u001b[0m\n\u001b[0;32m--> 372\u001b[0;31m         \u001b[0;32mreturn\u001b[0m \u001b[0msuper\u001b[0m\u001b[0;34m(\u001b[0m\u001b[0;34m)\u001b[0m\u001b[0;34m.\u001b[0m\u001b[0mfit_transform\u001b[0m\u001b[0;34m(\u001b[0m\u001b[0mX\u001b[0m\u001b[0;34m,\u001b[0m \u001b[0my\u001b[0m\u001b[0;34m)\u001b[0m\u001b[0;34m\u001b[0m\u001b[0;34m\u001b[0m\u001b[0m\n\u001b[0m\u001b[1;32m    373\u001b[0m \u001b[0;34m\u001b[0m\u001b[0m\n\u001b[1;32m    374\u001b[0m     \u001b[0;32mdef\u001b[0m \u001b[0mtransform\u001b[0m\u001b[0;34m(\u001b[0m\u001b[0mself\u001b[0m\u001b[0;34m,\u001b[0m \u001b[0mX\u001b[0m\u001b[0;34m)\u001b[0m\u001b[0;34m:\u001b[0m\u001b[0;34m\u001b[0m\u001b[0;34m\u001b[0m\u001b[0m\n",
            "\u001b[0;32m/usr/local/lib/python3.7/dist-packages/sklearn/base.py\u001b[0m in \u001b[0;36mfit_transform\u001b[0;34m(self, X, y, **fit_params)\u001b[0m\n\u001b[1;32m    569\u001b[0m         \u001b[0;32mif\u001b[0m \u001b[0my\u001b[0m \u001b[0;32mis\u001b[0m \u001b[0;32mNone\u001b[0m\u001b[0;34m:\u001b[0m\u001b[0;34m\u001b[0m\u001b[0;34m\u001b[0m\u001b[0m\n\u001b[1;32m    570\u001b[0m             \u001b[0;31m# fit method of arity 1 (unsupervised transformation)\u001b[0m\u001b[0;34m\u001b[0m\u001b[0;34m\u001b[0m\u001b[0;34m\u001b[0m\u001b[0m\n\u001b[0;32m--> 571\u001b[0;31m             \u001b[0;32mreturn\u001b[0m \u001b[0mself\u001b[0m\u001b[0;34m.\u001b[0m\u001b[0mfit\u001b[0m\u001b[0;34m(\u001b[0m\u001b[0mX\u001b[0m\u001b[0;34m,\u001b[0m \u001b[0;34m**\u001b[0m\u001b[0mfit_params\u001b[0m\u001b[0;34m)\u001b[0m\u001b[0;34m.\u001b[0m\u001b[0mtransform\u001b[0m\u001b[0;34m(\u001b[0m\u001b[0mX\u001b[0m\u001b[0;34m)\u001b[0m\u001b[0;34m\u001b[0m\u001b[0;34m\u001b[0m\u001b[0m\n\u001b[0m\u001b[1;32m    572\u001b[0m         \u001b[0;32melse\u001b[0m\u001b[0;34m:\u001b[0m\u001b[0;34m\u001b[0m\u001b[0;34m\u001b[0m\u001b[0m\n\u001b[1;32m    573\u001b[0m             \u001b[0;31m# fit method of arity 2 (supervised transformation)\u001b[0m\u001b[0;34m\u001b[0m\u001b[0;34m\u001b[0m\u001b[0;34m\u001b[0m\u001b[0m\n",
            "\u001b[0;32m/usr/local/lib/python3.7/dist-packages/sklearn/preprocessing/_encoders.py\u001b[0m in \u001b[0;36mfit\u001b[0;34m(self, X, y)\u001b[0m\n\u001b[1;32m    345\u001b[0m         \"\"\"\n\u001b[1;32m    346\u001b[0m         \u001b[0mself\u001b[0m\u001b[0;34m.\u001b[0m\u001b[0m_validate_keywords\u001b[0m\u001b[0;34m(\u001b[0m\u001b[0;34m)\u001b[0m\u001b[0;34m\u001b[0m\u001b[0;34m\u001b[0m\u001b[0m\n\u001b[0;32m--> 347\u001b[0;31m         \u001b[0mself\u001b[0m\u001b[0;34m.\u001b[0m\u001b[0m_fit\u001b[0m\u001b[0;34m(\u001b[0m\u001b[0mX\u001b[0m\u001b[0;34m,\u001b[0m \u001b[0mhandle_unknown\u001b[0m\u001b[0;34m=\u001b[0m\u001b[0mself\u001b[0m\u001b[0;34m.\u001b[0m\u001b[0mhandle_unknown\u001b[0m\u001b[0;34m)\u001b[0m\u001b[0;34m\u001b[0m\u001b[0;34m\u001b[0m\u001b[0m\n\u001b[0m\u001b[1;32m    348\u001b[0m         \u001b[0mself\u001b[0m\u001b[0;34m.\u001b[0m\u001b[0mdrop_idx_\u001b[0m \u001b[0;34m=\u001b[0m \u001b[0mself\u001b[0m\u001b[0;34m.\u001b[0m\u001b[0m_compute_drop_idx\u001b[0m\u001b[0;34m(\u001b[0m\u001b[0;34m)\u001b[0m\u001b[0;34m\u001b[0m\u001b[0;34m\u001b[0m\u001b[0m\n\u001b[1;32m    349\u001b[0m         \u001b[0;32mreturn\u001b[0m \u001b[0mself\u001b[0m\u001b[0;34m\u001b[0m\u001b[0;34m\u001b[0m\u001b[0m\n",
            "\u001b[0;32m/usr/local/lib/python3.7/dist-packages/sklearn/preprocessing/_encoders.py\u001b[0m in \u001b[0;36m_fit\u001b[0;34m(self, X, handle_unknown)\u001b[0m\n\u001b[1;32m     72\u001b[0m \u001b[0;34m\u001b[0m\u001b[0m\n\u001b[1;32m     73\u001b[0m     \u001b[0;32mdef\u001b[0m \u001b[0m_fit\u001b[0m\u001b[0;34m(\u001b[0m\u001b[0mself\u001b[0m\u001b[0;34m,\u001b[0m \u001b[0mX\u001b[0m\u001b[0;34m,\u001b[0m \u001b[0mhandle_unknown\u001b[0m\u001b[0;34m=\u001b[0m\u001b[0;34m'error'\u001b[0m\u001b[0;34m)\u001b[0m\u001b[0;34m:\u001b[0m\u001b[0;34m\u001b[0m\u001b[0;34m\u001b[0m\u001b[0m\n\u001b[0;32m---> 74\u001b[0;31m         \u001b[0mX_list\u001b[0m\u001b[0;34m,\u001b[0m \u001b[0mn_samples\u001b[0m\u001b[0;34m,\u001b[0m \u001b[0mn_features\u001b[0m \u001b[0;34m=\u001b[0m \u001b[0mself\u001b[0m\u001b[0;34m.\u001b[0m\u001b[0m_check_X\u001b[0m\u001b[0;34m(\u001b[0m\u001b[0mX\u001b[0m\u001b[0;34m)\u001b[0m\u001b[0;34m\u001b[0m\u001b[0;34m\u001b[0m\u001b[0m\n\u001b[0m\u001b[1;32m     75\u001b[0m \u001b[0;34m\u001b[0m\u001b[0m\n\u001b[1;32m     76\u001b[0m         \u001b[0;32mif\u001b[0m \u001b[0mself\u001b[0m\u001b[0;34m.\u001b[0m\u001b[0mcategories\u001b[0m \u001b[0;34m!=\u001b[0m \u001b[0;34m'auto'\u001b[0m\u001b[0;34m:\u001b[0m\u001b[0;34m\u001b[0m\u001b[0;34m\u001b[0m\u001b[0m\n",
            "\u001b[0;32m/usr/local/lib/python3.7/dist-packages/sklearn/preprocessing/_encoders.py\u001b[0m in \u001b[0;36m_check_X\u001b[0;34m(self, X)\u001b[0m\n\u001b[1;32m     41\u001b[0m         \u001b[0;32mif\u001b[0m \u001b[0;32mnot\u001b[0m \u001b[0;34m(\u001b[0m\u001b[0mhasattr\u001b[0m\u001b[0;34m(\u001b[0m\u001b[0mX\u001b[0m\u001b[0;34m,\u001b[0m \u001b[0;34m'iloc'\u001b[0m\u001b[0;34m)\u001b[0m \u001b[0;32mand\u001b[0m \u001b[0mgetattr\u001b[0m\u001b[0;34m(\u001b[0m\u001b[0mX\u001b[0m\u001b[0;34m,\u001b[0m \u001b[0;34m'ndim'\u001b[0m\u001b[0;34m,\u001b[0m \u001b[0;36m0\u001b[0m\u001b[0;34m)\u001b[0m \u001b[0;34m==\u001b[0m \u001b[0;36m2\u001b[0m\u001b[0;34m)\u001b[0m\u001b[0;34m:\u001b[0m\u001b[0;34m\u001b[0m\u001b[0;34m\u001b[0m\u001b[0m\n\u001b[1;32m     42\u001b[0m             \u001b[0;31m# if not a dataframe, do normal check_array validation\u001b[0m\u001b[0;34m\u001b[0m\u001b[0;34m\u001b[0m\u001b[0;34m\u001b[0m\u001b[0m\n\u001b[0;32m---> 43\u001b[0;31m             \u001b[0mX_temp\u001b[0m \u001b[0;34m=\u001b[0m \u001b[0mcheck_array\u001b[0m\u001b[0;34m(\u001b[0m\u001b[0mX\u001b[0m\u001b[0;34m,\u001b[0m \u001b[0mdtype\u001b[0m\u001b[0;34m=\u001b[0m\u001b[0;32mNone\u001b[0m\u001b[0;34m)\u001b[0m\u001b[0;34m\u001b[0m\u001b[0;34m\u001b[0m\u001b[0m\n\u001b[0m\u001b[1;32m     44\u001b[0m             if (not hasattr(X, 'dtype')\n\u001b[1;32m     45\u001b[0m                     and np.issubdtype(X_temp.dtype, np.str_)):\n",
            "\u001b[0;32m/usr/local/lib/python3.7/dist-packages/sklearn/utils/validation.py\u001b[0m in \u001b[0;36mcheck_array\u001b[0;34m(array, accept_sparse, accept_large_sparse, dtype, order, copy, force_all_finite, ensure_2d, allow_nd, ensure_min_samples, ensure_min_features, warn_on_dtype, estimator)\u001b[0m\n\u001b[1;32m    554\u001b[0m                     \u001b[0;34m\"Reshape your data either using array.reshape(-1, 1) if \"\u001b[0m\u001b[0;34m\u001b[0m\u001b[0;34m\u001b[0m\u001b[0m\n\u001b[1;32m    555\u001b[0m                     \u001b[0;34m\"your data has a single feature or array.reshape(1, -1) \"\u001b[0m\u001b[0;34m\u001b[0m\u001b[0;34m\u001b[0m\u001b[0m\n\u001b[0;32m--> 556\u001b[0;31m                     \"if it contains a single sample.\".format(array))\n\u001b[0m\u001b[1;32m    557\u001b[0m \u001b[0;34m\u001b[0m\u001b[0m\n\u001b[1;32m    558\u001b[0m         \u001b[0;31m# in the future np.flexible dtypes will be handled like object dtypes\u001b[0m\u001b[0;34m\u001b[0m\u001b[0;34m\u001b[0m\u001b[0;34m\u001b[0m\u001b[0m\n",
            "\u001b[0;31mValueError\u001b[0m: Expected 2D array, got 1D array instead:\narray=['RECUPERADO' 'RECUPERADO' 'RECUPERADO' ... 'ACTIVO' 'ACTIVO' 'ACTIVO'].\nReshape your data either using array.reshape(-1, 1) if your data has a single feature or array.reshape(1, -1) if it contains a single sample."
          ]
        }
      ]
    },
    {
      "cell_type": "markdown",
      "metadata": {
        "id": "bklvczk6Zhzr"
      },
      "source": [
        "#Label Encoding"
      ]
    },
    {
      "cell_type": "code",
      "metadata": {
        "id": "cQhgSbu0ZhY-"
      },
      "source": [
        "#from sklearn.preprocessing import LabelEncoder"
      ],
      "execution_count": null,
      "outputs": []
    },
    {
      "cell_type": "code",
      "metadata": {
        "id": "GUxgQHWEatZo"
      },
      "source": [
        "df.columns"
      ],
      "execution_count": null,
      "outputs": []
    },
    {
      "cell_type": "code",
      "metadata": {
        "id": "KYe7xzKbZlfZ",
        "colab": {
          "base_uri": "https://localhost:8080/",
          "height": 712
        },
        "outputId": "db789466-cfaf-46a1-ce87-283f60a94ef6"
      },
      "source": [
        "df['case_location_encoded'] = LabelEncoder().fit_transform(df['case_location'])\n",
        "df[['case_location', 'case_location_encoded']] # special syntax to get just these two columns"
      ],
      "execution_count": null,
      "outputs": [
        {
          "output_type": "error",
          "ename": "TypeError",
          "evalue": "ignored",
          "traceback": [
            "\u001b[0;31m---------------------------------------------------------------------------\u001b[0m",
            "\u001b[0;31mTypeError\u001b[0m                                 Traceback (most recent call last)",
            "\u001b[0;32m/usr/local/lib/python3.7/dist-packages/sklearn/preprocessing/_label.py\u001b[0m in \u001b[0;36m_encode\u001b[0;34m(values, uniques, encode, check_unknown)\u001b[0m\n\u001b[1;32m    111\u001b[0m         \u001b[0;32mtry\u001b[0m\u001b[0;34m:\u001b[0m\u001b[0;34m\u001b[0m\u001b[0;34m\u001b[0m\u001b[0m\n\u001b[0;32m--> 112\u001b[0;31m             \u001b[0mres\u001b[0m \u001b[0;34m=\u001b[0m \u001b[0m_encode_python\u001b[0m\u001b[0;34m(\u001b[0m\u001b[0mvalues\u001b[0m\u001b[0;34m,\u001b[0m \u001b[0muniques\u001b[0m\u001b[0;34m,\u001b[0m \u001b[0mencode\u001b[0m\u001b[0;34m)\u001b[0m\u001b[0;34m\u001b[0m\u001b[0;34m\u001b[0m\u001b[0m\n\u001b[0m\u001b[1;32m    113\u001b[0m         \u001b[0;32mexcept\u001b[0m \u001b[0mTypeError\u001b[0m\u001b[0;34m:\u001b[0m\u001b[0;34m\u001b[0m\u001b[0;34m\u001b[0m\u001b[0m\n",
            "\u001b[0;32m/usr/local/lib/python3.7/dist-packages/sklearn/preprocessing/_label.py\u001b[0m in \u001b[0;36m_encode_python\u001b[0;34m(values, uniques, encode)\u001b[0m\n\u001b[1;32m     59\u001b[0m     \u001b[0;32mif\u001b[0m \u001b[0muniques\u001b[0m \u001b[0;32mis\u001b[0m \u001b[0;32mNone\u001b[0m\u001b[0;34m:\u001b[0m\u001b[0;34m\u001b[0m\u001b[0;34m\u001b[0m\u001b[0m\n\u001b[0;32m---> 60\u001b[0;31m         \u001b[0muniques\u001b[0m \u001b[0;34m=\u001b[0m \u001b[0msorted\u001b[0m\u001b[0;34m(\u001b[0m\u001b[0mset\u001b[0m\u001b[0;34m(\u001b[0m\u001b[0mvalues\u001b[0m\u001b[0;34m)\u001b[0m\u001b[0;34m)\u001b[0m\u001b[0;34m\u001b[0m\u001b[0;34m\u001b[0m\u001b[0m\n\u001b[0m\u001b[1;32m     61\u001b[0m         \u001b[0muniques\u001b[0m \u001b[0;34m=\u001b[0m \u001b[0mnp\u001b[0m\u001b[0;34m.\u001b[0m\u001b[0marray\u001b[0m\u001b[0;34m(\u001b[0m\u001b[0muniques\u001b[0m\u001b[0;34m,\u001b[0m \u001b[0mdtype\u001b[0m\u001b[0;34m=\u001b[0m\u001b[0mvalues\u001b[0m\u001b[0;34m.\u001b[0m\u001b[0mdtype\u001b[0m\u001b[0;34m)\u001b[0m\u001b[0;34m\u001b[0m\u001b[0;34m\u001b[0m\u001b[0m\n",
            "\u001b[0;31mTypeError\u001b[0m: '<' not supported between instances of 'str' and 'float'",
            "\nDuring handling of the above exception, another exception occurred:\n",
            "\u001b[0;31mTypeError\u001b[0m                                 Traceback (most recent call last)",
            "\u001b[0;32m<ipython-input-33-cbaffa623d91>\u001b[0m in \u001b[0;36m<module>\u001b[0;34m()\u001b[0m\n\u001b[0;32m----> 1\u001b[0;31m \u001b[0mdf\u001b[0m\u001b[0;34m[\u001b[0m\u001b[0;34m'case_location_encoded'\u001b[0m\u001b[0;34m]\u001b[0m \u001b[0;34m=\u001b[0m \u001b[0mLabelEncoder\u001b[0m\u001b[0;34m(\u001b[0m\u001b[0;34m)\u001b[0m\u001b[0;34m.\u001b[0m\u001b[0mfit_transform\u001b[0m\u001b[0;34m(\u001b[0m\u001b[0mdf\u001b[0m\u001b[0;34m[\u001b[0m\u001b[0;34m'case_location'\u001b[0m\u001b[0;34m]\u001b[0m\u001b[0;34m)\u001b[0m\u001b[0;34m\u001b[0m\u001b[0;34m\u001b[0m\u001b[0m\n\u001b[0m\u001b[1;32m      2\u001b[0m \u001b[0mdf\u001b[0m\u001b[0;34m[\u001b[0m\u001b[0;34m[\u001b[0m\u001b[0;34m'case_location'\u001b[0m\u001b[0;34m,\u001b[0m \u001b[0;34m'case_location_encoded'\u001b[0m\u001b[0;34m]\u001b[0m\u001b[0;34m]\u001b[0m \u001b[0;31m# special syntax to get just these two columns\u001b[0m\u001b[0;34m\u001b[0m\u001b[0;34m\u001b[0m\u001b[0m\n",
            "\u001b[0;32m/usr/local/lib/python3.7/dist-packages/sklearn/preprocessing/_label.py\u001b[0m in \u001b[0;36mfit_transform\u001b[0;34m(self, y)\u001b[0m\n\u001b[1;32m    250\u001b[0m         \"\"\"\n\u001b[1;32m    251\u001b[0m         \u001b[0my\u001b[0m \u001b[0;34m=\u001b[0m \u001b[0mcolumn_or_1d\u001b[0m\u001b[0;34m(\u001b[0m\u001b[0my\u001b[0m\u001b[0;34m,\u001b[0m \u001b[0mwarn\u001b[0m\u001b[0;34m=\u001b[0m\u001b[0;32mTrue\u001b[0m\u001b[0;34m)\u001b[0m\u001b[0;34m\u001b[0m\u001b[0;34m\u001b[0m\u001b[0m\n\u001b[0;32m--> 252\u001b[0;31m         \u001b[0mself\u001b[0m\u001b[0;34m.\u001b[0m\u001b[0mclasses_\u001b[0m\u001b[0;34m,\u001b[0m \u001b[0my\u001b[0m \u001b[0;34m=\u001b[0m \u001b[0m_encode\u001b[0m\u001b[0;34m(\u001b[0m\u001b[0my\u001b[0m\u001b[0;34m,\u001b[0m \u001b[0mencode\u001b[0m\u001b[0;34m=\u001b[0m\u001b[0;32mTrue\u001b[0m\u001b[0;34m)\u001b[0m\u001b[0;34m\u001b[0m\u001b[0;34m\u001b[0m\u001b[0m\n\u001b[0m\u001b[1;32m    253\u001b[0m         \u001b[0;32mreturn\u001b[0m \u001b[0my\u001b[0m\u001b[0;34m\u001b[0m\u001b[0;34m\u001b[0m\u001b[0m\n\u001b[1;32m    254\u001b[0m \u001b[0;34m\u001b[0m\u001b[0m\n",
            "\u001b[0;32m/usr/local/lib/python3.7/dist-packages/sklearn/preprocessing/_label.py\u001b[0m in \u001b[0;36m_encode\u001b[0;34m(values, uniques, encode, check_unknown)\u001b[0m\n\u001b[1;32m    112\u001b[0m             \u001b[0mres\u001b[0m \u001b[0;34m=\u001b[0m \u001b[0m_encode_python\u001b[0m\u001b[0;34m(\u001b[0m\u001b[0mvalues\u001b[0m\u001b[0;34m,\u001b[0m \u001b[0muniques\u001b[0m\u001b[0;34m,\u001b[0m \u001b[0mencode\u001b[0m\u001b[0;34m)\u001b[0m\u001b[0;34m\u001b[0m\u001b[0;34m\u001b[0m\u001b[0m\n\u001b[1;32m    113\u001b[0m         \u001b[0;32mexcept\u001b[0m \u001b[0mTypeError\u001b[0m\u001b[0;34m:\u001b[0m\u001b[0;34m\u001b[0m\u001b[0;34m\u001b[0m\u001b[0m\n\u001b[0;32m--> 114\u001b[0;31m             \u001b[0;32mraise\u001b[0m \u001b[0mTypeError\u001b[0m\u001b[0;34m(\u001b[0m\u001b[0;34m\"argument must be a string or number\"\u001b[0m\u001b[0;34m)\u001b[0m\u001b[0;34m\u001b[0m\u001b[0;34m\u001b[0m\u001b[0m\n\u001b[0m\u001b[1;32m    115\u001b[0m         \u001b[0;32mreturn\u001b[0m \u001b[0mres\u001b[0m\u001b[0;34m\u001b[0m\u001b[0;34m\u001b[0m\u001b[0m\n\u001b[1;32m    116\u001b[0m     \u001b[0;32melse\u001b[0m\u001b[0;34m:\u001b[0m\u001b[0;34m\u001b[0m\u001b[0;34m\u001b[0m\u001b[0m\n",
            "\u001b[0;31mTypeError\u001b[0m: argument must be a string or number"
          ]
        }
      ]
    },
    {
      "cell_type": "code",
      "metadata": {
        "id": "Ruuo7h5zbh8w"
      },
      "source": [
        "df.head(200)"
      ],
      "execution_count": null,
      "outputs": []
    },
    {
      "cell_type": "code",
      "metadata": {
        "id": "Jg97PUTgfC6t"
      },
      "source": [
        "print(df.dtypes)"
      ],
      "execution_count": null,
      "outputs": []
    },
    {
      "cell_type": "markdown",
      "metadata": {
        "id": "g7lX4VnXwKuC"
      },
      "source": [
        "Statistics # Statistics to develop"
      ]
    }
  ]
}